{
 "cells": [
  {
   "cell_type": "code",
   "execution_count": 4,
   "metadata": {},
   "outputs": [],
   "source": [
    "import pandas as pd\n",
    "import numpy as np\n",
    "from sklearn.svm import SVC\n",
    "from sklearn.metrics import classification_report, confusion_matrix\n",
    "from sklearn import metrics\n",
    "\n",
    "import sys\n",
    "sys.path.append(\"..\")\n",
    "from Functions.UNSW_DF import *"
   ]
  },
  {
   "cell_type": "code",
   "execution_count": 5,
   "id": "ea6d8f08",
   "metadata": {},
   "outputs": [
    {
     "name": "stdout",
     "output_type": "stream",
     "text": [
      "Reading Preprocessed CSV Files..\n",
      "\t Train Shape:  \t (175341, 54)\n",
      "\t Test Shape:  \t (82332, 54)\n",
      "Dataset Loaded!\n",
      "( 1 ) Reading Preprocessed CSV files..\n",
      "\t Training dataset loaded..\n",
      "\t Testing dataset loaded..\n",
      "\n",
      "( 2 ) Loading done, splitting into X and Y..\n",
      "\t ( 2.1 ) x_train Shape:  \t (175341, 53)\n",
      "\t ( 2.2 ) y_train Shape:  \t (175341,)\n",
      "\t ( 2.3 ) x_test Shape:  \t (82332, 53)\n",
      "\t ( 2.4 ) y_test Shape:  \t (82332,)\n",
      "( 3 ) Done!\n",
      "PS! Import with: x_train, x_test, y_train, y_test = XY_import()\n"
     ]
    }
   ],
   "source": [
    "train, test = DF_preprocessed_traintest()\n",
    "X_train, X_test, y_train, y_test = DF_XY()"
   ]
  },
  {
   "cell_type": "code",
   "execution_count": null,
   "metadata": {},
   "outputs": [],
   "source": [
    "train.drop(train.index[10000:175341], axis=0, inplace=True)\n",
    "test.drop(test.index[5000:82332], axis=0, inplace=True)\n",
    "print(f\"Train shape:\\t {train.shape}\\nTest shape:\\t {test.shape}\")"
   ]
  },
  {
   "cell_type": "code",
   "execution_count": null,
   "id": "7013636a",
   "metadata": {},
   "outputs": [],
   "source": [
    "error = []\n",
    "C_value = []\n",
    "accuracy_score = []\n",
    "precision_score = []\n",
    "F1_score = []\n",
    "recall_score = []\n",
    "\n",
    "def SVM_predict(c_start, c_end, svm_kernel, svm_degree):\n",
    "    \"\"\"Predicts an SVM model with given arguments\n",
    "\n",
    "    Args:\n",
    "        c_start (int): C value start\n",
    "        c_end (int): C value end\n",
    "        svm_kernel (string): SVM kernel given in a string format: i.e. linear, poly, rbf\n",
    "        svm_degree (int): default=3, Degree of the polynomial kernel function (‘poly’). Ignored by all other kernels.\n",
    "    \"\"\"\n",
    "    c_start = c_start\n",
    "    c_end += 1\n",
    "    \n",
    "    for c in range(c_start, c_end):\n",
    "        SVM_model = SVC(kernel=svm_kernel, C = c, degree=svm_degree)\n",
    "        SVM_model.fit(X_train, y_train)\n",
    "        pred_i = SVM_model.predict(X_test)\n",
    "        \n",
    "        # Appending values to list\n",
    "        error.append(np.mean(pred_i != y_test))\n",
    "        C_value.append(c)\n",
    "        accuracy_score.append(metrics.accuracy_score(y_test, pred_i))\n",
    "        precision_score.append(metrics.precision_score(y_test, pred_i))\n",
    "        F1_score.append(metrics.f1_score(y_test, pred_i))\n",
    "        recall_score.append(metrics.recall_score(y_test, pred_i))\n",
    "    "
   ]
  },
  {
   "cell_type": "code",
   "execution_count": null,
   "id": "bf78bce0",
   "metadata": {},
   "outputs": [],
   "source": [
    "# Calling the function created above.\n",
    "SVM_predict(c_start=1, c_end=15, svm_kernel=\"rbf\", svm_degree=3)"
   ]
  },
  {
   "cell_type": "code",
   "execution_count": null,
   "id": "1f127f91",
   "metadata": {},
   "outputs": [],
   "source": [
    "# Creating a dataframe and saving to file\n",
    "# dictionary of lists \n",
    "dict = {\n",
    "        'C': C_value, \n",
    "        'accuracy': accuracy_score, \n",
    "        'precision': precision_score,\n",
    "        'F1': F1_score,\n",
    "        'recall': recall_score,\n",
    "        'error': error\n",
    "        }\n",
    "\n",
    "df = pd.DataFrame(dict, index=C_value)\n",
    "df.set_index(\"C\", inplace = True)\n",
    "df"
   ]
  },
  {
   "cell_type": "code",
   "execution_count": null,
   "id": "40e67847",
   "metadata": {},
   "outputs": [],
   "source": [
    "# EXPORT AS CSV when done.\n",
    "df.to_csv('SVM_scores(1-15)_kernel_z.csv')"
   ]
  }
 ],
 "metadata": {
  "interpreter": {
   "hash": "cc5f70855ac006f3de45a3cc3b9e7d8d53845e50458809cb162b0174266dec97"
  },
  "kernelspec": {
   "display_name": "Python 3.8.8 64-bit ('base': conda)",
   "name": "python3"
  },
  "language_info": {
   "codemirror_mode": {
    "name": "ipython",
    "version": 3
   },
   "file_extension": ".py",
   "mimetype": "text/x-python",
   "name": "python",
   "nbconvert_exporter": "python",
   "pygments_lexer": "ipython3",
   "version": "3.8.5"
  }
 },
 "nbformat": 4,
 "nbformat_minor": 5
}