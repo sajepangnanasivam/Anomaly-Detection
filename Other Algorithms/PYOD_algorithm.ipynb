{
 "cells": [
  {
   "cell_type": "code",
   "execution_count": 2,
   "metadata": {},
   "outputs": [],
   "source": [
    "import random\n",
    "import pandas as pd\n",
    "import numpy as np\n",
    "\n",
    "from UNSW_DF import *\n",
    "from pyod.models.abod import ABOD\n",
    "from pyod.utils.data import generate_data"
   ]
  },
  {
   "cell_type": "code",
   "execution_count": 3,
   "metadata": {},
   "outputs": [
    {
     "name": "stdout",
     "output_type": "stream",
     "text": [
      "( 1 ) Reading Preprocessed CSV files..\n",
      "\t Training dataset loaded..\n",
      "\t Testing dataset loaded..\n",
      "\n",
      "( 2 ) Loading done, splitting into X and Y..\n",
      "\t ( 2.1 ) x_train Shape:  \t (175341, 53)\n",
      "\t ( 2.2 ) y_train Shape:  \t (175341,)\n",
      "\t ( 2.3 ) x_test Shape:  \t (82332, 53)\n",
      "\t ( 2.4 ) y_test Shape:  \t (82332,)\n",
      "( 3 ) Done!\n",
      "Import with: x_train, x_test, y_train, y_test = XY_import()\n"
     ]
    }
   ],
   "source": [
    "x_train, x_test, y_train, y_test = XY_import()"
   ]
  },
  {
   "cell_type": "code",
   "execution_count": 4,
   "metadata": {},
   "outputs": [
    {
     "name": "stderr",
     "output_type": "stream",
     "text": [
      "C:\\Users\\Sajepan\\.conda\\envs\\ANN_env\\lib\\site-packages\\pyod\\utils\\data.py:186: FutureWarning: behaviour=\"old\" is deprecated and will be removed in version 0.9.0. Please use behaviour=\"new\", which makes the returned datasets in the order of X_train, X_test, y_train, y_test.\n",
      "  warn('behaviour=\"old\" is deprecated and will be removed '\n"
     ]
    }
   ],
   "source": [
    "X_train, y_train, X_test, y_test = \\\n",
    "        generate_data(n_train=200,\n",
    "                      n_test=100,\n",
    "                      n_features=5,\n",
    "                      contamination=0.1,\n",
    "                      random_state=3) \n",
    "X_train = X_train * np.random.uniform(0, 1, size=X_train.shape)\n",
    "X_test = X_test * np.random.uniform(0,1, size=X_test.shape)"
   ]
  },
  {
   "cell_type": "code",
   "execution_count": 5,
   "metadata": {},
   "outputs": [
    {
     "name": "stdout",
     "output_type": "stream",
     "text": [
      "ABOD ROC:0.8567, precision @ rank n:0.6\n"
     ]
    }
   ],
   "source": [
    "clf_name = 'ABOD'\n",
    "clf = ABOD()\n",
    "clf.fit(X_train)\n",
    "test_scores = clf.decision_function(X_test)\n",
    "\n",
    "from pyod.utils.utility import precision_n_scores\n",
    "from sklearn.metrics import roc_auc_score\n",
    "roc = round(roc_auc_score(y_test, test_scores), ndigits=4)\n",
    "prn = round(precision_n_scores(y_test, test_scores), ndigits=4)\n",
    "print(f'{clf_name} ROC:{roc}, precision @ rank n:{prn}')"
   ]
  },
  {
   "cell_type": "code",
   "execution_count": 7,
   "metadata": {},
   "outputs": [
    {
     "name": "stdout",
     "output_type": "stream",
     "text": [
      "COPOD ROC:0.9578, precision @ rank n:0.9\n"
     ]
    }
   ],
   "source": [
    "from pyod.models.copod import COPOD\n",
    "clf_name = 'COPOD'\n",
    "clf = COPOD()\n",
    "clf.fit(X_train)\n",
    "test_scores = clf.decision_function(X_test)\n",
    "\n",
    "from pyod.utils.utility import precision_n_scores\n",
    "from sklearn.metrics import roc_auc_score\n",
    "roc = round(roc_auc_score(y_test, test_scores), ndigits=4)\n",
    "prn = round(precision_n_scores(y_test, test_scores), ndigits=4)\n",
    "print(f'{clf_name} ROC:{roc}, precision @ rank n:{prn}')"
   ]
  }
 ],
 "metadata": {
  "interpreter": {
   "hash": "010ba4d8274b41423bf68f4f03b0335141da458f8fd5f27ec3988bc5770bd0b7"
  },
  "kernelspec": {
   "display_name": "Python 3.8.12 64-bit ('ANN_env': conda)",
   "name": "python3"
  },
  "language_info": {
   "codemirror_mode": {
    "name": "ipython",
    "version": 3
   },
   "file_extension": ".py",
   "mimetype": "text/x-python",
   "name": "python",
   "nbconvert_exporter": "python",
   "pygments_lexer": "ipython3",
   "version": "3.8.12"
  },
  "orig_nbformat": 4
 },
 "nbformat": 4,
 "nbformat_minor": 2
}
