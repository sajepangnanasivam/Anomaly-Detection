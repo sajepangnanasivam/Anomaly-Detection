{
 "cells": [
  {
   "cell_type": "code",
   "execution_count": null,
   "id": "b79bc24e-2b14-4931-8987-983d49ad68f9",
   "metadata": {},
   "outputs": [],
   "source": [
    "import pandas as pd\n",
    "import seaborn as sns\n",
    "import numpy as np\n",
    "\n",
    "from sklearn.tree import DecisionTreeClassifier\n",
    "from sklearn.model_selection import train_test_split\n",
    "from sklearn import preprocessing\n",
    "from sklearn.feature_selection import RFE\n",
    "from sklearn import metrics\n",
    "from sklearn.model_selection import GridSearchCV\n",
    "from sklearn.metrics import accuracy_score, confusion_matrix"
   ]
  },
  {
   "cell_type": "code",
   "execution_count": null,
   "id": "4ecaa3e6-2116-4052-80af-b29a931d4db5",
   "metadata": {},
   "outputs": [],
   "source": [
    "test = pd.read_csv(\"UNSW_NB15_testing-set.csv\", sep=',', header=0)\n",
    "train = pd.read_csv(\"UNSW_NB15_training-set.csv\", sep=',', header=0)\n",
    "\n",
    "combined_trainTest = pd.concat([train, test]).drop(['id'], axis=1)"
   ]
  },
  {
   "cell_type": "code",
   "execution_count": null,
   "id": "ee62a9a4-1fa7-484f-916c-18529f9cdc4b",
   "metadata": {},
   "outputs": [],
   "source": [
    "combined_trainTest.head()"
   ]
  },
  {
   "cell_type": "code",
   "execution_count": null,
   "id": "9b6b8c8d-a39d-4652-86b7-e44aa2021bda",
   "metadata": {},
   "outputs": [],
   "source": [
    "cols = ['proto', 'service', 'state', 'attack_cat']\n",
    "le = preprocessing.LabelEncoder()\n",
    "\n",
    "combined_trainTest[cols] = combined_trainTest[cols].apply(le.fit_transform)\n",
    "combined_trainTest.head()"
   ]
  },
  {
   "cell_type": "code",
   "execution_count": null,
   "id": "a1e40061-a802-4ef2-a915-779510989f68",
   "metadata": {},
   "outputs": [],
   "source": [
    "X = combined_trainTest.drop(['label'], axis=1)\n",
    "y = combined_trainTest.loc[:, ['label']]\n",
    "\n",
    "X_train, X_test, y_train, y_test = train_test_split(X, y, test_size=.20, random_state=1)"
   ]
  },
  {
   "cell_type": "code",
   "execution_count": null,
   "id": "603609f6-29bc-42b3-acb6-994e15771034",
   "metadata": {},
   "outputs": [],
   "source": [
    "n = 40\n",
    "rfe = RFE(DecisionTreeClassifier(), n).fit(X_train, y_train)\n",
    "\n",
    "di = np.where(rfe.support_==True)[0]\n",
    "list = X_train.columns.values[di]\n",
    "X_train_RFE, X_test_RFE = X_train[list], X_test[list]\n",
    "print('new shape', X_train_RFE.shape)"
   ]
  },
  {
   "cell_type": "code",
   "execution_count": null,
   "id": "da78df64-b2d2-45d9-aa92-b37e108e5c1d",
   "metadata": {},
   "outputs": [],
   "source": [
    "params = {'max_depth': [2,4,6,8,10], \n",
    "          'min_samples_split': [2,3,4], \n",
    "          'min_samples_leaf': [1,2,3,4]}\n",
    "\n",
    "clf = DecisionTreeClassifier()\n",
    "gs = GridSearchCV(estimator=clf, param_grid=params, scoring=\"accuracy\",\n",
    "                cv=10, return_train_score=True, verbose = 1 )\n",
    "gs.fit(X_train_RFE, y_train)\n",
    "\n",
    "gs.best_estimator_.fit(X_train_RFE, y_train)\n",
    "y_pred = gs.best_estimator_.predict(X_test_RFE)\n",
    "y_true = y_test"
   ]
  },
  {
   "cell_type": "code",
   "execution_count": null,
   "id": "39a3f90a-5451-448c-ba60-58575c9caf2e",
   "metadata": {},
   "outputs": [],
   "source": [
    "print(\"Test accuracy:\", metrics.accuracy_score(y_test, y_pred))"
   ]
  },
  {
   "cell_type": "code",
   "execution_count": null,
   "id": "0dcac156-69b2-4b8f-9b49-4ee662abac9b",
   "metadata": {},
   "outputs": [],
   "source": []
  }
 ],
 "metadata": {
  "kernelspec": {
   "display_name": "Python 3 (ipykernel)",
   "language": "python",
   "name": "python3"
  },
  "language_info": {
   "codemirror_mode": {
    "name": "ipython",
    "version": 3
   },
   "file_extension": ".py",
   "mimetype": "text/x-python",
   "name": "python",
   "nbconvert_exporter": "python",
   "pygments_lexer": "ipython3",
   "version": "3.8.5"
  }
 },
 "nbformat": 4,
 "nbformat_minor": 5
}
