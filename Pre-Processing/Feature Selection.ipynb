{
 "cells": [
  {
   "cell_type": "markdown",
   "id": "e79b1176-f39f-4efc-b397-c39e82364f10",
   "metadata": {},
   "source": [
    "# Feature Selection"
   ]
  },
  {
   "cell_type": "markdown",
   "id": "e4c9bc20-879b-4d21-a86f-da0255611abb",
   "metadata": {},
   "source": [
    "https://towardsdatascience.com/5-feature-selection-method-from-scikit-learn-you-should-know-ed4d116e4172"
   ]
  },
  {
   "cell_type": "code",
   "execution_count": 1,
   "id": "b4a1693f-0cec-4ef3-96a4-85e63d6432f9",
   "metadata": {},
   "outputs": [
    {
     "name": "stdout",
     "output_type": "stream",
     "text": [
      "Reading Original CSV Files..\n",
      "\t Train Shape:  \t (175341, 45)\n",
      "\t Test Shape:  \t (82332, 45)\n",
      "Dataset Loaded!\n"
     ]
    }
   ],
   "source": [
    "import pandas as pd\n",
    "import seaborn as sns\n",
    "from sklearn import preprocessing \n",
    "from sklearn.preprocessing import StandardScaler\n",
    "\n",
    "import sys\n",
    "sys.path.append(\"..\")\n",
    "from Functions.UNSW_DF import *\n",
    "\n",
    "train, test = DF_original_traintest()"
   ]
  },
  {
   "cell_type": "code",
   "execution_count": 2,
   "id": "5f87740b",
   "metadata": {},
   "outputs": [],
   "source": [
    "train.drop([\"attack_cat\"], axis=1, inplace = True)\n",
    "test.drop([\"attack_cat\"], axis=1, inplace = True)"
   ]
  },
  {
   "cell_type": "code",
   "execution_count": 5,
   "id": "c8b870d6-2fd8-46fa-b054-0358ae0e7b96",
   "metadata": {},
   "outputs": [],
   "source": [
    "# Defining the columns that need to be label encoded.\n",
    "cols = ['proto', 'service', 'state']\n",
    "le = preprocessing.LabelEncoder()\n",
    "\n",
    "# Label encoding the columns for the test and training set\n",
    "test[cols] = test[cols].apply(le.fit_transform)\n",
    "train[cols] = train[cols].apply(le.fit_transform)"
   ]
  },
  {
   "cell_type": "code",
   "execution_count": 12,
   "id": "456b5c22-b37a-428f-b72e-865d896d1621",
   "metadata": {},
   "outputs": [],
   "source": [
    "X_train, y_train = train.drop([\"label\"], axis=1), train[\"label\"]\n",
    "X_test, y_test = test.drop([\"label\"], axis=1), test[\"label\"]"
   ]
  },
  {
   "cell_type": "code",
   "execution_count": null,
   "id": "c472b72c-3186-402d-a3ff-e62535ded3b4",
   "metadata": {},
   "outputs": [],
   "source": [
    "# OPTIONAL 1: Applying Min Max Scaler on X\n",
    "mm_scaler = preprocessing.MinMaxScaler()\n",
    "X_train_minmax = mm_scaler.fit_transform(X_train)\n",
    "X_test_minmax = mm_scaler.fit_transform(X_test)"
   ]
  },
  {
   "cell_type": "code",
   "execution_count": 13,
   "id": "99156f36-b701-42b7-818d-b446cf214d1a",
   "metadata": {},
   "outputs": [],
   "source": [
    "# OPTIONAL 2: Applying StandardScaler on X\n",
    "ss = StandardScaler()\n",
    "X_train_ss = pd.DataFrame(ss.fit_transform(X_train),columns = X_train.columns)"
   ]
  },
  {
   "cell_type": "markdown",
   "id": "4cface16-2dea-47eb-a9df-db0d34630845",
   "metadata": {},
   "source": [
    "## Recursive Feature Elimination (RFE)"
   ]
  },
  {
   "cell_type": "code",
   "execution_count": 14,
   "id": "8b4f1dd0-93fa-4c80-ba88-5448b315f186",
   "metadata": {},
   "outputs": [],
   "source": [
    "from sklearn.feature_selection import RFE\n",
    "from sklearn.linear_model import LogisticRegression"
   ]
  },
  {
   "cell_type": "code",
   "execution_count": 15,
   "id": "f4ccf4e8-6a60-4658-a3d5-430ec6f679ff",
   "metadata": {},
   "outputs": [],
   "source": [
    "# Selecting the Best important features according to Logistic Regression\n",
    "rfe_selector = RFE(estimator=LogisticRegression(solver='lbfgs', max_iter=500), step = 1, verbose = 1,)"
   ]
  },
  {
   "cell_type": "code",
   "execution_count": 16,
   "id": "aadff80d-58aa-435d-961e-06b9027fd7d2",
   "metadata": {},
   "outputs": [
    {
     "name": "stdout",
     "output_type": "stream",
     "text": [
      "Fitting estimator with 43 features.\n",
      "Fitting estimator with 42 features.\n",
      "Fitting estimator with 41 features.\n",
      "Fitting estimator with 40 features.\n",
      "Fitting estimator with 39 features.\n",
      "Fitting estimator with 38 features.\n",
      "Fitting estimator with 37 features.\n",
      "Fitting estimator with 36 features.\n",
      "Fitting estimator with 35 features.\n",
      "Fitting estimator with 34 features.\n",
      "Fitting estimator with 33 features.\n",
      "Fitting estimator with 32 features.\n",
      "Fitting estimator with 31 features.\n",
      "Fitting estimator with 30 features.\n",
      "Fitting estimator with 29 features.\n",
      "Fitting estimator with 28 features.\n",
      "Fitting estimator with 27 features.\n",
      "Fitting estimator with 26 features.\n",
      "Fitting estimator with 25 features.\n",
      "Fitting estimator with 24 features.\n",
      "Fitting estimator with 23 features.\n",
      "Fitting estimator with 22 features.\n"
     ]
    }
   ],
   "source": [
    "rfe_fit = rfe_selector.fit(X_train_ss, y_train)"
   ]
  },
  {
   "cell_type": "code",
   "execution_count": 17,
   "id": "011ccfbe-88e6-480e-a93c-18323a335de9",
   "metadata": {},
   "outputs": [
    {
     "data": {
      "text/plain": [
       "Index(['id', 'proto', 'service', 'state', 'dpkts', 'dbytes', 'sttl', 'dttl',\n",
       "       'dload', 'dloss', 'sinpkt', 'swin', 'dwin', 'synack', 'dmean',\n",
       "       'ct_state_ttl', 'ct_src_dport_ltm', 'ct_dst_sport_ltm',\n",
       "       'ct_dst_src_ltm', 'ct_srv_dst', 'is_sm_ips_ports'],\n",
       "      dtype='object')"
      ]
     },
     "execution_count": 17,
     "metadata": {},
     "output_type": "execute_result"
    }
   ],
   "source": [
    "X_train_ss.columns[rfe_selector.get_support()]"
   ]
  },
  {
   "cell_type": "code",
   "execution_count": 18,
   "id": "0f04b48a-6630-4feb-a319-3bf74eb358bc",
   "metadata": {},
   "outputs": [
    {
     "name": "stdout",
     "output_type": "stream",
     "text": [
      "Num Features: 21\n",
      "Selected Features: [ True False  True  True  True False  True False  True False  True  True\n",
      " False  True False  True  True False False False  True False False  True\n",
      " False  True False False  True False False False  True False  True  True\n",
      "  True False False False False  True  True]\n",
      "Feature Ranking: [ 1 15  1  1  1  5  1 17  1 22  1  1 20  1  4  1  1 13 14  8  1 19 21  1\n",
      "  9  1 10  6  1 23 18  2  1  3  1  1  1  7 11 16 12  1  1]\n"
     ]
    }
   ],
   "source": [
    "print(\"Num Features: %d\" % rfe_fit.n_features_)\n",
    "print(\"Selected Features: %s\" % rfe_fit.support_)\n",
    "print(\"Feature Ranking: %s\" % rfe_fit.ranking_,)"
   ]
  },
  {
   "cell_type": "markdown",
   "id": "d308e6d2-b2d6-4b70-8935-3079b1d2956f",
   "metadata": {
    "tags": []
   },
   "source": [
    "## Univariate Feature Selection with SelectKBest"
   ]
  },
  {
   "cell_type": "code",
   "execution_count": null,
   "id": "e9c55b1f-fa14-4133-ae65-2836ecadcb57",
   "metadata": {},
   "outputs": [],
   "source": [
    "from sklearn.feature_selection import SelectKBest, mutual_info_regression"
   ]
  },
  {
   "cell_type": "code",
   "execution_count": null,
   "id": "4b6d901a-0029-408c-8cb7-ae2c34646a99",
   "metadata": {},
   "outputs": [],
   "source": [
    "# Select top \"all\" features based on mutual info regression\n",
    "selector = SelectKBest(mutual_info_regression, k = \"all\")\n",
    "selector.fit(X_train_ss, y_train)\n",
    "X_train_ss.columns[selector.get_support()]"
   ]
  },
  {
   "cell_type": "markdown",
   "id": "0b0330cb-f7fb-4751-9dd5-50a380840de0",
   "metadata": {},
   "source": [
    "## Sequential Feature Selection (SFS)"
   ]
  },
  {
   "cell_type": "code",
   "execution_count": null,
   "id": "eb1cc0dc-8095-471a-8cc3-cbc41e9959a3",
   "metadata": {},
   "outputs": [],
   "source": [
    "from sklearn.feature_selection import SequentialFeatureSelector\n",
    "from sklearn.linear_model import LogisticRegression"
   ]
  },
  {
   "cell_type": "code",
   "execution_count": null,
   "id": "f7d410bf-38ad-46d2-aac8-3df8e3551852",
   "metadata": {},
   "outputs": [],
   "source": [
    "#Selecting the Best important features according to Logistic Regression\n",
    "sfs_selector = SequentialFeatureSelector(estimator=LogisticRegression(max_iter=100, verbose=1, n_jobs=-1), cv =10, direction ='backward')"
   ]
  },
  {
   "cell_type": "code",
   "execution_count": null,
   "id": "baca576b",
   "metadata": {},
   "outputs": [],
   "source": [
    "sfs_selector.fit(X_train_ss, y_train)"
   ]
  },
  {
   "cell_type": "code",
   "execution_count": null,
   "id": "7e167bbc-8222-4e95-bea2-0d251eda81be",
   "metadata": {},
   "outputs": [],
   "source": [
    "X_train_ss.columns[sfs_selector.get_support()]"
   ]
  },
  {
   "cell_type": "markdown",
   "id": "53cc88df-b919-4a57-a59e-878620de3a13",
   "metadata": {},
   "source": [
    "## Testing"
   ]
  },
  {
   "cell_type": "code",
   "execution_count": null,
   "id": "01dbd423-a3e0-41fd-aa8e-ab8d06381258",
   "metadata": {},
   "outputs": [],
   "source": [
    "from sklearn.feature_selection import RFE\n",
    "from sklearn.linear_model import LogisticRegression"
   ]
  },
  {
   "cell_type": "code",
   "execution_count": null,
   "id": "5d269ed4-d3a3-42c5-b85c-95caff77cf9f",
   "metadata": {},
   "outputs": [],
   "source": [
    "# feature extraction\n",
    "model = LogisticRegression(solver='lbfgs')\n",
    "rfe = RFE(model, 3)\n",
    "fit = rfe.fit(X_train, y_train)"
   ]
  }
 ],
 "metadata": {
  "interpreter": {
   "hash": "e806ced9ecfb40b02ab47568795ac9dcbe40749bdb5814bad29b2f2147c6506f"
  },
  "kernelspec": {
   "display_name": "Python 3.8.5 64-bit ('MasterThesisGPU': conda)",
   "name": "python3"
  },
  "language_info": {
   "codemirror_mode": {
    "name": "ipython",
    "version": 3
   },
   "file_extension": ".py",
   "mimetype": "text/x-python",
   "name": "python",
   "nbconvert_exporter": "python",
   "pygments_lexer": "ipython3",
   "version": "3.8.5"
  }
 },
 "nbformat": 4,
 "nbformat_minor": 5
}
