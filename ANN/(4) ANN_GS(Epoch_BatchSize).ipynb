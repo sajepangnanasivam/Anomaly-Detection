{
 "cells": [
  {
   "cell_type": "code",
   "execution_count": 1,
   "metadata": {},
   "outputs": [
    {
     "name": "stdout",
     "output_type": "stream",
     "text": [
      "( 1 ) Reading Preprocessed CSV files..\n",
      "\t Training dataset loaded..\n",
      "\t Testing dataset loaded..\n",
      "\n",
      "( 2 ) Loading done, splitting into X and Y..\n",
      "\t ( 2.1 ) x_train Shape:  \t (175341, 53)\n",
      "\t ( 2.2 ) y_train Shape:  \t (175341,)\n",
      "\t ( 2.3 ) x_test Shape:  \t (82332, 53)\n",
      "\t ( 2.4 ) y_test Shape:  \t (82332,)\n",
      "( 3 ) Done!\n",
      "Import with: x_train, x_test, y_train, y_test = XY_import()\n"
     ]
    }
   ],
   "source": [
    "import pandas as pd\n",
    "import numpy as np\n",
    "from sklearn.model_selection import GridSearchCV\n",
    "from keras.models import Sequential\n",
    "from keras.layers import Dense\n",
    "from keras.wrappers.scikit_learn import KerasClassifier\n",
    "from UNSW_DF import *\n",
    "x_train, x_test, y_train, y_test = XY_import()"
   ]
  },
  {
   "cell_type": "code",
   "execution_count": 2,
   "metadata": {},
   "outputs": [],
   "source": [
    "def create_model():\n",
    "    # create model\n",
    "\tmodel = Sequential()\n",
    "\tmodel.add(Dense(12, input_dim=53, activation='relu'))\n",
    "\tmodel.add(Dense(1, activation='sigmoid'))\n",
    "\t# Compile model\n",
    "\tmodel.compile(loss='binary_crossentropy', optimizer='adam', metrics=['accuracy'])\n",
    "\treturn model"
   ]
  },
  {
   "cell_type": "code",
   "execution_count": 3,
   "metadata": {},
   "outputs": [],
   "source": [
    "# fix random seed for reproducibility\n",
    "seed = 7\n",
    "np.random.seed(seed)"
   ]
  },
  {
   "cell_type": "code",
   "execution_count": 4,
   "metadata": {},
   "outputs": [],
   "source": [
    "# create model\n",
    "model = KerasClassifier(build_fn=create_model, verbose=1)"
   ]
  },
  {
   "cell_type": "code",
   "execution_count": 5,
   "metadata": {},
   "outputs": [
    {
     "name": "stdout",
     "output_type": "stream",
     "text": [
      "Epoch 1/10\n",
      "1754/1754 [==============================] - 1s 715us/step - loss: 0.1791 - accuracy: 0.9287\n",
      "Epoch 2/10\n",
      "1754/1754 [==============================] - 1s 712us/step - loss: 0.1313 - accuracy: 0.9375\n",
      "Epoch 3/10\n",
      "1754/1754 [==============================] - 1s 780us/step - loss: 0.1255 - accuracy: 0.9392\n",
      "Epoch 4/10\n",
      "1754/1754 [==============================] - 1s 743us/step - loss: 0.1232 - accuracy: 0.9405\n",
      "Epoch 5/10\n",
      "1754/1754 [==============================] - 1s 740us/step - loss: 0.1220 - accuracy: 0.9408\n",
      "Epoch 6/10\n",
      "1754/1754 [==============================] - 1s 750us/step - loss: 0.1209 - accuracy: 0.9416\n",
      "Epoch 7/10\n",
      "1754/1754 [==============================] - 1s 739us/step - loss: 0.1204 - accuracy: 0.9416\n",
      "Epoch 8/10\n",
      "1754/1754 [==============================] - 1s 718us/step - loss: 0.1196 - accuracy: 0.9417\n",
      "Epoch 9/10\n",
      "1754/1754 [==============================] - 1s 721us/step - loss: 0.1191 - accuracy: 0.9420\n",
      "Epoch 10/10\n",
      "1754/1754 [==============================] - 1s 718us/step - loss: 0.1187 - accuracy: 0.9422\n"
     ]
    }
   ],
   "source": [
    "# define the grid search parameters\n",
    "batch_size = [10, 20, 40, 60, 80, 100]\n",
    "epochs = [10, 50, 100]\n",
    "param_grid = dict(batch_size=batch_size, epochs=epochs)\n",
    "grid = GridSearchCV(estimator=model, param_grid=param_grid, n_jobs=-1, cv=3)\n",
    "grid_result = grid.fit(x_train, y_train)"
   ]
  },
  {
   "cell_type": "code",
   "execution_count": 6,
   "metadata": {},
   "outputs": [
    {
     "name": "stdout",
     "output_type": "stream",
     "text": [
      "Best: 0.727331 using {'batch_size': 100, 'epochs': 10}\n",
      "0.667317 (0.296751) with: {'batch_size': 10, 'epochs': 10}\n",
      "0.694652 (0.343681) with: {'batch_size': 10, 'epochs': 50}\n",
      "0.664066 (0.311512) with: {'batch_size': 10, 'epochs': 100}\n",
      "0.579055 (0.276724) with: {'batch_size': 20, 'epochs': 10}\n",
      "0.689730 (0.342698) with: {'batch_size': 20, 'epochs': 50}\n",
      "0.692890 (0.344960) with: {'batch_size': 20, 'epochs': 100}\n",
      "0.703806 (0.326990) with: {'batch_size': 40, 'epochs': 10}\n",
      "0.678575 (0.320396) with: {'batch_size': 40, 'epochs': 50}\n",
      "0.697133 (0.346217) with: {'batch_size': 40, 'epochs': 100}\n",
      "0.706897 (0.341676) with: {'batch_size': 60, 'epochs': 10}\n",
      "0.700042 (0.344774) with: {'batch_size': 60, 'epochs': 50}\n",
      "0.695006 (0.341003) with: {'batch_size': 60, 'epochs': 100}\n",
      "0.705585 (0.341500) with: {'batch_size': 80, 'epochs': 10}\n",
      "0.686850 (0.326215) with: {'batch_size': 80, 'epochs': 50}\n",
      "0.692434 (0.339256) with: {'batch_size': 80, 'epochs': 100}\n",
      "0.727331 (0.313010) with: {'batch_size': 100, 'epochs': 10}\n",
      "0.722529 (0.315054) with: {'batch_size': 100, 'epochs': 50}\n",
      "0.699380 (0.345298) with: {'batch_size': 100, 'epochs': 100}\n"
     ]
    }
   ],
   "source": [
    "# summarize results\n",
    "print(\"Best: %f using %s\" % (grid_result.best_score_, grid_result.best_params_))\n",
    "means = grid_result.cv_results_['mean_test_score']\n",
    "stds = grid_result.cv_results_['std_test_score']\n",
    "params = grid_result.cv_results_['params']\n",
    "for mean, stdev, param in zip(means, stds, params):\n",
    "    print(\"%f (%f) with: %r\" % (mean, stdev, param))"
   ]
  },
  {
   "cell_type": "code",
   "execution_count": null,
   "metadata": {},
   "outputs": [],
   "source": []
  }
 ],
 "metadata": {
  "interpreter": {
   "hash": "010ba4d8274b41423bf68f4f03b0335141da458f8fd5f27ec3988bc5770bd0b7"
  },
  "kernelspec": {
   "display_name": "Python 3.8.12 64-bit ('ANN_env': conda)",
   "name": "python3"
  },
  "language_info": {
   "codemirror_mode": {
    "name": "ipython",
    "version": 3
   },
   "file_extension": ".py",
   "mimetype": "text/x-python",
   "name": "python",
   "nbconvert_exporter": "python",
   "pygments_lexer": "ipython3",
   "version": "3.8.12"
  },
  "orig_nbformat": 4
 },
 "nbformat": 4,
 "nbformat_minor": 2
}
