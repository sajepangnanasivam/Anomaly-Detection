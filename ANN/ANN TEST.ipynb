{
 "cells": [
  {
   "cell_type": "code",
   "execution_count": 11,
   "metadata": {},
   "outputs": [],
   "source": [
    "# For data manipulatino\n",
    "import pandas as pd\n",
    "import numpy as np\n",
    "from numpy import argmax\n",
    "import tensorflow as tf\n",
    "\n",
    "# Functions import\n",
    "import sys\n",
    "sys.path.append(\"..\")\n",
    "from Functions.UNSW_DF import *\n",
    "\n",
    "\n",
    "# Model\n",
    "import keras\n",
    "import keras.backend as K\n",
    "from keras.models import Sequential\n",
    "from keras.layers import Dense, Dropout, LeakyReLU, Flatten\n"
   ]
  },
  {
   "cell_type": "code",
   "execution_count": 12,
   "metadata": {},
   "outputs": [
    {
     "name": "stdout",
     "output_type": "stream",
     "text": [
      "( 1 ) Reading Preprocessed CSV files..\n",
      "\t Training dataset loaded..\n",
      "\t Testing dataset loaded..\n",
      "\n",
      "( 2 ) Loading done, splitting into X and Y..\n",
      "\t ( 2.1 ) x_train Shape:  \t (175341, 53)\n",
      "\t ( 2.2 ) y_train Shape:  \t (175341,)\n",
      "\t ( 2.3 ) x_test Shape:  \t (82332, 53)\n",
      "\t ( 2.4 ) y_test Shape:  \t (82332,)\n",
      "( 3 ) Done!\n",
      "PS! Import with: x_train, x_test, y_train, y_test = XY_import()\n"
     ]
    }
   ],
   "source": [
    "# Importing X and Y from function file\n",
    "x_train, x_test, y_train, y_test = XY_import()"
   ]
  },
  {
   "cell_type": "code",
   "execution_count": null,
   "metadata": {},
   "outputs": [],
   "source": [
    "# The function takes in the dataset, model build and model name as input.\n",
    "def predict_model(x_train, y_train, x_test, y_test, model, model_name):\n",
    "    # Printing the name of the model\n",
    "    print(\"( 1 ) Running: \", model_name)\n",
    "\n",
    "    # Predicting the training dataset\n",
    "    print(\"( 2 ) Predicting on train..\")\n",
    "    train = model.predict(x_train)\n",
    "    train_scores = model.evaluate(x_train, y_train, verbose=0)\n",
    "    print('\\tAccuracy on training data: \\t{}%'.format(train_scores[1]))\n",
    "    print('\\tError on training data: \\t{}'.format(1 - train_scores[1]), \"\\n\")\n",
    "\n",
    "    # Predicting the testing dataset\n",
    "    print(\"( 3 ) Predicting on test..\")\n",
    "    test = model.predict(x_test)\n",
    "    test_scores = model.evaluate(x_test, y_test, verbose=0)\n",
    "    print('\\tAccuracy on testing data: \\t{}%'.format(test_scores[1]))\n",
    "    print('\\tError on testing data: \\t\\t{}'.format(1 - test_scores[1]), \"\\n\")\n",
    "    print(\"( 4 ) Done!\")\n",
    "    # print('Accuracy on training data: \\t{}% \\n Error on training data: \\t{}'.format(train_scores[1], 1 - train_scores[1]), \"\\n\\t\", \"Done!\",\"\\n\"\n",
    "    # print('Accuracy on test data: \\t\\t{}% \\n Error on test data: \\t\\t{}'.format(test_scores[1], 1 - test_scores[1]), \"\\n\", \"Done!\")\n"
   ]
  },
  {
   "cell_type": "code",
   "execution_count": null,
   "metadata": {},
   "outputs": [],
   "source": [
    "# Building the model\n",
    "model_RELU = Sequential()\n",
    "model_RELU.add(Dense(50, input_dim=53, activation='relu'))\n",
    "model_RELU.add(Dense(40, activation='relu'))\n",
    "model_RELU.add(Dense(30, activation='relu'))\n",
    "model_RELU.add(Dense(15, activation='relu'))\n",
    "model_RELU.add(Dense(8, activation='relu'))\n",
    "model_RELU.add(Dense(1, activation='sigmoid'))"
   ]
  },
  {
   "cell_type": "code",
   "execution_count": null,
   "metadata": {},
   "outputs": [],
   "source": [
    "# Compiling the model\n",
    "model_RELU.compile(loss='binary_crossentropy', optimizer='adam', metrics=['accuracy'])"
   ]
  },
  {
   "cell_type": "code",
   "execution_count": null,
   "metadata": {},
   "outputs": [],
   "source": [
    "# Fitting the model\n",
    "model_RELU.fit(x_train, y_train, epochs=5, batch_size=100, verbose=1)"
   ]
  },
  {
   "cell_type": "code",
   "execution_count": null,
   "metadata": {},
   "outputs": [],
   "source": [
    "predict_model(x_train, y_train, x_test, y_test, model_RELU, model_name=\"RELU\")"
   ]
  },
  {
   "cell_type": "code",
   "execution_count": null,
   "metadata": {},
   "outputs": [],
   "source": [
    "model_name = \"Relu Activation Function\"\n",
    "# Prediction Score for training set\n",
    "Relu_train = model_RELU.predict(x_train)\n",
    "scores = model_RELU.evaluate(x_train, y_train, verbose=0)\n",
    "print('(Relu)Accuracy on training data: \\t{}% \\n Error on training data: \\t{}'.format(scores[1], 1 - scores[1]))\n",
    "\n",
    "# Prediction Score for testing set\n",
    "Relu_test = model_RELU.predict(x_test)\n",
    "scores2 = model_RELU.evaluate(x_test, y_test, verbose=0)\n",
    "print('(Relu)Accuracy on test data: \\t\\t{}% \\n Error on test data: \\t\\t{}'.format(scores2[1], 1 - scores2[1])) "
   ]
  },
  {
   "cell_type": "code",
   "execution_count": null,
   "metadata": {},
   "outputs": [],
   "source": []
  },
  {
   "cell_type": "code",
   "execution_count": null,
   "metadata": {},
   "outputs": [],
   "source": []
  }
 ],
 "metadata": {
  "interpreter": {
   "hash": "010ba4d8274b41423bf68f4f03b0335141da458f8fd5f27ec3988bc5770bd0b7"
  },
  "kernelspec": {
   "display_name": "Python 3.8.12 64-bit ('ANN_env': conda)",
   "name": "python3"
  },
  "language_info": {
   "codemirror_mode": {
    "name": "ipython",
    "version": 3
   },
   "file_extension": ".py",
   "mimetype": "text/x-python",
   "name": "python",
   "nbconvert_exporter": "python",
   "pygments_lexer": "ipython3",
   "version": "3.8.12"
  },
  "orig_nbformat": 4
 },
 "nbformat": 4,
 "nbformat_minor": 2
}
