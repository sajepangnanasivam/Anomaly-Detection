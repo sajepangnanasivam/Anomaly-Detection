{
 "cells": [
  {
   "cell_type": "code",
   "execution_count": 1,
   "metadata": {},
   "outputs": [
    {
     "name": "stdout",
     "output_type": "stream",
     "text": [
      "( 1 ) Reading Preprocessed CSV files..\n",
      "\t Training dataset loaded..\n",
      "\t Testing dataset loaded..\n",
      "\n",
      "( 2 ) Loading done, splitting into X and Y..\n",
      "\t ( 2.1 ) x_train Shape:  \t (175341, 53)\n",
      "\t ( 2.2 ) y_train Shape:  \t (175341,)\n",
      "\t ( 2.3 ) x_test Shape:  \t (82332, 53)\n",
      "\t ( 2.4 ) y_test Shape:  \t (82332,)\n",
      "( 3 ) Done!\n",
      "PS! Import with: x_train, x_test, y_train, y_test = XY_import()\n",
      "Reading Preprocessed CSV Files..\n",
      "\t Train Shape:  \t (175341, 54)\n",
      "\t Test Shape:  \t (82332, 54)\n",
      "Dataset Loaded!\n"
     ]
    }
   ],
   "source": [
    "# Importing  dataset\n",
    "import sys\n",
    "sys.path.append(\"..\")\n",
    "from Functions.UNSW_DF import *\n",
    "import numpy as np\n",
    "x_train, x_test, y_train, y_test = DF_XY()\n",
    "train, test = DF_preprocessed_traintest()"
   ]
  },
  {
   "cell_type": "code",
   "execution_count": 2,
   "metadata": {},
   "outputs": [
    {
     "name": "stdout",
     "output_type": "stream",
     "text": [
      "Shape of first data:\t (175341, 53) \n",
      "Shape of second data:\t (175341,)\n"
     ]
    }
   ],
   "source": [
    "#Independent variables\n",
    "input_set = np.array(x_train)\n",
    "labels = np.array(y_train)\n",
    "DF_print_shape(input_set, labels)"
   ]
  },
  {
   "cell_type": "code",
   "execution_count": 3,
   "metadata": {},
   "outputs": [],
   "source": [
    "np.random.seed(42)\n",
    "weights = np.random.rand(53,1)\n",
    "bias = np.random.rand(1)\n",
    "lr = 0.05 #learning rate"
   ]
  },
  {
   "cell_type": "code",
   "execution_count": 4,
   "metadata": {},
   "outputs": [],
   "source": [
    "def sigmoid(x):\n",
    "    return 1/(1+np.exp(-x))\n",
    "\n",
    "def sigmoid_derivative(x):\n",
    "    return sigmoid(x)*(1-sigmoid(x))"
   ]
  },
  {
   "cell_type": "code",
   "execution_count": 5,
   "metadata": {},
   "outputs": [],
   "source": [
    "for epoch in range(20):\n",
    "    inputs = input_set\n",
    "    XW = np.dot(inputs, weights)+ bias\n",
    "    z = sigmoid(XW)\n",
    "    error = z - labels\n",
    "    print(error.sum())\n",
    "    dcost = error\n",
    "    dpred = sigmoid_derivative(z)\n",
    "    z_del = dcost * dpred\n",
    "    inputs = input_set.T\n",
    "    weights = weights - lr*np.dot(inputs, z_del)\n",
    "    \n",
    "    for num in z_del:\n",
    "        bias = bias - lr*num"
   ]
  },
  {
   "cell_type": "code",
   "execution_count": null,
   "metadata": {},
   "outputs": [],
   "source": []
  }
 ],
 "metadata": {
  "interpreter": {
   "hash": "557f7a76709d809d5a6b0728b55d2b66cdd1850049e35147309670e9cf1c5b51"
  },
  "kernelspec": {
   "display_name": "Python 3.8.12 64-bit ('MastersThesis': conda)",
   "name": "python3"
  },
  "language_info": {
   "codemirror_mode": {
    "name": "ipython",
    "version": 3
   },
   "file_extension": ".py",
   "mimetype": "text/x-python",
   "name": "python",
   "nbconvert_exporter": "python",
   "pygments_lexer": "ipython3",
   "version": "3.8.12"
  },
  "orig_nbformat": 4
 },
 "nbformat": 4,
 "nbformat_minor": 2
}
