{
 "cells": [
  {
   "cell_type": "markdown",
   "metadata": {},
   "source": [
    "# ANN Scratch 2 (No hidden layers)"
   ]
  },
  {
   "cell_type": "code",
   "execution_count": 22,
   "metadata": {},
   "outputs": [],
   "source": [
    "\n",
    "# Importing  dataset\n",
    "import sys\n",
    "sys.path.append(\"..\")\n",
    "from Functions.UNSW_DF import *"
   ]
  },
  {
   "cell_type": "code",
   "execution_count": 2,
   "metadata": {},
   "outputs": [],
   "source": [
    "import numpy"
   ]
  },
  {
   "cell_type": "code",
   "execution_count": 5,
   "metadata": {},
   "outputs": [
    {
     "name": "stdout",
     "output_type": "stream",
     "text": [
      "( 1 ) Reading Preprocessed CSV files..\n",
      "\t Training dataset loaded..\n",
      "\t Testing dataset loaded..\n",
      "\n",
      "( 2 ) Loading done, splitting into X and Y..\n",
      "\t ( 2.1 ) x_train Shape:  \t (175341, 53)\n",
      "\t ( 2.2 ) y_train Shape:  \t (175341,)\n",
      "\t ( 2.3 ) x_test Shape:  \t (82332, 53)\n",
      "\t ( 2.4 ) y_test Shape:  \t (82332,)\n",
      "( 3 ) Done!\n",
      "PS! Import with: x_train, x_test, y_train, y_test = XY_import()\n"
     ]
    }
   ],
   "source": [
    "x_train, x_test, y_train, y_test = DF_XY()"
   ]
  },
  {
   "cell_type": "code",
   "execution_count": 15,
   "metadata": {},
   "outputs": [],
   "source": [
    "x_train = x_train[:100]\n",
    "y_train = y_train[:100]"
   ]
  },
  {
   "cell_type": "code",
   "execution_count": 16,
   "metadata": {},
   "outputs": [],
   "source": [
    "def sigmoid(x):\n",
    "    \"\"\"Sigmoid function for the Neuron\n",
    "\n",
    "    Returns:\n",
    "        float: calculation from sigmoid function\n",
    "    \"\"\"\n",
    "    return 1/ (1 + np.exp(-x))\n",
    "\n",
    "def sigmoid_derivative(x):\n",
    "    return x * (1 - x)    \n"
   ]
  },
  {
   "cell_type": "code",
   "execution_count": 17,
   "metadata": {},
   "outputs": [
    {
     "name": "stdout",
     "output_type": "stream",
     "text": [
      "Shape of input data:\t (100, 53) \n",
      "Shape of output data:\t (100,)\n"
     ]
    }
   ],
   "source": [
    "training_inputs = np.array(x_train, dtype=\"float16\")\n",
    "training_outputs = np.array(y_train, dtype=\"float16\")\n",
    "\n",
    "print(f\"Shape of input data:\\t {training_inputs.shape} \\nShape of output data:\\t {training_outputs.shape}\")"
   ]
  },
  {
   "cell_type": "code",
   "execution_count": 18,
   "metadata": {},
   "outputs": [
    {
     "data": {
      "text/plain": [
       "array([[ 0.    ,  0.    ,  0.911 , ..., -0.7056, -0.1459, -0.3142],\n",
       "       [ 0.    ,  0.    ,  1.558 , ..., -0.6143,  0.1929,  3.8   ],\n",
       "       [ 0.    ,  0.    ,  1.473 , ..., -0.523 ,  2.664 ,  2.709 ],\n",
       "       ...,\n",
       "       [ 0.    ,  0.    ,  1.83  , ..., -0.6143, 49.    ,  0.2161],\n",
       "       [ 0.    ,  0.    , -0.7153, ...,  4.953 , -0.1488, -0.4807],\n",
       "       [ 0.    ,  0.    , -0.7153, ...,  4.953 , -0.1488, -0.4807]],\n",
       "      dtype=float16)"
      ]
     },
     "execution_count": 18,
     "metadata": {},
     "output_type": "execute_result"
    }
   ],
   "source": [
    "training_inputs"
   ]
  },
  {
   "cell_type": "code",
   "execution_count": 19,
   "metadata": {},
   "outputs": [
    {
     "data": {
      "text/plain": [
       "0.058"
      ]
     },
     "execution_count": 19,
     "metadata": {},
     "output_type": "execute_result"
    }
   ],
   "source": [
    "training_inputs[3][2]"
   ]
  },
  {
   "cell_type": "code",
   "execution_count": 20,
   "metadata": {},
   "outputs": [
    {
     "name": "stdout",
     "output_type": "stream",
     "text": [
      "Random starting synaptic weights:\t [[-0.166  ]\n",
      " [ 0.4407 ]\n",
      " [-1.     ]\n",
      " [-0.3953 ]\n",
      " [-0.7065 ]\n",
      " [-0.8154 ]\n",
      " [-0.6274 ]\n",
      " [-0.3088 ]\n",
      " [-0.2064 ]\n",
      " [ 0.07764]\n",
      " [-0.1616 ]\n",
      " [ 0.3704 ]\n",
      " [-0.5913 ]\n",
      " [ 0.7563 ]\n",
      " [-0.9453 ]\n",
      " [ 0.3408 ]\n",
      " [-0.1654 ]\n",
      " [ 0.1174 ]\n",
      " [-0.719  ]\n",
      " [-0.604  ]\n",
      " [ 0.6016 ]\n",
      " [ 0.9365 ]\n",
      " [-0.373  ]\n",
      " [ 0.3848 ]\n",
      " [ 0.753  ]\n",
      " [ 0.789  ]\n",
      " [-0.83   ]\n",
      " [-0.922  ]\n",
      " [-0.66   ]\n",
      " [ 0.7563 ]\n",
      " [-0.803  ]\n",
      " [-0.1578 ]\n",
      " [ 0.916  ]\n",
      " [ 0.06635]\n",
      " [ 0.3838 ]\n",
      " [-0.369  ]\n",
      " [ 0.373  ]\n",
      " [ 0.6694 ]\n",
      " [-0.9634 ]\n",
      " [ 0.5005 ]\n",
      " [ 0.9775 ]\n",
      " [ 0.4963 ]\n",
      " [-0.4392 ]\n",
      " [ 0.5786 ]\n",
      " [-0.7935 ]\n",
      " [-0.1042 ]\n",
      " [ 0.8174 ]\n",
      " [-0.4128 ]\n",
      " [-0.4246 ]\n",
      " [-0.7397 ]\n",
      " [-0.9614 ]\n",
      " [ 0.3577 ]\n",
      " [-0.5767 ]]\n"
     ]
    }
   ],
   "source": [
    "np.random.seed(1)\n",
    "\n",
    "synaptic_weights = (2 * np.random.random((53, 1)) - 1).astype(\"float16\")\n",
    "\n",
    "print(f\"Random starting synaptic weights:\\t {synaptic_weights}\")"
   ]
  },
  {
   "cell_type": "code",
   "execution_count": 21,
   "metadata": {},
   "outputs": [
    {
     "ename": "ValueError",
     "evalue": "non-broadcastable output operand with shape (53,1) doesn't match the broadcast shape (53,100)",
     "output_type": "error",
     "traceback": [
      "\u001b[0;31m---------------------------------------------------------------------------\u001b[0m",
      "\u001b[0;31mValueError\u001b[0m                                Traceback (most recent call last)",
      "\u001b[0;32m/var/folders/kn/x1tp4xkn1sz0h6xy3b_79_fh0000gn/T/ipykernel_14863/474229803.py\u001b[0m in \u001b[0;36m<module>\u001b[0;34m\u001b[0m\n\u001b[1;32m      8\u001b[0m     \u001b[0madjustments\u001b[0m \u001b[0;34m=\u001b[0m \u001b[0merror\u001b[0m \u001b[0;34m*\u001b[0m \u001b[0msigmoid_derivative\u001b[0m\u001b[0;34m(\u001b[0m\u001b[0moutputs\u001b[0m\u001b[0;34m)\u001b[0m\u001b[0;34m\u001b[0m\u001b[0;34m\u001b[0m\u001b[0m\n\u001b[1;32m      9\u001b[0m \u001b[0;34m\u001b[0m\u001b[0m\n\u001b[0;32m---> 10\u001b[0;31m     \u001b[0msynaptic_weights\u001b[0m \u001b[0;34m+=\u001b[0m \u001b[0mnp\u001b[0m\u001b[0;34m.\u001b[0m\u001b[0mdot\u001b[0m\u001b[0;34m(\u001b[0m\u001b[0minput_layer\u001b[0m\u001b[0;34m.\u001b[0m\u001b[0mT\u001b[0m\u001b[0;34m,\u001b[0m \u001b[0madjustments\u001b[0m\u001b[0;34m)\u001b[0m\u001b[0;34m\u001b[0m\u001b[0;34m\u001b[0m\u001b[0m\n\u001b[0m\u001b[1;32m     11\u001b[0m \u001b[0;34m\u001b[0m\u001b[0m\n\u001b[1;32m     12\u001b[0m \u001b[0mprint\u001b[0m\u001b[0;34m(\u001b[0m\u001b[0;34mf\"Synaptic weights after training: \\n{synaptic_weights}\"\u001b[0m\u001b[0;34m)\u001b[0m\u001b[0;34m\u001b[0m\u001b[0;34m\u001b[0m\u001b[0m\n",
      "\u001b[0;31mValueError\u001b[0m: non-broadcastable output operand with shape (53,1) doesn't match the broadcast shape (53,100)"
     ]
    }
   ],
   "source": [
    "for iteration in range(1):\n",
    "    input_layer = training_inputs\n",
    "    \n",
    "    outputs = sigmoid(np.dot(input_layer, synaptic_weights))\n",
    "    \n",
    "    error = training_outputs - outputs\n",
    "    \n",
    "    adjustments = error * sigmoid_derivative(outputs)\n",
    "    \n",
    "    synaptic_weights += np.dot(input_layer.T, adjustments)\n",
    "\n",
    "print(f\"Synaptic weights after training: \\n{synaptic_weights}\")\n",
    "    \n",
    "print(f\"Outputs after training: \\n{outputs}\")"
   ]
  },
  {
   "cell_type": "code",
   "execution_count": null,
   "metadata": {},
   "outputs": [],
   "source": []
  },
  {
   "cell_type": "code",
   "execution_count": null,
   "metadata": {},
   "outputs": [],
   "source": []
  }
 ],
 "metadata": {
  "interpreter": {
   "hash": "e806ced9ecfb40b02ab47568795ac9dcbe40749bdb5814bad29b2f2147c6506f"
  },
  "kernelspec": {
   "display_name": "Python 3.8.5 64-bit ('MasterThesisGPU': conda)",
   "language": "python",
   "name": "python3"
  },
  "language_info": {
   "codemirror_mode": {
    "name": "ipython",
    "version": 3
   },
   "file_extension": ".py",
   "mimetype": "text/x-python",
   "name": "python",
   "nbconvert_exporter": "python",
   "pygments_lexer": "ipython3",
   "version": "3.8.5"
  },
  "orig_nbformat": 4
 },
 "nbformat": 4,
 "nbformat_minor": 2
}
