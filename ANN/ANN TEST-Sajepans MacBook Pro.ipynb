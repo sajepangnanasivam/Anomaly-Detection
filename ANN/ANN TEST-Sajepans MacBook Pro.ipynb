{
 "cells": [
  {
   "cell_type": "code",
   "execution_count": 18,
   "metadata": {},
   "outputs": [
    {
     "name": "stdout",
     "output_type": "stream",
     "text": [
      "( 1 ) Reading Preprocessed CSV files..\n",
      "\t Training dataset loaded..\n",
      "\t Testing dataset loaded..\n",
      "\n",
      "( 2 ) Loading done, splitting into X and Y..\n",
      "\t ( 2.1 ) x_train Shape:  \t (175341, 53)\n",
      "\t ( 2.2 ) y_train Shape:  \t (175341,)\n",
      "\t ( 2.3 ) x_test Shape:  \t (82332, 53)\n",
      "\t ( 2.4 ) y_test Shape:  \t (82332,)\n",
      "( 3 ) Done!\n",
      "Import with: x_train, x_test, y_train, y_test = XY_import()\n"
     ]
    }
   ],
   "source": [
    "# For data manipulatino\n",
    "import pandas as pd\n",
    "import numpy as np\n",
    "from numpy import argmax\n",
    "import tensorflow as tf\n",
    "\n",
    "# Function file for importing dataset\n",
    "from UNSW_DF import *\n",
    "\n",
    "# Model\n",
    "import keras\n",
    "import keras.backend as K\n",
    "from keras.models import Sequential\n",
    "from keras.layers import Dense, Dropout, LeakyReLU, Flatten\n",
    "\n",
    "# Importing X and Y from function file\n",
    "x_train, x_test, y_train, y_test = XY_import()"
   ]
  },
  {
   "cell_type": "code",
   "execution_count": 19,
   "metadata": {},
   "outputs": [],
   "source": [
    "# The function takes in the dataset, model build and model name as input.\n",
    "def predict_model(x_train, y_train, x_test, y_test, model, model_name):\n",
    "    # Printing the name of the model\n",
    "    print(\"( 1 ) Running: \", model_name)\n",
    "    \n",
    "    # Predicting the training dataset\n",
    "    print(\"( 2 ) Predicting on train..\")\n",
    "    train = model.predict(x_train)\n",
    "    train_scores = model.evaluate(x_train, y_train, verbose=0)\n",
    "    print('\\tAccuracy on training data: \\t{}%'.format(train_scores[1]))\n",
    "    print('\\tError on training data: \\t{}'.format(1 - train_scores[1]), \"\\n\")\n",
    "\n",
    "    # Predicting the testing dataset\n",
    "    print(\"( 3 ) Predicting on test..\")\n",
    "    test = model.predict(x_test)\n",
    "    test_scores = model.evaluate(x_test, y_test, verbose=0)\n",
    "    print('\\tAccuracy on testing data: \\t{}%'.format(test_scores[1]))\n",
    "    print('\\tError on testing data: \\t{}'.format(1 - test_scores[1]), \"\\n\")\n",
    "    print(\"( 4 ) Done!\")\n",
    "    # print('Accuracy on training data: \\t{}% \\n Error on training data: \\t{}'.format(train_scores[1], 1 - train_scores[1]), \"\\n\\t\", \"Done!\",\"\\n\"\n",
    "    # print('Accuracy on test data: \\t\\t{}% \\n Error on test data: \\t\\t{}'.format(test_scores[1], 1 - test_scores[1]), \"\\n\", \"Done!\") "
   ]
  },
  {
   "cell_type": "code",
   "execution_count": null,
   "metadata": {},
   "outputs": [],
   "source": [
    "# Building the model\n",
    "model_RELU = Sequential()\n",
    "model_RELU.add(Dense(50, input_dim=53, activation='relu'))\n",
    "model_RELU.add(Dense(40, activation='relu'))\n",
    "model_RELU.add(Dense(30, activation='relu'))\n",
    "model_RELU.add(Dense(15, activation='relu'))\n",
    "model_RELU.add(Dense(8, activation='relu'))\n",
    "model_RELU.add(Dense(1, activation='sigmoid'))"
   ]
  },
  {
   "cell_type": "code",
   "execution_count": null,
   "metadata": {},
   "outputs": [],
   "source": [
    "# Compiling the model\n",
    "model_RELU.compile(loss='binary_crossentropy', optimizer='adam', metrics=['accuracy'])"
   ]
  },
  {
   "cell_type": "code",
   "execution_count": 28,
   "metadata": {},
   "outputs": [
    {
     "name": "stdout",
     "output_type": "stream",
     "text": [
      "Epoch 1/5\n",
      "1754/1754 [==============================] - 2s 947us/step - loss: 0.0937 - accuracy: 0.9540\n",
      "Epoch 2/5\n",
      "1754/1754 [==============================] - 2s 957us/step - loss: 0.0936 - accuracy: 0.9540\n",
      "Epoch 3/5\n",
      "1754/1754 [==============================] - 2s 972us/step - loss: 0.0936 - accuracy: 0.9543\n",
      "Epoch 4/5\n",
      "1754/1754 [==============================] - 2s 983us/step - loss: 0.0933 - accuracy: 0.9544\n",
      "Epoch 5/5\n",
      "1754/1754 [==============================] - 2s 1000us/step - loss: 0.0934 - accuracy: 0.9539\n"
     ]
    },
    {
     "data": {
      "text/plain": [
       "<keras.callbacks.History at 0x7fabc245ebb0>"
      ]
     },
     "execution_count": 28,
     "metadata": {},
     "output_type": "execute_result"
    }
   ],
   "source": [
    "# Fitting the model\n",
    "model_RELU.fit(x_train, y_train, epochs=5, batch_size=100, verbose=1)"
   ]
  },
  {
   "cell_type": "code",
   "execution_count": 17,
   "metadata": {},
   "outputs": [
    {
     "name": "stdout",
     "output_type": "stream",
     "text": [
      "( 1 ) Running:  RELU\n",
      "( 2 ) Predicting on train..\n",
      "\tAccuracy on training data: \t0.9501371383666992%\n",
      "\tError on training data: \t0.04986286163330078 \n",
      "\n",
      "( 3 ) Predicting on test..\n",
      "\tAccuracy on testing data: \t0.8534713387489319%\n",
      "\tError on testing data: \t0.14652866125106812 \n",
      "\n",
      "( 4 ) Done!\n"
     ]
    }
   ],
   "source": [
    "predict_model(x_train, y_train, x_test, y_test, model_RELU, model_name=\"RELU\")"
   ]
  },
  {
   "cell_type": "code",
   "execution_count": null,
   "metadata": {},
   "outputs": [],
   "source": [
    "model_name = \"Relu Activation Function\"\n",
    "# Prediction Score for training set\n",
    "Relu_train = model_RELU.predict(x_train)\n",
    "scores = model_RELU.evaluate(x_train, y_train, verbose=0)\n",
    "print('(Relu)Accuracy on training data: \\t{}% \\n Error on training data: \\t{}'.format(scores[1], 1 - scores[1]))\n",
    "\n",
    "# Prediction Score for testing set\n",
    "Relu_test = model_RELU.predict(x_test)\n",
    "scores2 = model_RELU.evaluate(x_test, y_test, verbose=0)\n",
    "print('(Relu)Accuracy on test data: \\t\\t{}% \\n Error on test data: \\t\\t{}'.format(scores2[1], 1 - scores2[1])) "
   ]
  }
 ],
 "metadata": {
  "interpreter": {
   "hash": "557f7a76709d809d5a6b0728b55d2b66cdd1850049e35147309670e9cf1c5b51"
  },
  "kernelspec": {
   "display_name": "Python 3.8.12 64-bit ('MastersThesis': conda)",
   "name": "python3"
  },
  "language_info": {
   "codemirror_mode": {
    "name": "ipython",
    "version": 3
   },
   "file_extension": ".py",
   "mimetype": "text/x-python",
   "name": "python",
   "nbconvert_exporter": "python",
   "pygments_lexer": "ipython3",
   "version": "3.8.12"
  },
  "orig_nbformat": 4
 },
 "nbformat": 4,
 "nbformat_minor": 2
}
