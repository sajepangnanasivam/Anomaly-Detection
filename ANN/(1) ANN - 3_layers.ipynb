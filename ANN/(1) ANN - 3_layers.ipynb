{
 "cells": [
  {
   "cell_type": "markdown",
   "metadata": {},
   "source": [
    "# Artificial Neural Network"
   ]
  },
  {
   "cell_type": "markdown",
   "metadata": {},
   "source": [
    "## Importing Libraries"
   ]
  },
  {
   "cell_type": "code",
   "execution_count": 20,
   "id": "c08c7e25-0fae-4856-8793-f2ffa24ccdd0",
   "metadata": {},
   "outputs": [],
   "source": [
    "# Importing necessary Libraries\n",
    "import pandas as pd\n",
    "import keras\n",
    "import tensorflow\n",
    "from keras.layers import Dense\n",
    "from keras.models import Sequential"
   ]
  },
  {
   "cell_type": "code",
   "execution_count": 21,
   "id": "db037d47-3261-4ae2-a1aa-a6e6b0b3ba96",
   "metadata": {},
   "outputs": [],
   "source": [
    "# Importing libraries\n",
    "train = pd.read_csv(\"Dataset/train_pp3.csv\")\n",
    "test = pd.read_csv(\"Dataset/test_pp3.csv\")"
   ]
  },
  {
   "cell_type": "code",
   "execution_count": 22,
   "id": "25b0cf9e-c9de-4094-ab17-a20321ab99b1",
   "metadata": {},
   "outputs": [
    {
     "name": "stdout",
     "output_type": "stream",
     "text": [
      "X_train Shape:  \t (175341, 53)\n",
      "y_train Shape:  \t (175341,)\n",
      "X_test Shape:  \t\t (82332, 53)\n",
      "y_test Shape:  \t\t (82332,)\n"
     ]
    }
   ],
   "source": [
    "x_train, y_train = train.drop([\"label\"], axis=1), train[\"label\"]\n",
    "x_test, y_test = test.drop([\"label\"], axis=1), test[\"label\"]\n",
    "print('X_train Shape: ', '\\t', x_train.shape)\n",
    "print('y_train Shape: ', '\\t', y_train.shape)\n",
    "print('X_test Shape: ', '\\t\\t', x_test.shape)\n",
    "print('y_test Shape: ', '\\t\\t', y_test.shape)"
   ]
  },
  {
   "cell_type": "code",
   "execution_count": 23,
   "id": "bceabdc0-5eb4-4e19-be4e-8b315111fc5c",
   "metadata": {},
   "outputs": [],
   "source": [
    "model = Sequential()"
   ]
  },
  {
   "cell_type": "code",
   "execution_count": 24,
   "id": "b1845805-79e9-4e5c-92b7-417f3fe61159",
   "metadata": {},
   "outputs": [],
   "source": [
    "model.add(Dense(50, input_dim=53, activation='relu'))\n",
    "model.add(Dense(40, activation='relu'))\n",
    "model.add(Dense(30, activation='relu'))\n",
    "model.add(Dense(15, activation='relu'))\n",
    "model.add(Dense(8, activation='relu'))\n",
    "model.add(Dense(1, activation='sigmoid'))"
   ]
  },
  {
   "cell_type": "code",
   "execution_count": 25,
   "id": "5c21e51e-1740-4b6f-9e45-cf1c3554d3f2",
   "metadata": {},
   "outputs": [],
   "source": [
    "model.compile(loss='binary_crossentropy', optimizer='adam', metrics=['accuracy'])"
   ]
  },
  {
   "cell_type": "code",
   "execution_count": 26,
   "id": "807dfbf6-50ba-4c01-a653-bd1a3169531e",
   "metadata": {},
   "outputs": [
    {
     "name": "stdout",
     "output_type": "stream",
     "text": [
      "Epoch 1/15\n",
      "1754/1754 [==============================] - 2s 968us/step - loss: 0.1449 - accuracy: 0.9340\n",
      "Epoch 2/15\n",
      "1754/1754 [==============================] - 2s 960us/step - loss: 0.1218 - accuracy: 0.9396\n",
      "Epoch 3/15\n",
      "1754/1754 [==============================] - 2s 970us/step - loss: 0.1188 - accuracy: 0.9413\n",
      "Epoch 4/15\n",
      "1754/1754 [==============================] - 2s 939us/step - loss: 0.1166 - accuracy: 0.9425\n",
      "Epoch 5/15\n",
      "1754/1754 [==============================] - 2s 998us/step - loss: 0.1149 - accuracy: 0.9432\n",
      "Epoch 6/15\n",
      "1754/1754 [==============================] - 2s 985us/step - loss: 0.1135 - accuracy: 0.9438\n",
      "Epoch 7/15\n",
      "1754/1754 [==============================] - 2s 998us/step - loss: 0.1126 - accuracy: 0.9449\n",
      "Epoch 8/15\n",
      "1754/1754 [==============================] - 2s 1ms/step - loss: 0.1111 - accuracy: 0.9451\n",
      "Epoch 9/15\n",
      "1754/1754 [==============================] - 2s 983us/step - loss: 0.1102 - accuracy: 0.9461\n",
      "Epoch 10/15\n",
      "1754/1754 [==============================] - 2s 1ms/step - loss: 0.1093 - accuracy: 0.9463\n",
      "Epoch 11/15\n",
      "1754/1754 [==============================] - 2s 1ms/step - loss: 0.1086 - accuracy: 0.9466\n",
      "Epoch 12/15\n",
      "1754/1754 [==============================] - 2s 993us/step - loss: 0.1079 - accuracy: 0.9469\n",
      "Epoch 13/15\n",
      "1754/1754 [==============================] - 2s 1ms/step - loss: 0.1073 - accuracy: 0.9471\n",
      "Epoch 14/15\n",
      "1754/1754 [==============================] - 2s 1ms/step - loss: 0.1071 - accuracy: 0.9473\n",
      "Epoch 15/15\n",
      "1754/1754 [==============================] - 2s 973us/step - loss: 0.1063 - accuracy: 0.9475\n"
     ]
    },
    {
     "data": {
      "text/plain": [
       "<keras.callbacks.History at 0x7ffaa8323e80>"
      ]
     },
     "execution_count": 26,
     "metadata": {},
     "output_type": "execute_result"
    }
   ],
   "source": [
    "# fit the keras model on the dataset\n",
    "model.fit(x_train, y_train, epochs=15, batch_size=100)"
   ]
  },
  {
   "cell_type": "code",
   "execution_count": 27,
   "id": "96f0558f-0618-4bd3-b416-1c8c7bdc15e6",
   "metadata": {},
   "outputs": [
    {
     "name": "stdout",
     "output_type": "stream",
     "text": [
      "5480/5480 [==============================] - 3s 532us/step - loss: 0.1048 - accuracy: 0.9480\n",
      "Accuracy: 94.80\n"
     ]
    }
   ],
   "source": [
    "# evaluate the keras model\n",
    "_, accuracy = model.evaluate(x_train, y_train)\n",
    "print('Accuracy: %.2f' % (accuracy*100))"
   ]
  },
  {
   "cell_type": "code",
   "execution_count": 28,
   "id": "78fcb125-d17a-48a9-871d-ba6a92b55952",
   "metadata": {},
   "outputs": [
    {
     "name": "stdout",
     "output_type": "stream",
     "text": [
      "Accuracy on training data: 0.9479756355285645% \n",
      " Error on training data: 0.05202436447143555\n",
      "Accuracy on test data: 0.874423086643219% \n",
      " Error on test data: 0.125576913356781\n"
     ]
    }
   ],
   "source": [
    "pred_train= model.predict(x_train)\n",
    "scores = model.evaluate(x_train, y_train, verbose=0)\n",
    "print('Accuracy on training data: {}% \\n Error on training data: {}'.format(scores[1], 1 - scores[1]))\n",
    "\n",
    "pred_test= model.predict(x_test)\n",
    "scores2 = model.evaluate(x_test, y_test, verbose=0)\n",
    "print('Accuracy on test data: {}% \\n Error on test data: {}'.format(scores2[1], 1 - scores2[1])) "
   ]
  },
  {
   "cell_type": "code",
   "execution_count": null,
   "metadata": {},
   "outputs": [],
   "source": []
  }
 ],
 "metadata": {
  "interpreter": {
   "hash": "557f7a76709d809d5a6b0728b55d2b66cdd1850049e35147309670e9cf1c5b51"
  },
  "kernelspec": {
   "display_name": "Python 3.8.12 64-bit ('MastersThesis': conda)",
   "name": "python3"
  },
  "language_info": {
   "codemirror_mode": {
    "name": "ipython",
    "version": 3
   },
   "file_extension": ".py",
   "mimetype": "text/x-python",
   "name": "python",
   "nbconvert_exporter": "python",
   "pygments_lexer": "ipython3",
   "version": "3.8.12"
  }
 },
 "nbformat": 4,
 "nbformat_minor": 5
}
