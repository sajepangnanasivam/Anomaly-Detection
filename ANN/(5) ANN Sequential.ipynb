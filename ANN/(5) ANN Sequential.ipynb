{
 "cells": [
  {
   "cell_type": "markdown",
   "metadata": {},
   "source": [
    "# ANN"
   ]
  },
  {
   "cell_type": "code",
   "execution_count": 1,
   "metadata": {},
   "outputs": [],
   "source": [
    "import pandas as pd\n",
    "import numpy as np\n",
    "from keras.layers import Dense\n",
    "from keras.models import Sequential"
   ]
  },
  {
   "cell_type": "code",
   "execution_count": 2,
   "metadata": {},
   "outputs": [
    {
     "name": "stdout",
     "output_type": "stream",
     "text": [
      "( 1 ) Reading Preprocessed CSV files..\n",
      "\t Training dataset loaded..\n",
      "\t Testing dataset loaded..\n",
      "\n",
      "( 2 ) Loading done, splitting into X and Y..\n",
      "\t ( 2.1 ) x_train Shape:  \t (175341, 53)\n",
      "\t ( 2.2 ) y_train Shape:  \t (175341,)\n",
      "\t ( 2.3 ) x_test Shape:  \t (82332, 53)\n",
      "\t ( 2.4 ) y_test Shape:  \t (82332,)\n",
      "( 3 ) Done!\n",
      "PS! Import with: x_train, x_test, y_train, y_test = XY_import()\n"
     ]
    }
   ],
   "source": [
    "import sys\n",
    "sys.path.append(\"..\")\n",
    "from Functions.UNSW_DF import *\n",
    "x_train, x_test, y_train, y_test = DF_XY()"
   ]
  },
  {
   "cell_type": "code",
   "execution_count": 3,
   "metadata": {},
   "outputs": [],
   "source": [
    "model = Sequential()\n",
    "model.add(Dense(50, input_dim=53, activation='relu'))\n",
    "model.add(Dense(40, activation='relu'))\n",
    "model.add(Dense(30, activation='relu'))\n",
    "model.add(Dense(15, activation='relu'))\n",
    "model.add(Dense(8, activation='relu'))\n",
    "model.add(Dense(1, activation='sigmoid'))"
   ]
  },
  {
   "cell_type": "code",
   "execution_count": 4,
   "metadata": {},
   "outputs": [],
   "source": [
    "model.compile(loss='binary_crossentropy', optimizer='adam', metrics=['accuracy'])"
   ]
  },
  {
   "cell_type": "code",
   "execution_count": 5,
   "metadata": {},
   "outputs": [
    {
     "name": "stdout",
     "output_type": "stream",
     "text": [
      "Epoch 1/15\n",
      "1754/1754 [==============================] - 2s 1ms/step - loss: 0.1485 - accuracy: 0.9330\n",
      "Epoch 2/15\n",
      "1754/1754 [==============================] - 2s 988us/step - loss: 0.1216 - accuracy: 0.9407\n",
      "Epoch 3/15\n",
      "1754/1754 [==============================] - 2s 980us/step - loss: 0.1188 - accuracy: 0.9417\n",
      "Epoch 4/15\n",
      "1754/1754 [==============================] - 2s 1ms/step - loss: 0.1168 - accuracy: 0.9427\n",
      "Epoch 5/15\n",
      "1754/1754 [==============================] - 2s 1ms/step - loss: 0.1151 - accuracy: 0.9435\n",
      "Epoch 6/15\n",
      "1754/1754 [==============================] - 2s 952us/step - loss: 0.1141 - accuracy: 0.9441\n",
      "Epoch 7/15\n",
      "1754/1754 [==============================] - 2s 972us/step - loss: 0.1127 - accuracy: 0.9442\n",
      "Epoch 8/15\n",
      "1754/1754 [==============================] - 2s 1ms/step - loss: 0.1116 - accuracy: 0.9454\n",
      "Epoch 9/15\n",
      "1754/1754 [==============================] - 2s 1ms/step - loss: 0.1104 - accuracy: 0.9451\n",
      "Epoch 10/15\n",
      "1754/1754 [==============================] - 2s 1ms/step - loss: 0.1096 - accuracy: 0.9462\n",
      "Epoch 11/15\n",
      "1754/1754 [==============================] - 2s 1ms/step - loss: 0.1091 - accuracy: 0.9463\n",
      "Epoch 12/15\n",
      "1754/1754 [==============================] - 2s 965us/step - loss: 0.1086 - accuracy: 0.9466\n",
      "Epoch 13/15\n",
      "1754/1754 [==============================] - 2s 972us/step - loss: 0.1080 - accuracy: 0.9467\n",
      "Epoch 14/15\n",
      "1754/1754 [==============================] - 2s 986us/step - loss: 0.1071 - accuracy: 0.9471\n",
      "Epoch 15/15\n",
      "1754/1754 [==============================] - 2s 935us/step - loss: 0.1068 - accuracy: 0.9473\n"
     ]
    },
    {
     "data": {
      "text/plain": [
       "<tensorflow.python.keras.callbacks.History at 0x1a1c3159c40>"
      ]
     },
     "execution_count": 5,
     "metadata": {},
     "output_type": "execute_result"
    }
   ],
   "source": [
    "# fit the keras model on the dataset\n",
    "model.fit(x_train, y_train, epochs=15, batch_size=100)"
   ]
  },
  {
   "cell_type": "code",
   "execution_count": 6,
   "metadata": {},
   "outputs": [
    {
     "name": "stdout",
     "output_type": "stream",
     "text": [
      "5480/5480 [==============================] - 3s 572us/step - loss: 0.1101 - accuracy: 0.94570s - loss: 0.1136 - accuracy: \n",
      "Accuracy: 94.57\n"
     ]
    }
   ],
   "source": [
    "# evaluate the keras model\n",
    "_, accuracy = model.evaluate(x_train, y_train)\n",
    "print('Accuracy: %.2f' % (accuracy*100))"
   ]
  },
  {
   "cell_type": "code",
   "execution_count": 7,
   "metadata": {},
   "outputs": [
    {
     "name": "stdout",
     "output_type": "stream",
     "text": [
      "Accuracy on training data: 0.9456601738929749% \n",
      " Error on training data: 0.054339826107025146\n",
      "Accuracy on test data: 0.8782976269721985% \n",
      " Error on test data: 0.12170237302780151\n"
     ]
    }
   ],
   "source": [
    "pred_train= model.predict(x_train)\n",
    "scores = model.evaluate(x_train, y_train, verbose=0)\n",
    "print('Accuracy on training data: {}% \\n Error on training data: {}'.format(scores[1], 1 - scores[1]))\n",
    "\n",
    "pred_test= model.predict(x_test)\n",
    "scores2 = model.evaluate(x_test, y_test, verbose=0)\n",
    "print('Accuracy on test data: {}% \\n Error on test data: {}'.format(scores2[1], 1 - scores2[1])) "
   ]
  },
  {
   "cell_type": "code",
   "execution_count": null,
   "metadata": {},
   "outputs": [],
   "source": []
  }
 ],
 "metadata": {
  "interpreter": {
   "hash": "010ba4d8274b41423bf68f4f03b0335141da458f8fd5f27ec3988bc5770bd0b7"
  },
  "kernelspec": {
   "display_name": "Python 3.8.12 64-bit ('ANN_env': conda)",
   "language": "python",
   "name": "python3"
  },
  "language_info": {
   "codemirror_mode": {
    "name": "ipython",
    "version": 3
   },
   "file_extension": ".py",
   "mimetype": "text/x-python",
   "name": "python",
   "nbconvert_exporter": "python",
   "pygments_lexer": "ipython3",
   "version": "3.8.12"
  },
  "orig_nbformat": 4
 },
 "nbformat": 4,
 "nbformat_minor": 2
}
