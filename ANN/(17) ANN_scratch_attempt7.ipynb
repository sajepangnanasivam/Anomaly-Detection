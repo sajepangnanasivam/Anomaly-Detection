{
 "cells": [
  {
   "cell_type": "markdown",
   "source": [
    "https://regenerativetoday.com/build-a-complete-neural-network-in-python/"
   ],
   "metadata": {
    "collapsed": false
   }
  },
  {
   "cell_type": "code",
   "execution_count": 1,
   "metadata": {
    "collapsed": true
   },
   "outputs": [
    {
     "name": "stdout",
     "output_type": "stream",
     "text": [
      "( 1 ) Reading Preprocessed CSV files..\n",
      "\t Training dataset loaded..\n",
      "\t Testing dataset loaded..\n",
      "\n",
      "( 2 ) Loading done, splitting into X and Y..\n",
      "\t ( 2.1 ) x_train Shape:  \t (175341, 53)\n",
      "\t ( 2.2 ) y_train Shape:  \t (175341,)\n",
      "\t ( 2.3 ) x_test Shape:  \t (82332, 53)\n",
      "\t ( 2.4 ) y_test Shape:  \t (82332,)\n",
      "( 3 ) Done!\n",
      "PS! Import with: x_train, x_test, y_train, y_test = XY_import()\n"
     ]
    }
   ],
   "source": [
    "import numpy as np\n",
    "import pandas as pd\n",
    "import sys\n",
    "from matplotlib import pyplot as plt\n",
    "\n",
    "sys.path.append(\"..\")\n",
    "from Functions.UNSW_DF import *\n",
    "X, x_test, y, y_test = DF_XY()"
   ]
  },
  {
   "cell_type": "code",
   "execution_count": 32,
   "outputs": [],
   "source": [
    "X = X[:1000]\n",
    "y = y[:1000]"
   ],
   "metadata": {
    "collapsed": false,
    "pycharm": {
     "name": "#%%\n"
    }
   }
  },
  {
   "cell_type": "code",
   "execution_count": 33,
   "outputs": [
    {
     "data": {
      "text/plain": "array([0], dtype=int64)"
     },
     "execution_count": 33,
     "metadata": {},
     "output_type": "execute_result"
    }
   ],
   "source": [
    "y_arr = y.unique()#Output:\n",
    "y_arr"
   ],
   "metadata": {
    "collapsed": false,
    "pycharm": {
     "name": "#%%\n"
    }
   }
  },
  {
   "cell_type": "code",
   "execution_count": 34,
   "outputs": [],
   "source": [
    "def randInitializeWeights(Lin, Lout):\n",
    "    epi = (6**1/2) / (Lin + Lout)**0.5\n",
    "    w = np.random.rand(Lout, Lin)*(2*epi) -epi\n",
    "    return w"
   ],
   "metadata": {
    "collapsed": false,
    "pycharm": {
     "name": "#%%\n"
    }
   }
  },
  {
   "cell_type": "code",
   "execution_count": 35,
   "outputs": [],
   "source": [
    "# TODO: Check whether it needs to be transposed\n",
    "hidden_layer = 25\n",
    "output = 1\n",
    "theta1 = randInitializeWeights(len(X.T), hidden_layer)\n",
    "theta2 = randInitializeWeights(hidden_layer, output)\n",
    "theta = [theta1, theta2]"
   ],
   "metadata": {
    "collapsed": false,
    "pycharm": {
     "name": "#%%\n"
    }
   }
  },
  {
   "cell_type": "code",
   "execution_count": 36,
   "outputs": [
    {
     "data": {
      "text/plain": "array([[ 0.266627  , -0.42424521,  0.36540084,  0.48449233, -0.32879461,\n        -0.35978479,  0.0505856 , -0.42409588,  0.47863813,  0.14473267,\n        -0.10813372, -0.45453652, -0.27024204, -0.00253469, -0.1442339 ,\n         0.09357443,  0.39276489,  0.0727671 ,  0.13017427, -0.11847352,\n         0.34279738,  0.43480677,  0.20187028, -0.16006506, -0.16297758]])"
     },
     "execution_count": 36,
     "metadata": {},
     "output_type": "execute_result"
    }
   ],
   "source": [
    "theta2"
   ],
   "metadata": {
    "collapsed": false,
    "pycharm": {
     "name": "#%%\n"
    }
   }
  },
  {
   "cell_type": "code",
   "execution_count": 37,
   "outputs": [],
   "source": [
    "b1 = np.random.randn(25,)\n",
    "b2 = np.random.randn(1,)"
   ],
   "metadata": {
    "collapsed": false,
    "pycharm": {
     "name": "#%%\n"
    }
   }
  },
  {
   "cell_type": "code",
   "execution_count": 38,
   "outputs": [],
   "source": [
    "def z_calc(X, theta):\n",
    "    return np.dot(X, theta.T)\n",
    "\n",
    "def sigmoid(z):\n",
    "    return 1/(1+ np.exp(-z))"
   ],
   "metadata": {
    "collapsed": false,
    "pycharm": {
     "name": "#%%\n"
    }
   }
  },
  {
   "cell_type": "code",
   "execution_count": 39,
   "outputs": [],
   "source": [
    "z1 = z_calc(X, theta1) + b1\n",
    "a1 = sigmoid(z1)"
   ],
   "metadata": {
    "collapsed": false,
    "pycharm": {
     "name": "#%%\n"
    }
   }
  },
  {
   "cell_type": "code",
   "execution_count": 41,
   "outputs": [],
   "source": [
    "z2 = z_calc(a1, theta2) + b2\n",
    "a2 = sigmoid(z2)"
   ],
   "metadata": {
    "collapsed": false,
    "pycharm": {
     "name": "#%%\n"
    }
   }
  },
  {
   "cell_type": "code",
   "execution_count": 43,
   "outputs": [],
   "source": [
    "l = 3  #the number of layers\n",
    "b = [b1, b2]\n",
    "def hypothesis(df, theta):\n",
    "    a = []\n",
    "    z = []\n",
    "    for i in range (0, l-1):\n",
    "        z1 = z_calc(df, theta[i]) + b[i]\n",
    "        out = sigmoid(z1)\n",
    "        a.append(out)\n",
    "        z.append(z1)\n",
    "        df = out\n",
    "    return out, a, z"
   ],
   "metadata": {
    "collapsed": false,
    "pycharm": {
     "name": "#%%\n"
    }
   }
  },
  {
   "cell_type": "code",
   "execution_count": 44,
   "outputs": [
    {
     "ename": "IndexError",
     "evalue": "invalid index to scalar variable.",
     "output_type": "error",
     "traceback": [
      "\u001B[1;31m---------------------------------------------------------------------------\u001B[0m",
      "\u001B[1;31mIndexError\u001B[0m                                Traceback (most recent call last)",
      "\u001B[1;32m<ipython-input-44-4aa6259ef080>\u001B[0m in \u001B[0;36m<module>\u001B[1;34m\u001B[0m\n\u001B[0;32m      3\u001B[0m \u001B[1;32mfor\u001B[0m \u001B[0mi\u001B[0m \u001B[1;32min\u001B[0m \u001B[0mrange\u001B[0m\u001B[1;33m(\u001B[0m\u001B[1;36m0\u001B[0m\u001B[1;33m,\u001B[0m \u001B[0mlen\u001B[0m\u001B[1;33m(\u001B[0m\u001B[0my_arr\u001B[0m\u001B[1;33m)\u001B[0m\u001B[1;33m)\u001B[0m\u001B[1;33m:\u001B[0m\u001B[1;33m\u001B[0m\u001B[1;33m\u001B[0m\u001B[0m\n\u001B[0;32m      4\u001B[0m     \u001B[1;32mfor\u001B[0m \u001B[0mj\u001B[0m \u001B[1;32min\u001B[0m \u001B[0mrange\u001B[0m\u001B[1;33m(\u001B[0m\u001B[1;36m0\u001B[0m\u001B[1;33m,\u001B[0m \u001B[0mlen\u001B[0m\u001B[1;33m(\u001B[0m\u001B[0my1\u001B[0m\u001B[1;33m)\u001B[0m\u001B[1;33m)\u001B[0m\u001B[1;33m:\u001B[0m\u001B[1;33m\u001B[0m\u001B[1;33m\u001B[0m\u001B[0m\n\u001B[1;32m----> 5\u001B[1;33m         \u001B[1;32mif\u001B[0m \u001B[0my\u001B[0m\u001B[1;33m[\u001B[0m\u001B[1;36m0\u001B[0m\u001B[1;33m]\u001B[0m\u001B[1;33m[\u001B[0m\u001B[0mj\u001B[0m\u001B[1;33m]\u001B[0m \u001B[1;33m==\u001B[0m \u001B[0my_arr\u001B[0m\u001B[1;33m[\u001B[0m\u001B[0mi\u001B[0m\u001B[1;33m]\u001B[0m\u001B[1;33m:\u001B[0m\u001B[1;33m\u001B[0m\u001B[1;33m\u001B[0m\u001B[0m\n\u001B[0m\u001B[0;32m      6\u001B[0m             \u001B[0my1\u001B[0m\u001B[1;33m.\u001B[0m\u001B[0miloc\u001B[0m\u001B[1;33m[\u001B[0m\u001B[0mj\u001B[0m\u001B[1;33m,\u001B[0m \u001B[0mi\u001B[0m\u001B[1;33m]\u001B[0m \u001B[1;33m=\u001B[0m \u001B[1;36m1\u001B[0m\u001B[1;33m\u001B[0m\u001B[1;33m\u001B[0m\u001B[0m\n\u001B[0;32m      7\u001B[0m         \u001B[1;32melse\u001B[0m\u001B[1;33m:\u001B[0m\u001B[1;33m\u001B[0m\u001B[1;33m\u001B[0m\u001B[0m\n",
      "\u001B[1;31mIndexError\u001B[0m: invalid index to scalar variable."
     ]
    }
   ],
   "source": [
    "y1 = np.zeros([len(X), len(y_arr)])\n",
    "y1 = pd.DataFrame(y1)\n",
    "for i in range(0, len(y_arr)):\n",
    "    for j in range(0, len(y1)):\n",
    "        if y[0][j] == y_arr[i]:\n",
    "            y1.iloc[j, i] = 1\n",
    "        else:\n",
    "            y1.iloc[j, i] = 0\n",
    "y1.head()"
   ],
   "metadata": {
    "collapsed": false,
    "pycharm": {
     "name": "#%%\n"
    }
   }
  },
  {
   "cell_type": "code",
   "execution_count": 47,
   "outputs": [],
   "source": [
    "del3 = y1-a2"
   ],
   "metadata": {
    "collapsed": false,
    "pycharm": {
     "name": "#%%\n"
    }
   }
  },
  {
   "cell_type": "code",
   "execution_count": 48,
   "outputs": [],
   "source": [
    "del2 = np.dot(del3, theta2) * a1*(1 - a1)"
   ],
   "metadata": {
    "collapsed": false,
    "pycharm": {
     "name": "#%%\n"
    }
   }
  },
  {
   "cell_type": "code",
   "execution_count": 49,
   "outputs": [],
   "source": [
    "def sigmoid_grad(z):\n",
    "    return sigmoid(z)*(1 - sigmoid(z))"
   ],
   "metadata": {
    "collapsed": false,
    "pycharm": {
     "name": "#%%\n"
    }
   }
  },
  {
   "cell_type": "code",
   "execution_count": 50,
   "outputs": [],
   "source": [
    "theta1 = np.dot(del2.T, pd.DataFrame(a1)) * 0.003\n",
    "theta2 = np.dot(del3.T, pd.DataFrame(a2)) * 0.003"
   ],
   "metadata": {
    "collapsed": false,
    "pycharm": {
     "name": "#%%\n"
    }
   }
  },
  {
   "cell_type": "code",
   "execution_count": 51,
   "outputs": [],
   "source": [
    "def cost_function(y, y_calc, l):\n",
    "    return (np.sum(np.sum(-np.log(y_calc)*y - np.log(1-y_calc)*(1-y))))/m"
   ],
   "metadata": {
    "collapsed": false,
    "pycharm": {
     "name": "#%%\n"
    }
   }
  },
  {
   "cell_type": "code",
   "execution_count": 52,
   "outputs": [],
   "source": [
    "m = len(X)\n",
    "def backpropagation(df, theta, y1, alpha):\n",
    "    out, a, z = hypothesis(df, theta)\n",
    "    delta = []\n",
    "    delta.append(y1-a[-1])\n",
    "    i = l - 2\n",
    "    while i > 0:\n",
    "        delta.append(np.dot(delta[-i], theta[-i])*sigmoid_grad(z[-(i+1)]))\n",
    "        i -= 1\n",
    "    theta[0] = np.dot(delta[-1].T, df) * alpha\n",
    "    for i in range(1, len(theta)):\n",
    "        theta[i] = np.dot(delta[-(i+1)].T, pd.DataFrame(a[0])) * alpha\n",
    "    out, a, z = hypothesis(df, theta)\n",
    "    cost = cost_function(y1, a[-1], 1)\n",
    "    return theta, cost"
   ],
   "metadata": {
    "collapsed": false,
    "pycharm": {
     "name": "#%%\n"
    }
   }
  },
  {
   "cell_type": "code",
   "execution_count": 55,
   "outputs": [
    {
     "data": {
      "text/plain": "[6.348532272145098e-05,\n 0.603704195865673,\n 3.571184325718512e-05,\n 0.6039757685308886,\n 3.5618191310204654e-05,\n 0.6039767249598829,\n 3.5617857876891684e-05,\n 0.6039767283660182,\n 3.561785668875407e-05,\n 0.6039767283781554,\n 3.561785668452186e-05,\n 0.6039767283781987,\n 3.561785668450665e-05,\n 0.6039767283781989,\n 3.561785668450654e-05,\n 0.6039767283781989,\n 3.561785668450654e-05,\n 0.6039767283781989,\n 3.561785668450654e-05,\n 0.6039767283781989]"
     },
     "execution_count": 55,
     "metadata": {},
     "output_type": "execute_result"
    }
   ],
   "source": [
    "theta1 = randInitializeWeights(len(X.T), hidden_layer)\n",
    "theta2 = randInitializeWeights(hidden_layer, output)\n",
    "theta = [theta1, theta2]\n",
    "cost_list = []\n",
    "for i in range(20):\n",
    "    theta, cost= backpropagation(X, theta, y1, 0.003)\n",
    "    cost_list.append(cost)\n",
    "cost_list"
   ],
   "metadata": {
    "collapsed": false,
    "pycharm": {
     "name": "#%%\n"
    }
   }
  },
  {
   "cell_type": "code",
   "execution_count": 59,
   "outputs": [],
   "source": [
    "out, a, z = hypothesis(X, theta)"
   ],
   "metadata": {
    "collapsed": false,
    "pycharm": {
     "name": "#%%\n"
    }
   }
  },
  {
   "cell_type": "code",
   "execution_count": 65,
   "outputs": [
    {
     "data": {
      "text/plain": "0.0"
     },
     "execution_count": 65,
     "metadata": {},
     "output_type": "execute_result"
    }
   ],
   "source": [
    "accuracy= 0\n",
    "for i in range(0, len(out)):\n",
    "    for j in range(0, len(out[i])):\n",
    "        if out[i][j] >= 0.5 and y1.iloc[i, j] == 1:\n",
    "            accuracy += 1\n",
    "accuracy/len(X)"
   ],
   "metadata": {
    "collapsed": false,
    "pycharm": {
     "name": "#%%\n"
    }
   }
  }
 ],
 "metadata": {
  "kernelspec": {
   "display_name": "Python 3",
   "language": "python",
   "name": "python3"
  },
  "language_info": {
   "codemirror_mode": {
    "name": "ipython",
    "version": 2
   },
   "file_extension": ".py",
   "mimetype": "text/x-python",
   "name": "python",
   "nbconvert_exporter": "python",
   "pygments_lexer": "ipython2",
   "version": "2.7.6"
  }
 },
 "nbformat": 4,
 "nbformat_minor": 0
}