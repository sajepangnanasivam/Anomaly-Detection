{
 "cells": [
  {
   "cell_type": "markdown",
   "metadata": {},
   "source": [
    "# Artificial Neural Network - Variated Activation Functions"
   ]
  },
  {
   "cell_type": "markdown",
   "metadata": {},
   "source": [
    "## Importing Libraries and reading dataset"
   ]
  },
  {
   "cell_type": "code",
   "execution_count": 1,
   "metadata": {},
   "outputs": [],
   "source": [
    "# For data manipulatino\n",
    "import pandas as pd\n",
    "import numpy as np\n",
    "from numpy import argmax\n",
    "import tensorflow as tf\n",
    "\n",
    "# Function file for importing dataset\n",
    "from UNSW_DF import *\n",
    "\n",
    "# Model\n",
    "import keras\n",
    "import keras.backend as K\n",
    "from keras.models import Sequential\n",
    "from keras.layers import Dense, Dropout, LeakyReLU, Flatten"
   ]
  },
  {
   "cell_type": "code",
   "execution_count": 2,
   "metadata": {},
   "outputs": [
    {
     "name": "stdout",
     "output_type": "stream",
     "text": [
      "( 1 ) Reading Preprocessed CSV files..\n",
      "\t Training dataset loaded..\n",
      "\t Testing dataset loaded..\n",
      "\n",
      "( 2 ) Loading done, splitting into X and Y..\n",
      "\t ( 2.1 ) x_train Shape:  \t (175341, 53)\n",
      "\t ( 2.2 ) y_train Shape:  \t (175341,)\n",
      "\t ( 2.3 ) x_test Shape:  \t (82332, 53)\n",
      "\t ( 2.4 ) y_test Shape:  \t (82332,)\n",
      "( 3 ) Done!\n",
      "Import with: x_train, x_test, y_train, y_test = XY_import()\n"
     ]
    }
   ],
   "source": [
    "# Importing X and Y from function file\n",
    "x_train, x_test, y_train, y_test = XY_import()"
   ]
  },
  {
   "cell_type": "markdown",
   "metadata": {},
   "source": [
    "## (1) RELU Activation Function"
   ]
  },
  {
   "cell_type": "markdown",
   "metadata": {},
   "source": [
    "### (1.1) RELU 1"
   ]
  },
  {
   "cell_type": "code",
   "execution_count": 3,
   "metadata": {},
   "outputs": [
    {
     "name": "stderr",
     "output_type": "stream",
     "text": [
      "2021-10-28 12:45:38.469087: I tensorflow/core/platform/cpu_feature_guard.cc:142] This TensorFlow binary is optimized with oneAPI Deep Neural Network Library (oneDNN) to use the following CPU instructions in performance-critical operations:  AVX2 FMA\n",
      "To enable them in other operations, rebuild TensorFlow with the appropriate compiler flags.\n"
     ]
    }
   ],
   "source": [
    "# Building the model\n",
    "model_RELU = Sequential()\n",
    "model_RELU.add(Dense(50, input_dim=53, activation='relu'))\n",
    "model_RELU.add(Dense(40, activation='relu'))\n",
    "model_RELU.add(Dense(30, activation='relu'))\n",
    "model_RELU.add(Dense(15, activation='relu'))\n",
    "model_RELU.add(Dense(8, activation='relu'))\n",
    "model_RELU.add(Dense(1, activation='sigmoid'))"
   ]
  },
  {
   "cell_type": "code",
   "execution_count": 4,
   "metadata": {},
   "outputs": [],
   "source": [
    "# Compiling the model\n",
    "model_RELU.compile(loss='binary_crossentropy', optimizer='adam', metrics=['accuracy'])"
   ]
  },
  {
   "cell_type": "code",
   "execution_count": 5,
   "metadata": {},
   "outputs": [
    {
     "name": "stderr",
     "output_type": "stream",
     "text": [
      "2021-10-28 12:45:38.734448: I tensorflow/compiler/mlir/mlir_graph_optimization_pass.cc:185] None of the MLIR Optimization Passes are enabled (registered 2)\n"
     ]
    },
    {
     "name": "stdout",
     "output_type": "stream",
     "text": [
      "Epoch 1/50\n",
      "1754/1754 [==============================] - 2s 962us/step - loss: 0.1407 - accuracy: 0.9355\n",
      "Epoch 2/50\n",
      "1754/1754 [==============================] - 2s 943us/step - loss: 0.1217 - accuracy: 0.9398\n",
      "Epoch 3/50\n",
      "1754/1754 [==============================] - 2s 936us/step - loss: 0.1186 - accuracy: 0.9420\n",
      "Epoch 4/50\n",
      "1754/1754 [==============================] - 2s 955us/step - loss: 0.1169 - accuracy: 0.9422\n",
      "Epoch 5/50\n",
      "1754/1754 [==============================] - 2s 942us/step - loss: 0.1151 - accuracy: 0.9434\n",
      "Epoch 6/50\n",
      "1754/1754 [==============================] - 2s 934us/step - loss: 0.1131 - accuracy: 0.9444\n",
      "Epoch 7/50\n",
      "1754/1754 [==============================] - 2s 941us/step - loss: 0.1118 - accuracy: 0.9456\n",
      "Epoch 8/50\n",
      "1754/1754 [==============================] - 2s 941us/step - loss: 0.1109 - accuracy: 0.9462\n",
      "Epoch 9/50\n",
      "1754/1754 [==============================] - 2s 948us/step - loss: 0.1102 - accuracy: 0.9462\n",
      "Epoch 10/50\n",
      "1754/1754 [==============================] - 2s 953us/step - loss: 0.1091 - accuracy: 0.9463\n",
      "Epoch 11/50\n",
      "1754/1754 [==============================] - 2s 945us/step - loss: 0.1084 - accuracy: 0.9467\n",
      "Epoch 12/50\n",
      "1754/1754 [==============================] - 2s 946us/step - loss: 0.1081 - accuracy: 0.9467\n",
      "Epoch 13/50\n",
      "1754/1754 [==============================] - 2s 942us/step - loss: 0.1072 - accuracy: 0.9474\n",
      "Epoch 14/50\n",
      "1754/1754 [==============================] - 2s 944us/step - loss: 0.1071 - accuracy: 0.9470\n",
      "Epoch 15/50\n",
      "1754/1754 [==============================] - 2s 936us/step - loss: 0.1065 - accuracy: 0.9475\n",
      "Epoch 16/50\n",
      "1754/1754 [==============================] - 2s 946us/step - loss: 0.1060 - accuracy: 0.9479\n",
      "Epoch 17/50\n",
      "1754/1754 [==============================] - 2s 951us/step - loss: 0.1059 - accuracy: 0.9478\n",
      "Epoch 18/50\n",
      "1754/1754 [==============================] - 2s 936us/step - loss: 0.1053 - accuracy: 0.9484\n",
      "Epoch 19/50\n",
      "1754/1754 [==============================] - 2s 949us/step - loss: 0.1052 - accuracy: 0.9480\n",
      "Epoch 20/50\n",
      "1754/1754 [==============================] - 2s 941us/step - loss: 0.1047 - accuracy: 0.9483\n",
      "Epoch 21/50\n",
      "1754/1754 [==============================] - 2s 947us/step - loss: 0.1047 - accuracy: 0.9483\n",
      "Epoch 22/50\n",
      "1754/1754 [==============================] - 2s 957us/step - loss: 0.1042 - accuracy: 0.9487\n",
      "Epoch 23/50\n",
      "1754/1754 [==============================] - 2s 936us/step - loss: 0.1037 - accuracy: 0.9487\n",
      "Epoch 24/50\n",
      "1754/1754 [==============================] - 2s 962us/step - loss: 0.1036 - accuracy: 0.9490\n",
      "Epoch 25/50\n",
      "1754/1754 [==============================] - 2s 978us/step - loss: 0.1033 - accuracy: 0.9490\n",
      "Epoch 26/50\n",
      "1754/1754 [==============================] - 2s 936us/step - loss: 0.1033 - accuracy: 0.9489\n",
      "Epoch 27/50\n",
      "1754/1754 [==============================] - 2s 968us/step - loss: 0.1030 - accuracy: 0.9494\n",
      "Epoch 28/50\n",
      "1754/1754 [==============================] - 2s 956us/step - loss: 0.1026 - accuracy: 0.9496\n",
      "Epoch 29/50\n",
      "1754/1754 [==============================] - 2s 939us/step - loss: 0.1023 - accuracy: 0.9492\n",
      "Epoch 30/50\n",
      "1754/1754 [==============================] - 2s 963us/step - loss: 0.1020 - accuracy: 0.9497\n",
      "Epoch 31/50\n",
      "1754/1754 [==============================] - 2s 970us/step - loss: 0.1023 - accuracy: 0.9496\n",
      "Epoch 32/50\n",
      "1754/1754 [==============================] - 2s 975us/step - loss: 0.1017 - accuracy: 0.9499\n",
      "Epoch 33/50\n",
      "1754/1754 [==============================] - 2s 947us/step - loss: 0.1017 - accuracy: 0.9495\n",
      "Epoch 34/50\n",
      "1754/1754 [==============================] - 2s 954us/step - loss: 0.1015 - accuracy: 0.9498\n",
      "Epoch 35/50\n",
      "1754/1754 [==============================] - 2s 947us/step - loss: 0.1010 - accuracy: 0.9503\n",
      "Epoch 36/50\n",
      "1754/1754 [==============================] - 2s 951us/step - loss: 0.1010 - accuracy: 0.9505\n",
      "Epoch 37/50\n",
      "1754/1754 [==============================] - 2s 978us/step - loss: 0.1008 - accuracy: 0.9503\n",
      "Epoch 38/50\n",
      "1754/1754 [==============================] - 2s 947us/step - loss: 0.1005 - accuracy: 0.9504\n",
      "Epoch 39/50\n",
      "1754/1754 [==============================] - 2s 949us/step - loss: 0.1004 - accuracy: 0.9506\n",
      "Epoch 40/50\n",
      "1754/1754 [==============================] - 2s 945us/step - loss: 0.1000 - accuracy: 0.9506\n",
      "Epoch 41/50\n",
      "1754/1754 [==============================] - 2s 941us/step - loss: 0.1009 - accuracy: 0.9503\n",
      "Epoch 42/50\n",
      "1754/1754 [==============================] - 2s 953us/step - loss: 0.0996 - accuracy: 0.9508\n",
      "Epoch 43/50\n",
      "1754/1754 [==============================] - 2s 945us/step - loss: 0.0993 - accuracy: 0.9512\n",
      "Epoch 44/50\n",
      "1754/1754 [==============================] - 2s 961us/step - loss: 0.0997 - accuracy: 0.9515\n",
      "Epoch 45/50\n",
      "1754/1754 [==============================] - 2s 975us/step - loss: 0.0993 - accuracy: 0.9511\n",
      "Epoch 46/50\n",
      "1754/1754 [==============================] - 2s 971us/step - loss: 0.0989 - accuracy: 0.9512\n",
      "Epoch 47/50\n",
      "1754/1754 [==============================] - 2s 950us/step - loss: 0.0988 - accuracy: 0.9514\n",
      "Epoch 48/50\n",
      "1754/1754 [==============================] - 2s 949us/step - loss: 0.0990 - accuracy: 0.9512\n",
      "Epoch 49/50\n",
      "1754/1754 [==============================] - 2s 949us/step - loss: 0.0986 - accuracy: 0.9513\n",
      "Epoch 50/50\n",
      "1754/1754 [==============================] - 2s 956us/step - loss: 0.0984 - accuracy: 0.9518\n"
     ]
    },
    {
     "data": {
      "text/plain": [
       "<keras.callbacks.History at 0x7fab99795340>"
      ]
     },
     "execution_count": 5,
     "metadata": {},
     "output_type": "execute_result"
    }
   ],
   "source": [
    "# Fitting the model\n",
    "model_RELU.fit(x_train, y_train, epochs=50, batch_size=100)"
   ]
  },
  {
   "cell_type": "code",
   "execution_count": 6,
   "metadata": {},
   "outputs": [
    {
     "name": "stdout",
     "output_type": "stream",
     "text": [
      "( 1 ) Running:  RELU\n",
      "( 2 ) Predicting on train..\n",
      "\tAccuracy on training data: \t0.9515572786331177\n",
      "\tError on training data: \t0.048442721366882324 \n",
      "\n",
      "( 3 ) Predicting on test..\n",
      "\tAccuracy on testing data: \t0.858961284160614\n",
      "\tError on testing data: \t\t0.141038715839386 \n",
      "\n",
      "( 4 ) Done!\n"
     ]
    }
   ],
   "source": [
    "# Predicting the model for training and testing data using function from file \n",
    "predict_ANN_model(x_train, y_train, x_test, y_test, model_RELU, model_name=\"RELU\")"
   ]
  },
  {
   "cell_type": "markdown",
   "metadata": {},
   "source": [
    "### (1.2) RELU 2"
   ]
  },
  {
   "cell_type": "code",
   "execution_count": 24,
   "metadata": {},
   "outputs": [],
   "source": [
    "# Building the model\n",
    "model_RELU2 = Sequential()\n",
    "model_RELU2.add(Dense(20, input_dim=53, activation='relu'))\n",
    "#model_RELU2.add(Dense(40, activation='relu'))\n",
    "#model_RELU2.add(Dense(30, activation='relu'))\n",
    "model_RELU2.add(Dense(15, activation='relu'))\n",
    "model_RELU2.add(Dense(8, activation='relu'))\n",
    "model_RELU2.add(Dense(1, activation='sigmoid'))"
   ]
  },
  {
   "cell_type": "code",
   "execution_count": 25,
   "metadata": {},
   "outputs": [
    {
     "name": "stdout",
     "output_type": "stream",
     "text": [
      "Epoch 1/50\n",
      "1754/1754 - 1s - loss: 0.1579 - accuracy: 0.9315\n",
      "Epoch 2/50\n",
      "1754/1754 - 1s - loss: 0.1238 - accuracy: 0.9394\n",
      "Epoch 3/50\n",
      "1754/1754 - 1s - loss: 0.1209 - accuracy: 0.9408\n",
      "Epoch 4/50\n",
      "1754/1754 - 1s - loss: 0.1192 - accuracy: 0.9419\n",
      "Epoch 5/50\n",
      "1754/1754 - 1s - loss: 0.1178 - accuracy: 0.9429\n",
      "Epoch 6/50\n",
      "1754/1754 - 1s - loss: 0.1166 - accuracy: 0.9432\n",
      "Epoch 7/50\n",
      "1754/1754 - 1s - loss: 0.1157 - accuracy: 0.9434\n",
      "Epoch 8/50\n",
      "1754/1754 - 1s - loss: 0.1149 - accuracy: 0.9439\n",
      "Epoch 9/50\n",
      "1754/1754 - 1s - loss: 0.1143 - accuracy: 0.9442\n",
      "Epoch 10/50\n",
      "1754/1754 - 1s - loss: 0.1132 - accuracy: 0.9448\n",
      "Epoch 11/50\n",
      "1754/1754 - 1s - loss: 0.1129 - accuracy: 0.9445\n",
      "Epoch 12/50\n",
      "1754/1754 - 1s - loss: 0.1123 - accuracy: 0.9450\n",
      "Epoch 13/50\n",
      "1754/1754 - 1s - loss: 0.1118 - accuracy: 0.9456\n",
      "Epoch 14/50\n",
      "1754/1754 - 1s - loss: 0.1116 - accuracy: 0.9458\n",
      "Epoch 15/50\n",
      "1754/1754 - 1s - loss: 0.1109 - accuracy: 0.9459\n",
      "Epoch 16/50\n",
      "1754/1754 - 1s - loss: 0.1109 - accuracy: 0.9458\n",
      "Epoch 17/50\n",
      "1754/1754 - 1s - loss: 0.1104 - accuracy: 0.9460\n",
      "Epoch 18/50\n",
      "1754/1754 - 1s - loss: 0.1101 - accuracy: 0.9465\n",
      "Epoch 19/50\n",
      "1754/1754 - 1s - loss: 0.1096 - accuracy: 0.9464\n",
      "Epoch 20/50\n",
      "1754/1754 - 1s - loss: 0.1096 - accuracy: 0.9469\n",
      "Epoch 21/50\n",
      "1754/1754 - 1s - loss: 0.1091 - accuracy: 0.9471\n",
      "Epoch 22/50\n",
      "1754/1754 - 1s - loss: 0.1090 - accuracy: 0.9462\n",
      "Epoch 23/50\n",
      "1754/1754 - 1s - loss: 0.1089 - accuracy: 0.9471\n",
      "Epoch 24/50\n",
      "1754/1754 - 1s - loss: 0.1086 - accuracy: 0.9471\n",
      "Epoch 25/50\n",
      "1754/1754 - 1s - loss: 0.1081 - accuracy: 0.9474\n",
      "Epoch 26/50\n",
      "1754/1754 - 1s - loss: 0.1082 - accuracy: 0.9470\n",
      "Epoch 27/50\n",
      "1754/1754 - 1s - loss: 0.1078 - accuracy: 0.9475\n",
      "Epoch 28/50\n",
      "1754/1754 - 1s - loss: 0.1078 - accuracy: 0.9475\n",
      "Epoch 29/50\n",
      "1754/1754 - 1s - loss: 0.1076 - accuracy: 0.9474\n",
      "Epoch 30/50\n",
      "1754/1754 - 1s - loss: 0.1075 - accuracy: 0.9473\n",
      "Epoch 31/50\n",
      "1754/1754 - 1s - loss: 0.1072 - accuracy: 0.9476\n",
      "Epoch 32/50\n",
      "1754/1754 - 1s - loss: 0.1072 - accuracy: 0.9473\n",
      "Epoch 33/50\n",
      "1754/1754 - 1s - loss: 0.1071 - accuracy: 0.9476\n",
      "Epoch 34/50\n",
      "1754/1754 - 1s - loss: 0.1067 - accuracy: 0.9480\n",
      "Epoch 35/50\n",
      "1754/1754 - 1s - loss: 0.1066 - accuracy: 0.9481\n",
      "Epoch 36/50\n",
      "1754/1754 - 1s - loss: 0.1066 - accuracy: 0.9477\n",
      "Epoch 37/50\n",
      "1754/1754 - 1s - loss: 0.1063 - accuracy: 0.9480\n",
      "Epoch 38/50\n",
      "1754/1754 - 1s - loss: 0.1062 - accuracy: 0.9483\n",
      "Epoch 39/50\n",
      "1754/1754 - 1s - loss: 0.1062 - accuracy: 0.9481\n",
      "Epoch 40/50\n",
      "1754/1754 - 1s - loss: 0.1058 - accuracy: 0.9486\n",
      "Epoch 41/50\n",
      "1754/1754 - 1s - loss: 0.1059 - accuracy: 0.9485\n",
      "Epoch 42/50\n",
      "1754/1754 - 1s - loss: 0.1057 - accuracy: 0.9483\n",
      "Epoch 43/50\n",
      "1754/1754 - 1s - loss: 0.1056 - accuracy: 0.9486\n",
      "Epoch 44/50\n",
      "1754/1754 - 1s - loss: 0.1054 - accuracy: 0.9487\n",
      "Epoch 45/50\n",
      "1754/1754 - 1s - loss: 0.1052 - accuracy: 0.9490\n",
      "Epoch 46/50\n",
      "1754/1754 - 1s - loss: 0.1052 - accuracy: 0.9486\n",
      "Epoch 47/50\n",
      "1754/1754 - 1s - loss: 0.1052 - accuracy: 0.9484\n",
      "Epoch 48/50\n",
      "1754/1754 - 1s - loss: 0.1052 - accuracy: 0.9486\n",
      "Epoch 49/50\n",
      "1754/1754 - 1s - loss: 0.1049 - accuracy: 0.9483\n",
      "Epoch 50/50\n",
      "1754/1754 - 1s - loss: 0.1050 - accuracy: 0.9484\n"
     ]
    },
    {
     "data": {
      "text/plain": [
       "<keras.callbacks.History at 0x7fab88ec2cd0>"
      ]
     },
     "execution_count": 25,
     "metadata": {},
     "output_type": "execute_result"
    }
   ],
   "source": [
    "# Compiling the model\n",
    "model_RELU2.compile(loss='binary_crossentropy', optimizer='adam', metrics=['accuracy'])\n",
    "# Fitting the model\n",
    "model_RELU2.fit(x_train, y_train, epochs=50, batch_size=100, verbose=2)"
   ]
  },
  {
   "cell_type": "code",
   "execution_count": 26,
   "metadata": {},
   "outputs": [
    {
     "name": "stdout",
     "output_type": "stream",
     "text": [
      "( 1 ) Running:  RELU\n",
      "( 2 ) Predicting on train..\n",
      "\tAccuracy on training data: \t0.9488539695739746\n",
      "\tError on training data: \t0.05114603042602539 \n",
      "\n",
      "( 3 ) Predicting on test..\n",
      "\tAccuracy on testing data: \t0.8662488460540771\n",
      "\tError on testing data: \t\t0.13375115394592285 \n",
      "\n",
      "( 4 ) Done!\n"
     ]
    }
   ],
   "source": [
    "# Predicting the model for training and testing data using function from file \n",
    "predict_ANN_model(x_train, y_train, x_test, y_test, model_RELU2, model_name=\"RELU\")"
   ]
  },
  {
   "cell_type": "markdown",
   "metadata": {},
   "source": [
    "### (1.3) RELU 3"
   ]
  },
  {
   "cell_type": "code",
   "execution_count": 27,
   "metadata": {},
   "outputs": [],
   "source": [
    "# Building the model\n",
    "model_RELU3 = Sequential()\n",
    "model_RELU3.add(Dense(12, input_dim=53, activation='relu'))\n",
    "model_RELU3.add(Dense(8, activation='relu'))\n",
    "model_RELU3.add(Dense(1, activation='sigmoid'))"
   ]
  },
  {
   "cell_type": "code",
   "execution_count": 28,
   "metadata": {},
   "outputs": [
    {
     "name": "stdout",
     "output_type": "stream",
     "text": [
      "Epoch 1/50\n",
      "1754/1754 - 1s - loss: 0.1835 - accuracy: 0.9199\n",
      "Epoch 2/50\n",
      "1754/1754 - 1s - loss: 0.1280 - accuracy: 0.9375\n",
      "Epoch 3/50\n",
      "1754/1754 - 1s - loss: 0.1239 - accuracy: 0.9394\n",
      "Epoch 4/50\n",
      "1754/1754 - 1s - loss: 0.1219 - accuracy: 0.9403\n",
      "Epoch 5/50\n",
      "1754/1754 - 1s - loss: 0.1206 - accuracy: 0.9412\n",
      "Epoch 6/50\n",
      "1754/1754 - 1s - loss: 0.1196 - accuracy: 0.9416\n",
      "Epoch 7/50\n",
      "1754/1754 - 1s - loss: 0.1185 - accuracy: 0.9419\n",
      "Epoch 8/50\n",
      "1754/1754 - 1s - loss: 0.1177 - accuracy: 0.9424\n",
      "Epoch 9/50\n",
      "1754/1754 - 1s - loss: 0.1169 - accuracy: 0.9431\n",
      "Epoch 10/50\n",
      "1754/1754 - 1s - loss: 0.1166 - accuracy: 0.9429\n",
      "Epoch 11/50\n",
      "1754/1754 - 1s - loss: 0.1162 - accuracy: 0.9433\n",
      "Epoch 12/50\n",
      "1754/1754 - 1s - loss: 0.1157 - accuracy: 0.9439\n",
      "Epoch 13/50\n",
      "1754/1754 - 1s - loss: 0.1153 - accuracy: 0.9439\n",
      "Epoch 14/50\n",
      "1754/1754 - 1s - loss: 0.1150 - accuracy: 0.9439\n",
      "Epoch 15/50\n",
      "1754/1754 - 1s - loss: 0.1147 - accuracy: 0.9441\n",
      "Epoch 16/50\n",
      "1754/1754 - 1s - loss: 0.1145 - accuracy: 0.9442\n",
      "Epoch 17/50\n",
      "1754/1754 - 1s - loss: 0.1145 - accuracy: 0.9444\n",
      "Epoch 18/50\n",
      "1754/1754 - 1s - loss: 0.1141 - accuracy: 0.9447\n",
      "Epoch 19/50\n",
      "1754/1754 - 1s - loss: 0.1140 - accuracy: 0.9447\n",
      "Epoch 20/50\n",
      "1754/1754 - 1s - loss: 0.1138 - accuracy: 0.9445\n",
      "Epoch 21/50\n",
      "1754/1754 - 1s - loss: 0.1138 - accuracy: 0.9447\n",
      "Epoch 22/50\n",
      "1754/1754 - 1s - loss: 0.1136 - accuracy: 0.9447\n",
      "Epoch 23/50\n",
      "1754/1754 - 1s - loss: 0.1132 - accuracy: 0.9446\n",
      "Epoch 24/50\n",
      "1754/1754 - 1s - loss: 0.1132 - accuracy: 0.9450\n",
      "Epoch 25/50\n",
      "1754/1754 - 1s - loss: 0.1129 - accuracy: 0.9450\n",
      "Epoch 26/50\n",
      "1754/1754 - 1s - loss: 0.1128 - accuracy: 0.9450\n",
      "Epoch 27/50\n",
      "1754/1754 - 1s - loss: 0.1125 - accuracy: 0.9448\n",
      "Epoch 28/50\n",
      "1754/1754 - 1s - loss: 0.1127 - accuracy: 0.9445\n",
      "Epoch 29/50\n",
      "1754/1754 - 1s - loss: 0.1122 - accuracy: 0.9456\n",
      "Epoch 30/50\n",
      "1754/1754 - 1s - loss: 0.1123 - accuracy: 0.9453\n",
      "Epoch 31/50\n",
      "1754/1754 - 1s - loss: 0.1123 - accuracy: 0.9449\n",
      "Epoch 32/50\n",
      "1754/1754 - 1s - loss: 0.1119 - accuracy: 0.9452\n",
      "Epoch 33/50\n",
      "1754/1754 - 1s - loss: 0.1120 - accuracy: 0.9447\n",
      "Epoch 34/50\n",
      "1754/1754 - 1s - loss: 0.1120 - accuracy: 0.9456\n",
      "Epoch 35/50\n",
      "1754/1754 - 1s - loss: 0.1117 - accuracy: 0.9454\n",
      "Epoch 36/50\n",
      "1754/1754 - 1s - loss: 0.1116 - accuracy: 0.9456\n",
      "Epoch 37/50\n",
      "1754/1754 - 1s - loss: 0.1115 - accuracy: 0.9456\n",
      "Epoch 38/50\n",
      "1754/1754 - 1s - loss: 0.1113 - accuracy: 0.9458\n",
      "Epoch 39/50\n",
      "1754/1754 - 1s - loss: 0.1114 - accuracy: 0.9456\n",
      "Epoch 40/50\n",
      "1754/1754 - 1s - loss: 0.1115 - accuracy: 0.9451\n",
      "Epoch 41/50\n",
      "1754/1754 - 1s - loss: 0.1111 - accuracy: 0.9456\n",
      "Epoch 42/50\n",
      "1754/1754 - 1s - loss: 0.1110 - accuracy: 0.9450\n",
      "Epoch 43/50\n",
      "1754/1754 - 1s - loss: 0.1110 - accuracy: 0.9455\n",
      "Epoch 44/50\n",
      "1754/1754 - 1s - loss: 0.1108 - accuracy: 0.9456\n",
      "Epoch 45/50\n",
      "1754/1754 - 1s - loss: 0.1107 - accuracy: 0.9459\n",
      "Epoch 46/50\n",
      "1754/1754 - 1s - loss: 0.1106 - accuracy: 0.9459\n",
      "Epoch 47/50\n",
      "1754/1754 - 1s - loss: 0.1105 - accuracy: 0.9457\n",
      "Epoch 48/50\n",
      "1754/1754 - 1s - loss: 0.1104 - accuracy: 0.9457\n",
      "Epoch 49/50\n",
      "1754/1754 - 1s - loss: 0.1104 - accuracy: 0.9459\n",
      "Epoch 50/50\n",
      "1754/1754 - 1s - loss: 0.1103 - accuracy: 0.9460\n"
     ]
    },
    {
     "data": {
      "text/plain": [
       "<keras.callbacks.History at 0x7fab88f9aa60>"
      ]
     },
     "execution_count": 28,
     "metadata": {},
     "output_type": "execute_result"
    }
   ],
   "source": [
    "# Compiling the model\n",
    "model_RELU3.compile(loss='binary_crossentropy', optimizer='adam', metrics=['accuracy'])\n",
    "# Fitting the model\n",
    "model_RELU3.fit(x_train, y_train, epochs=50, batch_size=100, verbose=2)"
   ]
  },
  {
   "cell_type": "code",
   "execution_count": 29,
   "metadata": {},
   "outputs": [
    {
     "name": "stdout",
     "output_type": "stream",
     "text": [
      "( 1 ) Running:  RELU\n",
      "( 2 ) Predicting on train..\n",
      "\tAccuracy on training data: \t0.9463673830032349\n",
      "\tError on training data: \t0.05363261699676514 \n",
      "\n",
      "( 3 ) Predicting on test..\n",
      "\tAccuracy on testing data: \t0.8545523285865784\n",
      "\tError on testing data: \t\t0.14544767141342163 \n",
      "\n",
      "( 4 ) Done!\n"
     ]
    }
   ],
   "source": [
    "# Predicting the model for training and testing data using function from file \n",
    "predict_ANN_model(x_train, y_train, x_test, y_test, model_RELU3, model_name=\"RELU\")"
   ]
  },
  {
   "cell_type": "markdown",
   "metadata": {},
   "source": [
    "## (2) LeakyRelu Activation Function"
   ]
  },
  {
   "cell_type": "code",
   "execution_count": 7,
   "metadata": {},
   "outputs": [],
   "source": [
    "model_LeakyRelu = Sequential()\n",
    "\n",
    "# now add a ReLU layer explicitly:\n",
    "model_LeakyRelu.add(LeakyReLU(alpha=0.2))\n",
    "model_LeakyRelu.add(LeakyReLU(alpha=0.2))\n",
    "model_LeakyRelu.add(LeakyReLU(alpha=0.2))"
   ]
  },
  {
   "cell_type": "code",
   "execution_count": 8,
   "metadata": {},
   "outputs": [],
   "source": [
    "# Compiling the model\n",
    "model_LeakyRelu.compile(loss='binary_crossentropy', optimizer='adam', metrics=['accuracy'])"
   ]
  },
  {
   "cell_type": "code",
   "execution_count": 9,
   "metadata": {},
   "outputs": [
    {
     "name": "stdout",
     "output_type": "stream",
     "text": [
      "Epoch 1/50\n",
      "1754/1754 [==============================] - 1s 454us/step - loss: 8.8921 - accuracy: 5.0188e-04\n",
      "Epoch 2/50\n",
      "1754/1754 [==============================] - 1s 457us/step - loss: 8.8921 - accuracy: 5.0188e-04\n",
      "Epoch 3/50\n",
      "1754/1754 [==============================] - 1s 455us/step - loss: 8.8921 - accuracy: 5.0188e-04\n",
      "Epoch 4/50\n",
      "1754/1754 [==============================] - 1s 455us/step - loss: 8.8921 - accuracy: 5.0188e-04\n",
      "Epoch 5/50\n",
      "1754/1754 [==============================] - 1s 454us/step - loss: 8.8921 - accuracy: 5.0188e-04\n",
      "Epoch 6/50\n",
      "1754/1754 [==============================] - 1s 448us/step - loss: 8.8921 - accuracy: 5.0188e-04\n",
      "Epoch 7/50\n",
      "1754/1754 [==============================] - 1s 461us/step - loss: 8.8921 - accuracy: 5.0188e-04\n",
      "Epoch 8/50\n",
      "1754/1754 [==============================] - 1s 448us/step - loss: 8.8921 - accuracy: 5.0188e-04\n",
      "Epoch 9/50\n",
      "1754/1754 [==============================] - 1s 451us/step - loss: 8.8921 - accuracy: 5.0188e-04\n",
      "Epoch 10/50\n",
      "1754/1754 [==============================] - 1s 452us/step - loss: 8.8921 - accuracy: 5.0188e-04\n",
      "Epoch 11/50\n",
      "1754/1754 [==============================] - 1s 449us/step - loss: 8.8921 - accuracy: 5.0188e-04\n",
      "Epoch 12/50\n",
      "1754/1754 [==============================] - 1s 452us/step - loss: 8.8921 - accuracy: 5.0188e-04\n",
      "Epoch 13/50\n",
      "1754/1754 [==============================] - 1s 449us/step - loss: 8.8921 - accuracy: 5.0188e-04\n",
      "Epoch 14/50\n",
      "1754/1754 [==============================] - 1s 446us/step - loss: 8.8921 - accuracy: 5.0188e-04\n",
      "Epoch 15/50\n",
      "1754/1754 [==============================] - 1s 483us/step - loss: 8.8921 - accuracy: 5.0188e-04\n",
      "Epoch 16/50\n",
      "1754/1754 [==============================] - 1s 446us/step - loss: 8.8921 - accuracy: 5.0188e-04\n",
      "Epoch 17/50\n",
      "1754/1754 [==============================] - 1s 449us/step - loss: 8.8921 - accuracy: 5.0188e-04\n",
      "Epoch 18/50\n",
      "1754/1754 [==============================] - 1s 448us/step - loss: 8.8921 - accuracy: 5.0188e-04\n",
      "Epoch 19/50\n",
      "1754/1754 [==============================] - 1s 450us/step - loss: 8.8921 - accuracy: 5.0188e-04\n",
      "Epoch 20/50\n",
      "1754/1754 [==============================] - 1s 447us/step - loss: 8.8921 - accuracy: 5.0188e-04\n",
      "Epoch 21/50\n",
      "1754/1754 [==============================] - 1s 448us/step - loss: 8.8921 - accuracy: 5.0188e-04\n",
      "Epoch 22/50\n",
      "1754/1754 [==============================] - 1s 449us/step - loss: 8.8921 - accuracy: 5.0188e-04\n",
      "Epoch 23/50\n",
      "1754/1754 [==============================] - 1s 449us/step - loss: 8.8921 - accuracy: 5.0188e-04\n",
      "Epoch 24/50\n",
      "1754/1754 [==============================] - 1s 452us/step - loss: 8.8921 - accuracy: 5.0188e-04\n",
      "Epoch 25/50\n",
      "1754/1754 [==============================] - 1s 442us/step - loss: 8.8921 - accuracy: 5.0188e-04\n",
      "Epoch 26/50\n",
      "1754/1754 [==============================] - 1s 447us/step - loss: 8.8921 - accuracy: 5.0188e-04\n",
      "Epoch 27/50\n",
      "1754/1754 [==============================] - 1s 450us/step - loss: 8.8921 - accuracy: 5.0188e-04\n",
      "Epoch 28/50\n",
      "1754/1754 [==============================] - 1s 447us/step - loss: 8.8921 - accuracy: 5.0188e-04\n",
      "Epoch 29/50\n",
      "1754/1754 [==============================] - 1s 448us/step - loss: 8.8921 - accuracy: 5.0188e-04\n",
      "Epoch 30/50\n",
      "1754/1754 [==============================] - 1s 451us/step - loss: 8.8921 - accuracy: 5.0188e-04\n",
      "Epoch 31/50\n",
      "1754/1754 [==============================] - 1s 450us/step - loss: 8.8921 - accuracy: 5.0188e-04\n",
      "Epoch 32/50\n",
      "1754/1754 [==============================] - 1s 459us/step - loss: 8.8921 - accuracy: 5.0188e-04\n",
      "Epoch 33/50\n",
      "1754/1754 [==============================] - 1s 446us/step - loss: 8.8921 - accuracy: 5.0188e-04\n",
      "Epoch 34/50\n",
      "1754/1754 [==============================] - 1s 447us/step - loss: 8.8921 - accuracy: 5.0188e-04\n",
      "Epoch 35/50\n",
      "1754/1754 [==============================] - 1s 445us/step - loss: 8.8921 - accuracy: 5.0188e-04\n",
      "Epoch 36/50\n",
      "1754/1754 [==============================] - 1s 445us/step - loss: 8.8921 - accuracy: 5.0188e-04\n",
      "Epoch 37/50\n",
      "1754/1754 [==============================] - 1s 446us/step - loss: 8.8921 - accuracy: 5.0188e-04\n",
      "Epoch 38/50\n",
      "1754/1754 [==============================] - 1s 447us/step - loss: 8.8921 - accuracy: 5.0188e-04\n",
      "Epoch 39/50\n",
      "1754/1754 [==============================] - 1s 446us/step - loss: 8.8921 - accuracy: 5.0188e-04\n",
      "Epoch 40/50\n",
      "1754/1754 [==============================] - 1s 446us/step - loss: 8.8921 - accuracy: 5.0188e-04\n",
      "Epoch 41/50\n",
      "1754/1754 [==============================] - 1s 446us/step - loss: 8.8921 - accuracy: 5.0188e-04\n",
      "Epoch 42/50\n",
      "1754/1754 [==============================] - 1s 445us/step - loss: 8.8921 - accuracy: 5.0188e-04\n",
      "Epoch 43/50\n",
      "1754/1754 [==============================] - 1s 447us/step - loss: 8.8921 - accuracy: 5.0188e-04\n",
      "Epoch 44/50\n",
      "1754/1754 [==============================] - 1s 444us/step - loss: 8.8921 - accuracy: 5.0188e-04\n",
      "Epoch 45/50\n",
      "1754/1754 [==============================] - 1s 446us/step - loss: 8.8921 - accuracy: 5.0188e-04\n",
      "Epoch 46/50\n",
      "1754/1754 [==============================] - 1s 443us/step - loss: 8.8921 - accuracy: 5.0188e-04\n",
      "Epoch 47/50\n",
      "1754/1754 [==============================] - 1s 444us/step - loss: 8.8921 - accuracy: 5.0188e-04\n",
      "Epoch 48/50\n",
      "1754/1754 [==============================] - 1s 442us/step - loss: 8.8921 - accuracy: 5.0188e-04\n",
      "Epoch 49/50\n",
      "1754/1754 [==============================] - 1s 441us/step - loss: 8.8921 - accuracy: 5.0188e-04\n",
      "Epoch 50/50\n",
      "1754/1754 [==============================] - 1s 442us/step - loss: 8.8921 - accuracy: 5.0188e-04\n"
     ]
    },
    {
     "data": {
      "text/plain": [
       "<keras.callbacks.History at 0x7fab58357520>"
      ]
     },
     "execution_count": 9,
     "metadata": {},
     "output_type": "execute_result"
    }
   ],
   "source": [
    "# Fitting the model\n",
    "model_LeakyRelu.fit(x_train, y_train, epochs=50, batch_size=100)"
   ]
  },
  {
   "cell_type": "code",
   "execution_count": 10,
   "metadata": {},
   "outputs": [
    {
     "name": "stdout",
     "output_type": "stream",
     "text": [
      "( 1 ) Running:  LeakyRelu\n",
      "( 2 ) Predicting on train..\n",
      "\tAccuracy on training data: \t0.000501879199873656\n",
      "\tError on training data: \t0.9994981208001263 \n",
      "\n",
      "( 3 ) Predicting on test..\n",
      "\tAccuracy on testing data: \t0.0004615459474734962\n",
      "\tError on testing data: \t\t0.9995384540525265 \n",
      "\n",
      "( 4 ) Done!\n"
     ]
    }
   ],
   "source": [
    "# Predicting the model for training and testing data using function from file \n",
    "predict_ANN_model(x_train, y_train, x_test, y_test, model_LeakyRelu, model_name=\"LeakyRelu\")"
   ]
  },
  {
   "cell_type": "markdown",
   "metadata": {},
   "source": [
    "## (3) Sigmoid Activation Function"
   ]
  },
  {
   "cell_type": "code",
   "execution_count": 11,
   "metadata": {},
   "outputs": [],
   "source": [
    "# Building the model\n",
    "model_sigmoid = Sequential()\n",
    "model_sigmoid.add(Dense(350, activation=\"sigmoid\", input_dim=53))\n",
    "model_sigmoid.add(Dense(300, activation=\"sigmoid\"))\n",
    "model_sigmoid.add(Dense(150, activation=\"sigmoid\"))\n",
    "model_sigmoid.add(Dense(75, activation=\"sigmoid\"))\n",
    "model_sigmoid.add(Dense(20, activation=\"sigmoid\"))\n",
    "model_sigmoid.add(Dense(8, activation=\"sigmoid\"))\n",
    "model_sigmoid.add(Dense(1, activation=\"sigmoid\"))"
   ]
  },
  {
   "cell_type": "code",
   "execution_count": 12,
   "metadata": {},
   "outputs": [],
   "source": [
    "# Compiling the model\n",
    "model_sigmoid.compile(loss='binary_crossentropy', optimizer='adam', metrics=['accuracy'])"
   ]
  },
  {
   "cell_type": "code",
   "execution_count": 13,
   "metadata": {},
   "outputs": [
    {
     "name": "stdout",
     "output_type": "stream",
     "text": [
      "Epoch 1/50\n",
      "1754/1754 [==============================] - 3s 2ms/step - loss: 0.3409 - accuracy: 0.8734\n",
      "Epoch 2/50\n",
      "1754/1754 [==============================] - 3s 2ms/step - loss: 0.2500 - accuracy: 0.9233\n",
      "Epoch 3/50\n",
      "1754/1754 [==============================] - 3s 2ms/step - loss: 0.2443 - accuracy: 0.9233\n",
      "Epoch 4/50\n",
      "1754/1754 [==============================] - 3s 2ms/step - loss: 0.1486 - accuracy: 0.9351\n",
      "Epoch 5/50\n",
      "1754/1754 [==============================] - 3s 2ms/step - loss: 0.1273 - accuracy: 0.9376\n",
      "Epoch 6/50\n",
      "1754/1754 [==============================] - 3s 2ms/step - loss: 0.1248 - accuracy: 0.9385\n",
      "Epoch 7/50\n",
      "1754/1754 [==============================] - 3s 2ms/step - loss: 0.1236 - accuracy: 0.9387\n",
      "Epoch 8/50\n",
      "1754/1754 [==============================] - 3s 2ms/step - loss: 0.1222 - accuracy: 0.9392\n",
      "Epoch 9/50\n",
      "1754/1754 [==============================] - 3s 2ms/step - loss: 0.1215 - accuracy: 0.9397\n",
      "Epoch 10/50\n",
      "1754/1754 [==============================] - 3s 2ms/step - loss: 0.1205 - accuracy: 0.9397\n",
      "Epoch 11/50\n",
      "1754/1754 [==============================] - 3s 2ms/step - loss: 0.1199 - accuracy: 0.9404\n",
      "Epoch 12/50\n",
      "1754/1754 [==============================] - 3s 2ms/step - loss: 0.1189 - accuracy: 0.9409\n",
      "Epoch 13/50\n",
      "1754/1754 [==============================] - 3s 2ms/step - loss: 0.1182 - accuracy: 0.9410\n",
      "Epoch 14/50\n",
      "1754/1754 [==============================] - 3s 2ms/step - loss: 0.1177 - accuracy: 0.9416\n",
      "Epoch 15/50\n",
      "1754/1754 [==============================] - 3s 2ms/step - loss: 0.1169 - accuracy: 0.9422\n",
      "Epoch 16/50\n",
      "1754/1754 [==============================] - 3s 2ms/step - loss: 0.1162 - accuracy: 0.9427\n",
      "Epoch 17/50\n",
      "1754/1754 [==============================] - 3s 2ms/step - loss: 0.1159 - accuracy: 0.9428\n",
      "Epoch 18/50\n",
      "1754/1754 [==============================] - 3s 2ms/step - loss: 0.1149 - accuracy: 0.9435\n",
      "Epoch 19/50\n",
      "1754/1754 [==============================] - 3s 2ms/step - loss: 0.1145 - accuracy: 0.9435\n",
      "Epoch 20/50\n",
      "1754/1754 [==============================] - 3s 2ms/step - loss: 0.1137 - accuracy: 0.9444\n",
      "Epoch 21/50\n",
      "1754/1754 [==============================] - 3s 2ms/step - loss: 0.1133 - accuracy: 0.9439\n",
      "Epoch 22/50\n",
      "1754/1754 [==============================] - 3s 2ms/step - loss: 0.1127 - accuracy: 0.9445\n",
      "Epoch 23/50\n",
      "1754/1754 [==============================] - 3s 2ms/step - loss: 0.1123 - accuracy: 0.9451\n",
      "Epoch 24/50\n",
      "1754/1754 [==============================] - 3s 2ms/step - loss: 0.1119 - accuracy: 0.9450\n",
      "Epoch 25/50\n",
      "1754/1754 [==============================] - 3s 2ms/step - loss: 0.1115 - accuracy: 0.9454\n",
      "Epoch 26/50\n",
      "1754/1754 [==============================] - 3s 2ms/step - loss: 0.1112 - accuracy: 0.9451\n",
      "Epoch 27/50\n",
      "1754/1754 [==============================] - 3s 2ms/step - loss: 0.1108 - accuracy: 0.9460\n",
      "Epoch 28/50\n",
      "1754/1754 [==============================] - 3s 2ms/step - loss: 0.1102 - accuracy: 0.9456\n",
      "Epoch 29/50\n",
      "1754/1754 [==============================] - 3s 2ms/step - loss: 0.1098 - accuracy: 0.9461\n",
      "Epoch 30/50\n",
      "1754/1754 [==============================] - 3s 2ms/step - loss: 0.1095 - accuracy: 0.9464\n",
      "Epoch 31/50\n",
      "1754/1754 [==============================] - 3s 2ms/step - loss: 0.1092 - accuracy: 0.9460\n",
      "Epoch 32/50\n",
      "1754/1754 [==============================] - 3s 2ms/step - loss: 0.1091 - accuracy: 0.9462\n",
      "Epoch 33/50\n",
      "1754/1754 [==============================] - 3s 2ms/step - loss: 0.1085 - accuracy: 0.9463\n",
      "Epoch 34/50\n",
      "1754/1754 [==============================] - 3s 2ms/step - loss: 0.1084 - accuracy: 0.9463\n",
      "Epoch 35/50\n",
      "1754/1754 [==============================] - 3s 2ms/step - loss: 0.1079 - accuracy: 0.9468\n",
      "Epoch 36/50\n",
      "1754/1754 [==============================] - 3s 2ms/step - loss: 0.1079 - accuracy: 0.9469\n",
      "Epoch 37/50\n",
      "1754/1754 [==============================] - 3s 2ms/step - loss: 0.1076 - accuracy: 0.9472\n",
      "Epoch 38/50\n",
      "1754/1754 [==============================] - 3s 2ms/step - loss: 0.1075 - accuracy: 0.9466\n",
      "Epoch 39/50\n",
      "1754/1754 [==============================] - 3s 2ms/step - loss: 0.1070 - accuracy: 0.9468\n",
      "Epoch 40/50\n",
      "1754/1754 [==============================] - 3s 2ms/step - loss: 0.1070 - accuracy: 0.9468\n",
      "Epoch 41/50\n",
      "1754/1754 [==============================] - 3s 2ms/step - loss: 0.1064 - accuracy: 0.9475\n",
      "Epoch 42/50\n",
      "1754/1754 [==============================] - 3s 2ms/step - loss: 0.1062 - accuracy: 0.9471\n",
      "Epoch 43/50\n",
      "1754/1754 [==============================] - 3s 2ms/step - loss: 0.1059 - accuracy: 0.9474\n",
      "Epoch 44/50\n",
      "1754/1754 [==============================] - 3s 2ms/step - loss: 0.1055 - accuracy: 0.9475\n",
      "Epoch 45/50\n",
      "1754/1754 [==============================] - 3s 2ms/step - loss: 0.1056 - accuracy: 0.9477\n",
      "Epoch 46/50\n",
      "1754/1754 [==============================] - 3s 2ms/step - loss: 0.1051 - accuracy: 0.9478\n",
      "Epoch 47/50\n",
      "1754/1754 [==============================] - 3s 2ms/step - loss: 0.1049 - accuracy: 0.9475\n",
      "Epoch 48/50\n",
      "1754/1754 [==============================] - 3s 2ms/step - loss: 0.1046 - accuracy: 0.9482\n",
      "Epoch 49/50\n",
      "1754/1754 [==============================] - 3s 2ms/step - loss: 0.1047 - accuracy: 0.9481\n",
      "Epoch 50/50\n",
      "1754/1754 [==============================] - 3s 2ms/step - loss: 0.1042 - accuracy: 0.9481\n"
     ]
    },
    {
     "data": {
      "text/plain": [
       "<keras.callbacks.History at 0x7fab6a90efa0>"
      ]
     },
     "execution_count": 13,
     "metadata": {},
     "output_type": "execute_result"
    }
   ],
   "source": [
    "# Fitting the model\n",
    "model_sigmoid.fit(x_train, y_train, epochs=50, batch_size=100)"
   ]
  },
  {
   "cell_type": "code",
   "execution_count": 19,
   "metadata": {},
   "outputs": [
    {
     "name": "stdout",
     "output_type": "stream",
     "text": [
      "( 1 ) Running:  Sigmoid\n",
      "( 2 ) Predicting on train..\n",
      "\tAccuracy on training data: \t0.9493443965911865\n",
      "\tError on training data: \t0.05065560340881348 \n",
      "\n",
      "( 3 ) Predicting on test..\n",
      "\tAccuracy on testing data: \t0.8808847069740295\n",
      "\tError on testing data: \t\t0.11911529302597046 \n",
      "\n",
      "( 4 ) Done!\n"
     ]
    }
   ],
   "source": [
    "# Predicting the model for training and testing data using function from file \n",
    "predict_ANN_model(x_train, y_train, x_test, y_test, model_sigmoid, model_name=\"Sigmoid\")"
   ]
  },
  {
   "cell_type": "markdown",
   "metadata": {},
   "source": [
    "## (4) Tanh Activation Function"
   ]
  },
  {
   "cell_type": "code",
   "execution_count": 15,
   "metadata": {},
   "outputs": [],
   "source": [
    "# Building the model\n",
    "model_tanh = Sequential()\n",
    "model_tanh.add(Dense(150, activation=\"tanh\", input_dim=53))\n",
    "model_tanh.add(Dropout(0.2))\n",
    "\n",
    "model_tanh.add(Dense(100, activation=\"tanh\"))\n",
    "model_tanh.add(Dense(50, activation=\"tanh\"))\n",
    "model_tanh.add(Dense(1, activation=\"sigmoid\"))"
   ]
  },
  {
   "cell_type": "code",
   "execution_count": 16,
   "metadata": {},
   "outputs": [],
   "source": [
    "# Compiling the model\n",
    "model_tanh.compile(loss='binary_crossentropy', optimizer='adam', metrics=['accuracy'])"
   ]
  },
  {
   "cell_type": "code",
   "execution_count": 17,
   "metadata": {},
   "outputs": [
    {
     "name": "stdout",
     "output_type": "stream",
     "text": [
      "Epoch 1/50\n",
      "1754/1754 [==============================] - 3s 1ms/step - loss: 0.1408 - accuracy: 0.9347\n",
      "Epoch 2/50\n",
      "1754/1754 [==============================] - 2s 1ms/step - loss: 0.1235 - accuracy: 0.9388\n",
      "Epoch 3/50\n",
      "1754/1754 [==============================] - 2s 1ms/step - loss: 0.1202 - accuracy: 0.9402\n",
      "Epoch 4/50\n",
      "1754/1754 [==============================] - 2s 1ms/step - loss: 0.1182 - accuracy: 0.9415\n",
      "Epoch 5/50\n",
      "1754/1754 [==============================] - 2s 1ms/step - loss: 0.1171 - accuracy: 0.9422\n",
      "Epoch 6/50\n",
      "1754/1754 [==============================] - 2s 1ms/step - loss: 0.1159 - accuracy: 0.9427\n",
      "Epoch 7/50\n",
      "1754/1754 [==============================] - 2s 1ms/step - loss: 0.1147 - accuracy: 0.9430\n",
      "Epoch 8/50\n",
      "1754/1754 [==============================] - 2s 1ms/step - loss: 0.1135 - accuracy: 0.9442\n",
      "Epoch 9/50\n",
      "1754/1754 [==============================] - 2s 1ms/step - loss: 0.1128 - accuracy: 0.9443\n",
      "Epoch 10/50\n",
      "1754/1754 [==============================] - 2s 1ms/step - loss: 0.1118 - accuracy: 0.9452\n",
      "Epoch 11/50\n",
      "1754/1754 [==============================] - 2s 1ms/step - loss: 0.1116 - accuracy: 0.9449\n",
      "Epoch 12/50\n",
      "1754/1754 [==============================] - 2s 1ms/step - loss: 0.1105 - accuracy: 0.9454\n",
      "Epoch 13/50\n",
      "1754/1754 [==============================] - 2s 1ms/step - loss: 0.1104 - accuracy: 0.9453\n",
      "Epoch 14/50\n",
      "1754/1754 [==============================] - 2s 1ms/step - loss: 0.1095 - accuracy: 0.9456\n",
      "Epoch 15/50\n",
      "1754/1754 [==============================] - 2s 1ms/step - loss: 0.1089 - accuracy: 0.9456\n",
      "Epoch 16/50\n",
      "1754/1754 [==============================] - 2s 1ms/step - loss: 0.1086 - accuracy: 0.9463\n",
      "Epoch 17/50\n",
      "1754/1754 [==============================] - 2s 1ms/step - loss: 0.1081 - accuracy: 0.9463\n",
      "Epoch 18/50\n",
      "1754/1754 [==============================] - 2s 1ms/step - loss: 0.1076 - accuracy: 0.9469\n",
      "Epoch 19/50\n",
      "1754/1754 [==============================] - 2s 1ms/step - loss: 0.1076 - accuracy: 0.9470\n",
      "Epoch 20/50\n",
      "1754/1754 [==============================] - 2s 1ms/step - loss: 0.1069 - accuracy: 0.9470\n",
      "Epoch 21/50\n",
      "1754/1754 [==============================] - 2s 1ms/step - loss: 0.1066 - accuracy: 0.9469\n",
      "Epoch 22/50\n",
      "1754/1754 [==============================] - 2s 1ms/step - loss: 0.1066 - accuracy: 0.9473\n",
      "Epoch 23/50\n",
      "1754/1754 [==============================] - 2s 1ms/step - loss: 0.1062 - accuracy: 0.9471\n",
      "Epoch 24/50\n",
      "1754/1754 [==============================] - 2s 1ms/step - loss: 0.1055 - accuracy: 0.9478\n",
      "Epoch 25/50\n",
      "1754/1754 [==============================] - 2s 1ms/step - loss: 0.1056 - accuracy: 0.9481\n",
      "Epoch 26/50\n",
      "1754/1754 [==============================] - 2s 1ms/step - loss: 0.1053 - accuracy: 0.9478\n",
      "Epoch 27/50\n",
      "1754/1754 [==============================] - 2s 1ms/step - loss: 0.1052 - accuracy: 0.9481\n",
      "Epoch 28/50\n",
      "1754/1754 [==============================] - 2s 1ms/step - loss: 0.1052 - accuracy: 0.9479\n",
      "Epoch 29/50\n",
      "1754/1754 [==============================] - 2s 1ms/step - loss: 0.1051 - accuracy: 0.9479\n",
      "Epoch 30/50\n",
      "1754/1754 [==============================] - 2s 1ms/step - loss: 0.1042 - accuracy: 0.9482\n",
      "Epoch 31/50\n",
      "1754/1754 [==============================] - 2s 1ms/step - loss: 0.1044 - accuracy: 0.9483\n",
      "Epoch 32/50\n",
      "1754/1754 [==============================] - 2s 1ms/step - loss: 0.1039 - accuracy: 0.9485\n",
      "Epoch 33/50\n",
      "1754/1754 [==============================] - 2s 1ms/step - loss: 0.1040 - accuracy: 0.9485\n",
      "Epoch 34/50\n",
      "1754/1754 [==============================] - 2s 1ms/step - loss: 0.1039 - accuracy: 0.9490\n",
      "Epoch 35/50\n",
      "1754/1754 [==============================] - 2s 1ms/step - loss: 0.1038 - accuracy: 0.9485\n",
      "Epoch 36/50\n",
      "1754/1754 [==============================] - 2s 1ms/step - loss: 0.1037 - accuracy: 0.9486\n",
      "Epoch 37/50\n",
      "1754/1754 [==============================] - 2s 1ms/step - loss: 0.1033 - accuracy: 0.9491\n",
      "Epoch 38/50\n",
      "1754/1754 [==============================] - 2s 1ms/step - loss: 0.1031 - accuracy: 0.9485\n",
      "Epoch 39/50\n",
      "1754/1754 [==============================] - 2s 1ms/step - loss: 0.1029 - accuracy: 0.9498\n",
      "Epoch 40/50\n",
      "1754/1754 [==============================] - 2s 1ms/step - loss: 0.1027 - accuracy: 0.9490\n",
      "Epoch 41/50\n",
      "1754/1754 [==============================] - 2s 1ms/step - loss: 0.1026 - accuracy: 0.9496\n",
      "Epoch 42/50\n",
      "1754/1754 [==============================] - 2s 1ms/step - loss: 0.1026 - accuracy: 0.9493\n",
      "Epoch 43/50\n",
      "1754/1754 [==============================] - 2s 1ms/step - loss: 0.1025 - accuracy: 0.9495\n",
      "Epoch 44/50\n",
      "1754/1754 [==============================] - 2s 1ms/step - loss: 0.1021 - accuracy: 0.9497\n",
      "Epoch 45/50\n",
      "1754/1754 [==============================] - 2s 1ms/step - loss: 0.1027 - accuracy: 0.9497\n",
      "Epoch 46/50\n",
      "1754/1754 [==============================] - 2s 1ms/step - loss: 0.1020 - accuracy: 0.9499\n",
      "Epoch 47/50\n",
      "1754/1754 [==============================] - 2s 1ms/step - loss: 0.1023 - accuracy: 0.9495\n",
      "Epoch 48/50\n",
      "1754/1754 [==============================] - 2s 1ms/step - loss: 0.1016 - accuracy: 0.9499\n",
      "Epoch 49/50\n",
      "1754/1754 [==============================] - 2s 1ms/step - loss: 0.1016 - accuracy: 0.9502\n",
      "Epoch 50/50\n",
      "1754/1754 [==============================] - 2s 1ms/step - loss: 0.1016 - accuracy: 0.9498\n"
     ]
    },
    {
     "data": {
      "text/plain": [
       "<keras.callbacks.History at 0x7fab99ac53a0>"
      ]
     },
     "execution_count": 17,
     "metadata": {},
     "output_type": "execute_result"
    }
   ],
   "source": [
    "# Fitting the model\n",
    "model_tanh.fit(x_train, y_train, epochs=50, batch_size=100)"
   ]
  },
  {
   "cell_type": "code",
   "execution_count": 20,
   "metadata": {},
   "outputs": [
    {
     "name": "stdout",
     "output_type": "stream",
     "text": [
      "( 1 ) Running:  Tanh\n",
      "( 2 ) Predicting on train..\n",
      "\tAccuracy on training data: \t0.9528632760047913\n",
      "\tError on training data: \t0.04713672399520874 \n",
      "\n",
      "( 3 ) Predicting on test..\n",
      "\tAccuracy on testing data: \t0.8661759495735168\n",
      "\tError on testing data: \t\t0.13382405042648315 \n",
      "\n",
      "( 4 ) Done!\n"
     ]
    }
   ],
   "source": [
    "# Predicting the model for training and testing data using function from file \n",
    "predict_ANN_model(x_train, y_train, x_test, y_test, model_tanh, model_name=\"Tanh\")"
   ]
  },
  {
   "cell_type": "code",
   "execution_count": null,
   "metadata": {},
   "outputs": [],
   "source": []
  }
 ],
 "metadata": {
  "interpreter": {
   "hash": "557f7a76709d809d5a6b0728b55d2b66cdd1850049e35147309670e9cf1c5b51"
  },
  "kernelspec": {
   "display_name": "Python 3.8.12 64-bit ('MastersThesis': conda)",
   "name": "python3"
  },
  "language_info": {
   "codemirror_mode": {
    "name": "ipython",
    "version": 3
   },
   "file_extension": ".py",
   "mimetype": "text/x-python",
   "name": "python",
   "nbconvert_exporter": "python",
   "pygments_lexer": "ipython3",
   "version": "3.8.12"
  },
  "orig_nbformat": 4
 },
 "nbformat": 4,
 "nbformat_minor": 2
}
