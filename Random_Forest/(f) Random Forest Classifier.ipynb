{
 "cells": [
  {
   "cell_type": "markdown",
   "id": "7b24200e-10b3-4231-a654-4036474bdc78",
   "metadata": {},
   "source": [
    "# ( f ) Random Forest Classifier"
   ]
  },
  {
   "cell_type": "markdown",
   "id": "a98d2d9d-3f75-4749-acd3-8e7cf7867efd",
   "metadata": {},
   "source": [
    "## Importing Libraries"
   ]
  },
  {
   "cell_type": "code",
   "execution_count": 1,
   "id": "b0f9bd6a-7165-4e83-adef-eae5fe0fd798",
   "metadata": {},
   "outputs": [],
   "source": [
    "# Data manipulation\n",
    "import pandas as pd\n",
    "import numpy as np\n",
    "\n",
    "# Model\n",
    "from sklearn import model_selection\n",
    "from sklearn.ensemble import RandomForestClassifier\n",
    "from sklearn.linear_model import LinearRegression\n",
    "import sklearn.linear_model as sk\n",
    "\n",
    "# metrics are used to find accuracy or error\n",
    "from sklearn import metrics\n",
    "from sklearn.metrics import (accuracy_score, confusion_matrix, precision_recall_curve, auc, roc_curve, \n",
    "                            recall_score,  classification_report, f1_score, average_precision_score, precision_recall_fscore_support)\n",
    "import time\n",
    "\n",
    "# For Visualization\n",
    "import matplotlib.pyplot as plt\n",
    "import seaborn as sns"
   ]
  },
  {
   "cell_type": "code",
   "execution_count": 2,
   "id": "be9f26f1-892f-4d79-b711-5052d7e7967a",
   "metadata": {},
   "outputs": [],
   "source": [
    "train = pd.read_csv(\"../Dataset/train_pp3.csv\")\n",
    "test = pd.read_csv(\"../Dataset/test_pp3.csv\")"
   ]
  },
  {
   "cell_type": "code",
   "execution_count": 3,
   "id": "7c74080c",
   "metadata": {},
   "outputs": [
    {
     "data": {
      "text/html": [
       "<div>\n",
       "<style scoped>\n",
       "    .dataframe tbody tr th:only-of-type {\n",
       "        vertical-align: middle;\n",
       "    }\n",
       "\n",
       "    .dataframe tbody tr th {\n",
       "        vertical-align: top;\n",
       "    }\n",
       "\n",
       "    .dataframe thead th {\n",
       "        text-align: right;\n",
       "    }\n",
       "</style>\n",
       "<table border=\"1\" class=\"dataframe\">\n",
       "  <thead>\n",
       "    <tr style=\"text-align: right;\">\n",
       "      <th></th>\n",
       "      <th>service_http</th>\n",
       "      <th>service_others</th>\n",
       "      <th>dtcpb</th>\n",
       "      <th>state_others</th>\n",
       "      <th>sload</th>\n",
       "      <th>proto_ospf</th>\n",
       "      <th>ct_dst_sport_ltm</th>\n",
       "      <th>synack</th>\n",
       "      <th>sbytes</th>\n",
       "      <th>service_ftp-data</th>\n",
       "      <th>...</th>\n",
       "      <th>rate</th>\n",
       "      <th>proto_arp</th>\n",
       "      <th>service_ftp</th>\n",
       "      <th>state_REQ</th>\n",
       "      <th>tcprtt</th>\n",
       "      <th>state_INT</th>\n",
       "      <th>ct_dst_src_ltm</th>\n",
       "      <th>djit</th>\n",
       "      <th>dmean</th>\n",
       "      <th>label</th>\n",
       "    </tr>\n",
       "  </thead>\n",
       "  <tbody>\n",
       "    <tr>\n",
       "      <th>0</th>\n",
       "      <td>0</td>\n",
       "      <td>0</td>\n",
       "      <td>0.911123</td>\n",
       "      <td>0</td>\n",
       "      <td>-0.389897</td>\n",
       "      <td>0</td>\n",
       "      <td>-0.554373</td>\n",
       "      <td>-0.484346</td>\n",
       "      <td>-0.049134</td>\n",
       "      <td>0</td>\n",
       "      <td>...</td>\n",
       "      <td>-0.576371</td>\n",
       "      <td>0</td>\n",
       "      <td>0</td>\n",
       "      <td>0</td>\n",
       "      <td>-0.521660</td>\n",
       "      <td>0</td>\n",
       "      <td>-0.705529</td>\n",
       "      <td>-0.145905</td>\n",
       "      <td>-0.314240</td>\n",
       "      <td>0</td>\n",
       "    </tr>\n",
       "    <tr>\n",
       "      <th>1</th>\n",
       "      <td>0</td>\n",
       "      <td>0</td>\n",
       "      <td>1.557251</td>\n",
       "      <td>0</td>\n",
       "      <td>-0.389928</td>\n",
       "      <td>0</td>\n",
       "      <td>-0.554373</td>\n",
       "      <td>-0.484346</td>\n",
       "      <td>-0.046410</td>\n",
       "      <td>0</td>\n",
       "      <td>...</td>\n",
       "      <td>-0.576345</td>\n",
       "      <td>0</td>\n",
       "      <td>0</td>\n",
       "      <td>0</td>\n",
       "      <td>-0.521660</td>\n",
       "      <td>0</td>\n",
       "      <td>-0.614256</td>\n",
       "      <td>0.192913</td>\n",
       "      <td>3.800869</td>\n",
       "      <td>0</td>\n",
       "    </tr>\n",
       "    <tr>\n",
       "      <th>2</th>\n",
       "      <td>0</td>\n",
       "      <td>0</td>\n",
       "      <td>1.472854</td>\n",
       "      <td>0</td>\n",
       "      <td>-0.389964</td>\n",
       "      <td>0</td>\n",
       "      <td>-0.554373</td>\n",
       "      <td>0.931748</td>\n",
       "      <td>-0.048527</td>\n",
       "      <td>0</td>\n",
       "      <td>...</td>\n",
       "      <td>-0.576734</td>\n",
       "      <td>0</td>\n",
       "      <td>0</td>\n",
       "      <td>0</td>\n",
       "      <td>0.888444</td>\n",
       "      <td>0</td>\n",
       "      <td>-0.522983</td>\n",
       "      <td>2.663504</td>\n",
       "      <td>2.709185</td>\n",
       "      <td>0</td>\n",
       "    </tr>\n",
       "    <tr>\n",
       "      <th>3</th>\n",
       "      <td>0</td>\n",
       "      <td>0</td>\n",
       "      <td>0.058025</td>\n",
       "      <td>0</td>\n",
       "      <td>-0.389958</td>\n",
       "      <td>0</td>\n",
       "      <td>-0.554373</td>\n",
       "      <td>-0.484346</td>\n",
       "      <td>-0.047016</td>\n",
       "      <td>0</td>\n",
       "      <td>...</td>\n",
       "      <td>-0.576737</td>\n",
       "      <td>0</td>\n",
       "      <td>1</td>\n",
       "      <td>0</td>\n",
       "      <td>-0.521660</td>\n",
       "      <td>0</td>\n",
       "      <td>-0.522983</td>\n",
       "      <td>1.080373</td>\n",
       "      <td>-0.232945</td>\n",
       "      <td>0</td>\n",
       "    </tr>\n",
       "    <tr>\n",
       "      <th>4</th>\n",
       "      <td>0</td>\n",
       "      <td>0</td>\n",
       "      <td>0.744668</td>\n",
       "      <td>0</td>\n",
       "      <td>-0.389927</td>\n",
       "      <td>0</td>\n",
       "      <td>-0.554373</td>\n",
       "      <td>1.154999</td>\n",
       "      <td>-0.047554</td>\n",
       "      <td>0</td>\n",
       "      <td>...</td>\n",
       "      <td>-0.576617</td>\n",
       "      <td>0</td>\n",
       "      <td>0</td>\n",
       "      <td>0</td>\n",
       "      <td>1.096172</td>\n",
       "      <td>0</td>\n",
       "      <td>2.854115</td>\n",
       "      <td>-0.120301</td>\n",
       "      <td>-0.306498</td>\n",
       "      <td>0</td>\n",
       "    </tr>\n",
       "  </tbody>\n",
       "</table>\n",
       "<p>5 rows × 54 columns</p>\n",
       "</div>"
      ],
      "text/plain": [
       "   service_http  service_others     dtcpb  state_others     sload  proto_ospf  \\\n",
       "0             0               0  0.911123             0 -0.389897           0   \n",
       "1             0               0  1.557251             0 -0.389928           0   \n",
       "2             0               0  1.472854             0 -0.389964           0   \n",
       "3             0               0  0.058025             0 -0.389958           0   \n",
       "4             0               0  0.744668             0 -0.389927           0   \n",
       "\n",
       "   ct_dst_sport_ltm    synack    sbytes  service_ftp-data  ...      rate  \\\n",
       "0         -0.554373 -0.484346 -0.049134                 0  ... -0.576371   \n",
       "1         -0.554373 -0.484346 -0.046410                 0  ... -0.576345   \n",
       "2         -0.554373  0.931748 -0.048527                 0  ... -0.576734   \n",
       "3         -0.554373 -0.484346 -0.047016                 0  ... -0.576737   \n",
       "4         -0.554373  1.154999 -0.047554                 0  ... -0.576617   \n",
       "\n",
       "   proto_arp  service_ftp  state_REQ    tcprtt  state_INT  ct_dst_src_ltm  \\\n",
       "0          0            0          0 -0.521660          0       -0.705529   \n",
       "1          0            0          0 -0.521660          0       -0.614256   \n",
       "2          0            0          0  0.888444          0       -0.522983   \n",
       "3          0            1          0 -0.521660          0       -0.522983   \n",
       "4          0            0          0  1.096172          0        2.854115   \n",
       "\n",
       "       djit     dmean  label  \n",
       "0 -0.145905 -0.314240      0  \n",
       "1  0.192913  3.800869      0  \n",
       "2  2.663504  2.709185      0  \n",
       "3  1.080373 -0.232945      0  \n",
       "4 -0.120301 -0.306498      0  \n",
       "\n",
       "[5 rows x 54 columns]"
      ]
     },
     "execution_count": 3,
     "metadata": {},
     "output_type": "execute_result"
    }
   ],
   "source": [
    "train.head()"
   ]
  },
  {
   "cell_type": "markdown",
   "id": "983cd300-7eca-41ac-bb6b-fee785df08e5",
   "metadata": {},
   "source": [
    "## Data import"
   ]
  },
  {
   "cell_type": "code",
   "execution_count": 4,
   "id": "1f371093-7c28-4c08-ad4d-daa3ae814d3f",
   "metadata": {},
   "outputs": [
    {
     "name": "stdout",
     "output_type": "stream",
     "text": [
      "X_train Shape:  \t (175341, 53)\n",
      "y_train Shape:  \t (175341,)\n",
      "X_test Shape:  \t\t (82332, 53)\n",
      "y_test Shape:  \t\t (82332,)\n"
     ]
    }
   ],
   "source": [
    "x_train, y_train = train.drop([\"label\"], axis=1), train[\"label\"]\n",
    "x_test, y_test = test.drop([\"label\"], axis=1), test[\"label\"]\n",
    "print('X_train Shape: ', '\\t', x_train.shape)\n",
    "print('y_train Shape: ', '\\t', y_train.shape)\n",
    "print('X_test Shape: ', '\\t\\t', x_test.shape)\n",
    "print('y_test Shape: ', '\\t\\t', y_test.shape)"
   ]
  },
  {
   "cell_type": "markdown",
   "id": "08d3fc16-e03d-43de-82f4-0c4d44279a66",
   "metadata": {},
   "source": [
    "## Random Forest Classifier"
   ]
  },
  {
   "cell_type": "code",
   "execution_count": 5,
   "id": "f331eb6b-3e6b-4a2b-b63f-53778f0b4186",
   "metadata": {},
   "outputs": [],
   "source": [
    "# random forest model creation\n",
    "clf = RandomForestClassifier(n_estimators = 500, verbose = 1, n_jobs=-1, criterion='entropy')"
   ]
  },
  {
   "cell_type": "code",
   "execution_count": 6,
   "id": "b1bdf46c-380e-4eca-908c-09e961adc514",
   "metadata": {},
   "outputs": [
    {
     "name": "stderr",
     "output_type": "stream",
     "text": [
      "[Parallel(n_jobs=-1)]: Using backend ThreadingBackend with 16 concurrent workers.\n",
      "[Parallel(n_jobs=-1)]: Done  18 tasks      | elapsed:    1.4s\n",
      "[Parallel(n_jobs=-1)]: Done 168 tasks      | elapsed:    8.2s\n",
      "[Parallel(n_jobs=-1)]: Done 418 tasks      | elapsed:   18.9s\n",
      "[Parallel(n_jobs=-1)]: Done 500 out of 500 | elapsed:   22.3s finished\n"
     ]
    },
    {
     "data": {
      "text/plain": [
       "RandomForestClassifier(criterion='entropy', n_estimators=500, n_jobs=-1,\n",
       "                       verbose=1)"
      ]
     },
     "execution_count": 6,
     "metadata": {},
     "output_type": "execute_result"
    }
   ],
   "source": [
    "# fit function is used to train the model using the training sets as parameters\n",
    "clf.fit(x_train, y_train)"
   ]
  },
  {
   "cell_type": "code",
   "execution_count": 7,
   "id": "7a52548f-3bcf-44c2-a461-7c66291f26e1",
   "metadata": {},
   "outputs": [
    {
     "name": "stderr",
     "output_type": "stream",
     "text": [
      "[Parallel(n_jobs=16)]: Using backend ThreadingBackend with 16 concurrent workers.\n",
      "[Parallel(n_jobs=16)]: Done  18 tasks      | elapsed:    0.1s\n",
      "[Parallel(n_jobs=16)]: Done 168 tasks      | elapsed:    0.3s\n",
      "[Parallel(n_jobs=16)]: Done 418 tasks      | elapsed:    0.7s\n",
      "[Parallel(n_jobs=16)]: Done 500 out of 500 | elapsed:    0.8s finished\n"
     ]
    }
   ],
   "source": [
    "# performing predictions on the test dataset\n",
    "y_pred = clf.predict(x_test)"
   ]
  },
  {
   "cell_type": "code",
   "execution_count": 8,
   "id": "7205f1f7-8a10-442b-b615-5c38f2d6f707",
   "metadata": {},
   "outputs": [
    {
     "name": "stdout",
     "output_type": "stream",
     "text": [
      "ACCURACY OF THE MODEL:  0.8731234513919254\n"
     ]
    }
   ],
   "source": [
    "# using metrics module for accuracy calculation\n",
    "print(\"ACCURACY OF THE MODEL: \", metrics.accuracy_score(y_test, y_pred))"
   ]
  },
  {
   "cell_type": "code",
   "execution_count": 9,
   "id": "2ad3edd1-4c79-487d-aaa5-f4bb65ca067a",
   "metadata": {},
   "outputs": [
    {
     "name": "stdout",
     "output_type": "stream",
     "text": [
      "              precision    recall  f1-score   support\n",
      "\n",
      "           0       0.98      0.73      0.84     37000\n",
      "           1       0.82      0.99      0.90     45332\n",
      "\n",
      "    accuracy                           0.87     82332\n",
      "   macro avg       0.90      0.86      0.87     82332\n",
      "weighted avg       0.89      0.87      0.87     82332\n",
      "\n"
     ]
    }
   ],
   "source": [
    "from sklearn.metrics import classification_report\n",
    "\n",
    "print(classification_report(y_test, y_pred))"
   ]
  },
  {
   "cell_type": "markdown",
   "id": "550d993d",
   "metadata": {},
   "source": [
    "## Machine Learning Analysis"
   ]
  },
  {
   "cell_type": "code",
   "execution_count": 10,
   "id": "cfd05561",
   "metadata": {},
   "outputs": [
    {
     "name": "stdout",
     "output_type": "stream",
     "text": [
      "Logisitic Regression Analysis Accuracy:  0.8143370742846038\n"
     ]
    }
   ],
   "source": [
    "# Logistic Regression \n",
    "log = sk.LogisticRegression(solver = \"liblinear\")\n",
    "y_pred_log_fit = log.fit(x_train, y_train)\n",
    "y_pred_log = y_pred_log_fit.predict(x_test)\n",
    "log_accuracy = accuracy_score(y_test, y_pred_log)\n",
    "print(\"Logisitic Regression Analysis Accuracy: \", log_accuracy)"
   ]
  },
  {
   "cell_type": "code",
   "execution_count": null,
   "id": "062b7f98",
   "metadata": {},
   "outputs": [],
   "source": []
  }
 ],
 "metadata": {
  "interpreter": {
   "hash": "557f7a76709d809d5a6b0728b55d2b66cdd1850049e35147309670e9cf1c5b51"
  },
  "kernelspec": {
   "display_name": "Python 3.8.12 64-bit ('MastersThesis': conda)",
   "name": "python3"
  },
  "language_info": {
   "codemirror_mode": {
    "name": "ipython",
    "version": 3
   },
   "file_extension": ".py",
   "mimetype": "text/x-python",
   "name": "python",
   "nbconvert_exporter": "python",
   "pygments_lexer": "ipython3",
   "version": "3.8.12"
  }
 },
 "nbformat": 4,
 "nbformat_minor": 5
}
