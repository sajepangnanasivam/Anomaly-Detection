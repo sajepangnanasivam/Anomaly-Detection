{
 "cells": [
  {
   "cell_type": "markdown",
   "id": "f3f5e310-d905-4074-81ff-7cd0906a45c5",
   "metadata": {},
   "source": [
    "# Random Forest Classifier 2"
   ]
  },
  {
   "cell_type": "markdown",
   "id": "7181f920-e4d0-47dc-923d-86ad84549160",
   "metadata": {},
   "source": [
    "https://www.geeksforgeeks.org/random-forest-classifier-using-scikit-learn/"
   ]
  },
  {
   "cell_type": "code",
   "execution_count": 1,
   "id": "1421700b-cd2b-41d4-8f7f-794cbce7d790",
   "metadata": {},
   "outputs": [],
   "source": [
    "# Importing Libraries: Data processing\n",
    "import pandas as pd\n",
    "import numpy as np\n",
    "\n",
    "# Importing Libraries: Model\n",
    "import sklearn\n",
    "from sklearn import preprocessing \n",
    "from sklearn import model_selection\n",
    "from sklearn.ensemble import RandomForestClassifier\n",
    "\n",
    "# metrics are used to find accuracy or error\n",
    "from sklearn import metrics  "
   ]
  },
  {
   "cell_type": "code",
   "execution_count": 2,
   "id": "9194632f-d32c-4046-981b-c5b6415e86c5",
   "metadata": {},
   "outputs": [
    {
     "name": "stdout",
     "output_type": "stream",
     "text": [
      "Training Set Shape: \t\t (82332, 45)\n",
      "Testing Set Shape: \t\t (175341, 45)\n"
     ]
    }
   ],
   "source": [
    "# Loading the training and testing datasets.\n",
    "test = pd.read_csv(\"UNSW_NB15_testing-set.csv\", sep=',', header=0)\n",
    "train = pd.read_csv(\"UNSW_NB15_training-set.csv\", sep=',', header=0)\n",
    "\n",
    "# Printing the shape of the datasets\n",
    "print('Training Set Shape:', '\\t\\t', train.shape)\n",
    "print('Testing Set Shape:', '\\t\\t', test.shape)"
   ]
  },
  {
   "cell_type": "markdown",
   "id": "000e5992-596e-4a1b-964e-862c83ac7e4b",
   "metadata": {},
   "source": [
    "## Label Encoder"
   ]
  },
  {
   "cell_type": "markdown",
   "id": "dde3ef2b-9134-422d-b1e0-7b3490ba23f9",
   "metadata": {},
   "source": [
    "We can se from df.info() that proto, service, state and attack_cat columns are of the type object. \n",
    "Label encode these."
   ]
  },
  {
   "cell_type": "code",
   "execution_count": 3,
   "id": "c7b10c3e-e865-49b5-8140-b7e41742a3a8",
   "metadata": {},
   "outputs": [],
   "source": [
    "# Defining the columns that need to be label encoded.\n",
    "cols = ['proto', 'service', 'state', 'attack_cat']\n",
    "le = preprocessing.LabelEncoder()"
   ]
  },
  {
   "cell_type": "code",
   "execution_count": 4,
   "id": "8c1b7c20-26c6-4eb9-93b7-dd577029098c",
   "metadata": {},
   "outputs": [],
   "source": [
    "# Label encoding the columns for the test and training set\n",
    "test[cols] = test[cols].apply(le.fit_transform)\n",
    "train[cols] = train[cols].apply(le.fit_transform)"
   ]
  },
  {
   "cell_type": "code",
   "execution_count": 5,
   "id": "70469896-e2b0-4749-9675-d2dceb10172d",
   "metadata": {},
   "outputs": [],
   "source": [
    "# Splitting the dataset into inputs and outputs\n",
    "X_train = train.iloc[:, 0:44]\n",
    "X_test = test.iloc[:, 0:44]\n",
    "y_train = train.iloc[:, 44]\n",
    "y_test = test.iloc[:, 44]"
   ]
  },
  {
   "cell_type": "markdown",
   "id": "4553c491-e37e-40bf-b548-6c558b04f846",
   "metadata": {},
   "source": [
    "## Creating Classifier"
   ]
  },
  {
   "cell_type": "code",
   "execution_count": 6,
   "id": "1bf677f3-f4d7-4b55-95c8-e9b977db35d0",
   "metadata": {},
   "outputs": [],
   "source": [
    "# random forest model creation\n",
    "clf = RandomForestClassifier(n_estimators = 500, verbose = 1)"
   ]
  },
  {
   "cell_type": "code",
   "execution_count": 7,
   "id": "6a78b660-01c4-44d3-bde2-62751ec50ec9",
   "metadata": {},
   "outputs": [
    {
     "name": "stderr",
     "output_type": "stream",
     "text": [
      "[Parallel(n_jobs=1)]: Using backend SequentialBackend with 1 concurrent workers.\n",
      "[Parallel(n_jobs=1)]: Done 500 out of 500 | elapsed:   24.3s finished\n"
     ]
    },
    {
     "data": {
      "text/plain": [
       "RandomForestClassifier(n_estimators=500, verbose=1)"
      ]
     },
     "execution_count": 7,
     "metadata": {},
     "output_type": "execute_result"
    }
   ],
   "source": [
    "# fit function is used to train the model using the training sets as parameters\n",
    "clf.fit(X_train, y_train)"
   ]
  },
  {
   "cell_type": "code",
   "execution_count": 8,
   "id": "a6e0dadf-78ca-428b-828b-475c9d5d25f4",
   "metadata": {},
   "outputs": [
    {
     "name": "stderr",
     "output_type": "stream",
     "text": [
      "[Parallel(n_jobs=1)]: Using backend SequentialBackend with 1 concurrent workers.\n",
      "[Parallel(n_jobs=1)]: Done 500 out of 500 | elapsed:    3.8s finished\n"
     ]
    }
   ],
   "source": [
    "# performing predictions on the test dataset\n",
    "y_pred = clf.predict(X_test)"
   ]
  },
  {
   "cell_type": "code",
   "execution_count": 9,
   "id": "985337da-f4e4-459b-b6a8-7a7e0dc557f2",
   "metadata": {},
   "outputs": [
    {
     "name": "stdout",
     "output_type": "stream",
     "text": [
      "ACCURACY OF THE MODEL:  0.9474680764909519\n"
     ]
    }
   ],
   "source": [
    "# using metrics module for accuracy calculation\n",
    "print(\"ACCURACY OF THE MODEL: \", metrics.accuracy_score(y_test, y_pred))"
   ]
  },
  {
   "cell_type": "code",
   "execution_count": 10,
   "id": "ca60bfb4-8100-4da5-83bc-cadce80f8aae",
   "metadata": {},
   "outputs": [
    {
     "name": "stdout",
     "output_type": "stream",
     "text": [
      "              precision    recall  f1-score   support\n",
      "\n",
      "           0       0.86      1.00      0.92     56000\n",
      "           1       1.00      0.92      0.96    119341\n",
      "\n",
      "    accuracy                           0.95    175341\n",
      "   macro avg       0.93      0.96      0.94    175341\n",
      "weighted avg       0.95      0.95      0.95    175341\n",
      "\n"
     ]
    }
   ],
   "source": [
    "from sklearn.metrics import classification_report\n",
    "\n",
    "print(classification_report(y_test, y_pred))"
   ]
  },
  {
   "cell_type": "code",
   "execution_count": null,
   "id": "dbd8f2ed-7c37-479b-abea-7884076bda2d",
   "metadata": {},
   "outputs": [],
   "source": []
  },
  {
   "cell_type": "code",
   "execution_count": null,
   "id": "96a037a6-6eb5-46d0-99b5-5a68bb239ebb",
   "metadata": {},
   "outputs": [],
   "source": []
  }
 ],
 "metadata": {
  "kernelspec": {
   "display_name": "Python 3",
   "language": "python",
   "name": "python3"
  },
  "language_info": {
   "codemirror_mode": {
    "name": "ipython",
    "version": 3
   },
   "file_extension": ".py",
   "mimetype": "text/x-python",
   "name": "python",
   "nbconvert_exporter": "python",
   "pygments_lexer": "ipython3",
   "version": "3.8.8"
  }
 },
 "nbformat": 4,
 "nbformat_minor": 5
}
