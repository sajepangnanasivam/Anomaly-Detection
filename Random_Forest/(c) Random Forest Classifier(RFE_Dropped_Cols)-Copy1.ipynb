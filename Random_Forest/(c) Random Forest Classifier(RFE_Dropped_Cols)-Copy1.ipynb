{
 "cells": [
  {
   "cell_type": "markdown",
   "id": "f3f5e310-d905-4074-81ff-7cd0906a45c5",
   "metadata": {},
   "source": [
    "# Random Forest Classifier (RFE Dropped Columns)"
   ]
  },
  {
   "cell_type": "markdown",
   "id": "7181f920-e4d0-47dc-923d-86ad84549160",
   "metadata": {},
   "source": [
    "https://www.geeksforgeeks.org/random-forest-classifier-using-scikit-learn/"
   ]
  },
  {
   "cell_type": "code",
   "execution_count": 1,
   "id": "1421700b-cd2b-41d4-8f7f-794cbce7d790",
   "metadata": {},
   "outputs": [],
   "source": [
    "# Importing Libraries: Data processing\n",
    "import pandas as pd\n",
    "import numpy as np\n",
    "\n",
    "# Importing Libraries: Model\n",
    "import sklearn\n",
    "from sklearn import preprocessing \n",
    "from sklearn import model_selection\n",
    "from sklearn.ensemble import RandomForestClassifier\n",
    "\n",
    "# metrics are used to find accuracy or error\n",
    "from sklearn import metrics  "
   ]
  },
  {
   "cell_type": "code",
   "execution_count": 2,
   "id": "9194632f-d32c-4046-981b-c5b6415e86c5",
   "metadata": {},
   "outputs": [
    {
     "name": "stdout",
     "output_type": "stream",
     "text": [
      "Training Set Shape: \t\t (82332, 45)\n",
      "Testing Set Shape: \t\t (175341, 45)\n"
     ]
    }
   ],
   "source": [
    "# Loading the training and testing datasets.\n",
    "test = pd.read_csv(\"UNSW_NB15_testing-set.csv\", sep=',', header=0)\n",
    "train = pd.read_csv(\"UNSW_NB15_training-set.csv\", sep=',', header=0)\n",
    "\n",
    "# Printing the shape of the datasets\n",
    "print('Training Set Shape:', '\\t\\t', train.shape)\n",
    "print('Testing Set Shape:', '\\t\\t', test.shape)"
   ]
  },
  {
   "cell_type": "markdown",
   "id": "000e5992-596e-4a1b-964e-862c83ac7e4b",
   "metadata": {},
   "source": [
    "## Label Encoder"
   ]
  },
  {
   "cell_type": "markdown",
   "id": "dde3ef2b-9134-422d-b1e0-7b3490ba23f9",
   "metadata": {},
   "source": [
    "We can se from test.info() and train.info() that proto, service, state and attack_cat columns are of the type 'object'. \n",
    "Label encode these."
   ]
  },
  {
   "cell_type": "code",
   "execution_count": 3,
   "id": "dae0f745-755c-4ebf-86e7-44d5eb5eeeea",
   "metadata": {},
   "outputs": [],
   "source": [
    "dropCols = ['id','attack_cat','ackdat', 'ct_ftp_cmd', 'djit', 'is_ftp_login', 'is_sm_ips_ports', 'response_body_len', 'sjit', 'synack', 'tcprtt']"
   ]
  },
  {
   "cell_type": "code",
   "execution_count": 4,
   "id": "9ede9205-c0cb-4823-a948-cfc8f76c7243",
   "metadata": {},
   "outputs": [],
   "source": [
    "test.drop(dropCols, axis=1, inplace = True)\n",
    "train.drop(dropCols, axis=1, inplace = True)"
   ]
  },
  {
   "cell_type": "code",
   "execution_count": 5,
   "id": "48ad5f61-2dcc-4d63-a92f-1d6092130c91",
   "metadata": {},
   "outputs": [
    {
     "name": "stdout",
     "output_type": "stream",
     "text": [
      "<class 'pandas.core.frame.DataFrame'>\n",
      "RangeIndex: 175341 entries, 0 to 175340\n",
      "Data columns (total 34 columns):\n",
      " #   Column            Non-Null Count   Dtype  \n",
      "---  ------            --------------   -----  \n",
      " 0   dur               175341 non-null  float64\n",
      " 1   proto             175341 non-null  object \n",
      " 2   service           175341 non-null  object \n",
      " 3   state             175341 non-null  object \n",
      " 4   spkts             175341 non-null  int64  \n",
      " 5   dpkts             175341 non-null  int64  \n",
      " 6   sbytes            175341 non-null  int64  \n",
      " 7   dbytes            175341 non-null  int64  \n",
      " 8   rate              175341 non-null  float64\n",
      " 9   sttl              175341 non-null  int64  \n",
      " 10  dttl              175341 non-null  int64  \n",
      " 11  sload             175341 non-null  float64\n",
      " 12  dload             175341 non-null  float64\n",
      " 13  sloss             175341 non-null  int64  \n",
      " 14  dloss             175341 non-null  int64  \n",
      " 15  sinpkt            175341 non-null  float64\n",
      " 16  dinpkt            175341 non-null  float64\n",
      " 17  swin              175341 non-null  int64  \n",
      " 18  stcpb             175341 non-null  int64  \n",
      " 19  dtcpb             175341 non-null  int64  \n",
      " 20  dwin              175341 non-null  int64  \n",
      " 21  smean             175341 non-null  int64  \n",
      " 22  dmean             175341 non-null  int64  \n",
      " 23  trans_depth       175341 non-null  int64  \n",
      " 24  ct_srv_src        175341 non-null  int64  \n",
      " 25  ct_state_ttl      175341 non-null  int64  \n",
      " 26  ct_dst_ltm        175341 non-null  int64  \n",
      " 27  ct_src_dport_ltm  175341 non-null  int64  \n",
      " 28  ct_dst_sport_ltm  175341 non-null  int64  \n",
      " 29  ct_dst_src_ltm    175341 non-null  int64  \n",
      " 30  ct_flw_http_mthd  175341 non-null  int64  \n",
      " 31  ct_src_ltm        175341 non-null  int64  \n",
      " 32  ct_srv_dst        175341 non-null  int64  \n",
      " 33  label             175341 non-null  int64  \n",
      "dtypes: float64(6), int64(25), object(3)\n",
      "memory usage: 45.5+ MB\n"
     ]
    }
   ],
   "source": [
    "test.info()"
   ]
  },
  {
   "cell_type": "code",
   "execution_count": 6,
   "id": "c7b10c3e-e865-49b5-8140-b7e41742a3a8",
   "metadata": {},
   "outputs": [],
   "source": [
    "# Defining the columns that need to be label encoded.\n",
    "cols = ['proto', 'service', 'state']\n",
    "le = preprocessing.LabelEncoder()"
   ]
  },
  {
   "cell_type": "code",
   "execution_count": 7,
   "id": "8c1b7c20-26c6-4eb9-93b7-dd577029098c",
   "metadata": {},
   "outputs": [],
   "source": [
    "# Label encoding the columns for the test and training set\n",
    "test[cols] = test[cols].apply(le.fit_transform)\n",
    "train[cols] = train[cols].apply(le.fit_transform)"
   ]
  },
  {
   "cell_type": "code",
   "execution_count": 8,
   "id": "70469896-e2b0-4749-9675-d2dceb10172d",
   "metadata": {},
   "outputs": [],
   "source": [
    "# Splitting the dataset into inputs and outputs\n",
    "X_train = train.iloc[:, 0:22]\n",
    "X_test = test.iloc[:, 0:22]\n",
    "y_train = train.iloc[:, 22]\n",
    "y_test = test.iloc[:, 22]"
   ]
  },
  {
   "cell_type": "markdown",
   "id": "4553c491-e37e-40bf-b548-6c558b04f846",
   "metadata": {},
   "source": [
    "## Creating the Classifier"
   ]
  },
  {
   "cell_type": "code",
   "execution_count": null,
   "id": "1bf677f3-f4d7-4b55-95c8-e9b977db35d0",
   "metadata": {},
   "outputs": [],
   "source": [
    "# random forest model creation\n",
    "clf = RandomForestClassifier(n_estimators = 50, verbose = 1)"
   ]
  },
  {
   "cell_type": "code",
   "execution_count": null,
   "id": "6a78b660-01c4-44d3-bde2-62751ec50ec9",
   "metadata": {},
   "outputs": [],
   "source": [
    "# fit function is used to train the model using the training sets as parameters\n",
    "clf.fit(X_train, y_train)"
   ]
  },
  {
   "cell_type": "code",
   "execution_count": null,
   "id": "a6e0dadf-78ca-428b-828b-475c9d5d25f4",
   "metadata": {},
   "outputs": [],
   "source": [
    "# performing predictions on the test dataset\n",
    "y_pred = clf.predict(X_test)"
   ]
  },
  {
   "cell_type": "code",
   "execution_count": null,
   "id": "985337da-f4e4-459b-b6a8-7a7e0dc557f2",
   "metadata": {},
   "outputs": [],
   "source": [
    "# using metrics module for accuracy calculation\n",
    "print(\"ACCURACY OF THE MODEL: \", metrics.accuracy_score(y_test, y_pred))"
   ]
  },
  {
   "cell_type": "code",
   "execution_count": null,
   "id": "ca60bfb4-8100-4da5-83bc-cadce80f8aae",
   "metadata": {},
   "outputs": [],
   "source": [
    "from sklearn.metrics import classification_report\n",
    "\n",
    "print(classification_report(y_test, y_pred))"
   ]
  }
 ],
 "metadata": {
  "kernelspec": {
   "display_name": "Python 3 (ipykernel)",
   "language": "python",
   "name": "python3"
  },
  "language_info": {
   "codemirror_mode": {
    "name": "ipython",
    "version": 3
   },
   "file_extension": ".py",
   "mimetype": "text/x-python",
   "name": "python",
   "nbconvert_exporter": "python",
   "pygments_lexer": "ipython3",
   "version": "3.8.5"
  }
 },
 "nbformat": 4,
 "nbformat_minor": 5
}
