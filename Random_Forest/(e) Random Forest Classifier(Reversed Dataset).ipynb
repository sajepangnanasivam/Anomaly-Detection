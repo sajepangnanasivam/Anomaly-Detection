{
 "cells": [
  {
   "cell_type": "markdown",
   "id": "a48f09d5-c656-4c3a-9f49-481bdfccb519",
   "metadata": {},
   "source": [
    "# Random Forest (Reversed dataset + XBoost Feature Selection)"
   ]
  },
  {
   "cell_type": "code",
   "execution_count": null,
   "id": "0275750f-61d3-42aa-b098-3b44e52fc374",
   "metadata": {},
   "outputs": [],
   "source": [
    "# Importing Libraries: Data processing\n",
    "import pandas as pd\n",
    "import numpy as np\n",
    "from sklearn.model_selection import train_test_split\n",
    "from sklearn.preprocessing import StandardScaler\n",
    "\n",
    "# Importing Libraries: Model\n",
    "import sklearn\n",
    "from sklearn import preprocessing \n",
    "from sklearn import model_selection\n",
    "from sklearn.ensemble import RandomForestClassifier\n",
    "\n",
    "# metrics are used to find accuracy or error\n",
    "from sklearn import metrics"
   ]
  },
  {
   "cell_type": "code",
   "execution_count": null,
   "id": "ef627ae5-f042-4360-b54c-390f1f6bf555",
   "metadata": {},
   "outputs": [],
   "source": [
    "# Loading the training and testing datasets, REVERSED\n",
    "train = pd.read_csv(\"UNSW_NB15_training-set.csv\", sep=',', header=0)\n",
    "test = pd.read_csv(\"UNSW_NB15_testing-set.csv\", sep=',', header=0)"
   ]
  },
  {
   "cell_type": "code",
   "execution_count": null,
   "id": "f4ddf6c5-9006-4723-b960-9a797232d1b5",
   "metadata": {},
   "outputs": [],
   "source": [
    "train.skew()"
   ]
  },
  {
   "cell_type": "code",
   "execution_count": null,
   "id": "414b6207-1751-4e2f-832e-ed78df625af9",
   "metadata": {},
   "outputs": [],
   "source": [
    "import seaborn as sns \n",
    "sns.displot(df.Price);"
   ]
  },
  {
   "cell_type": "code",
   "execution_count": null,
   "id": "3d269968-0bac-41f9-8ef2-bf7cb9a06428",
   "metadata": {},
   "outputs": [],
   "source": []
  },
  {
   "cell_type": "code",
   "execution_count": null,
   "id": "a9689687-524f-4847-a9bc-a51e8321afdc",
   "metadata": {},
   "outputs": [],
   "source": [
    "## Dropping columns based on XGboost Feature Selection\n",
    "# Feature Selection based on XGBoost Feature Selection method\n",
    "# drop_XGBoost_cols = ['attack_cat','ct_ftp_cmd', 'swin', 'is_ftp_login', 'dttl', 'state', 'trans_depth', 'ct_flw_http_mthd', 'dpkts', 'spkts', 'dloss', 'ct_state_ttl', 'sloss', 'service']\n",
    "\n",
    "drop_XGBoost_cols = ['attack_cat']\n",
    "train.drop(drop_XGBoost_cols, axis=1, inplace=True)\n",
    "test.drop(drop_XGBoost_cols, axis=1, inplace=True)"
   ]
  },
  {
   "cell_type": "code",
   "execution_count": null,
   "id": "efc3c411-f3f7-4e64-9cd9-138c7225ac56",
   "metadata": {},
   "outputs": [],
   "source": [
    "# Selecting all categorical columns (object)\n",
    "le_train = train.select_dtypes(include=[object]).columns\n",
    "# Selecting all categorical columns (object)\n",
    "le_test = test.select_dtypes(include=[object]).columns"
   ]
  },
  {
   "cell_type": "code",
   "execution_count": null,
   "id": "30e84c55-2994-47b0-9cc8-03a241af047d",
   "metadata": {},
   "outputs": [],
   "source": [
    "# Label Encoding train and test.\n",
    "le = preprocessing.LabelEncoder()\n",
    "train[le_train] = train[le_train].apply(le.fit_transform)\n",
    "test[le_test] = test[le_test].apply(le.fit_transform)"
   ]
  },
  {
   "cell_type": "code",
   "execution_count": null,
   "id": "264a2f7d-0bb8-4470-b25a-02de87581ba0",
   "metadata": {},
   "outputs": [],
   "source": [
    "# Splitting the datset into X and y\n",
    "X_train = train.drop(['label'], axis=1)\n",
    "y_train = train.loc[:, ['label']]\n",
    "\n",
    "# Splitting the datset into X and y\n",
    "X_test = test.drop(['label'], axis=1)\n",
    "y_test = test.loc[:, ['label']]\n",
    "\n",
    "print('X_train Shape: ', X_train.shape)\n",
    "print('y_train Shape: ', y_train.shape)\n",
    "print('X_test Shape: ', X_test.shape)\n",
    "print('y_test Shape: ', y_test.shape)"
   ]
  },
  {
   "cell_type": "code",
   "execution_count": null,
   "id": "f1d9bda0-c739-4706-a0b6-a3cd0c5d5e87",
   "metadata": {},
   "outputs": [],
   "source": [
    "# Applying StandardScaler on X\n",
    "ss = StandardScaler()\n",
    "X_train = pd.DataFrame(ss.fit_transform(X_train),columns = X_train.columns)\n",
    "X_test = pd.DataFrame(ss.fit_transform(X_test),columns = X_test.columns)"
   ]
  },
  {
   "cell_type": "code",
   "execution_count": null,
   "id": "fa9da699-e004-43de-89a3-5df6dedbfc38",
   "metadata": {},
   "outputs": [],
   "source": []
  },
  {
   "cell_type": "markdown",
   "id": "d5309602-93e8-4b83-98d3-3ced16fa580f",
   "metadata": {},
   "source": [
    "## Random Forest Classifier"
   ]
  },
  {
   "cell_type": "code",
   "execution_count": null,
   "id": "ba214e82-0b50-45c0-8a3b-54f52a29c713",
   "metadata": {},
   "outputs": [],
   "source": [
    "# random forest model creation\n",
    "clf = RandomForestClassifier(n_estimators = 300, verbose = 1, n_jobs=-1)"
   ]
  },
  {
   "cell_type": "code",
   "execution_count": null,
   "id": "72278c4c-6f39-43ae-a46d-4dc793b4878a",
   "metadata": {},
   "outputs": [],
   "source": [
    "# fit function is used to train the model using the training sets as parameters\n",
    "clf.fit(X_train, y_train.values.ravel())"
   ]
  },
  {
   "cell_type": "code",
   "execution_count": null,
   "id": "c3d8b444-ee61-4c46-af73-3f9ef602dea6",
   "metadata": {},
   "outputs": [],
   "source": [
    "# performing predictions on the test dataset\n",
    "y_pred = clf.predict(X_test)"
   ]
  },
  {
   "cell_type": "code",
   "execution_count": null,
   "id": "9cbb390a-a780-4b3f-a3fd-177cec23cfa4",
   "metadata": {},
   "outputs": [],
   "source": [
    "# using metrics module for accuracy calculation\n",
    "print(\"ACCURACY OF THE MODEL: \", metrics.accuracy_score(y_test, y_pred))"
   ]
  },
  {
   "cell_type": "code",
   "execution_count": null,
   "id": "bd958a4c-5a1a-4d5f-bd95-331631f416f7",
   "metadata": {},
   "outputs": [],
   "source": [
    "from sklearn.metrics import classification_report\n",
    "\n",
    "print(classification_report(y_test, y_pred))"
   ]
  },
  {
   "cell_type": "code",
   "execution_count": null,
   "id": "7c555e7c-ab43-4307-8829-4059f25655a3",
   "metadata": {},
   "outputs": [],
   "source": []
  },
  {
   "cell_type": "code",
   "execution_count": null,
   "id": "b2260cd8-3a95-451d-b1be-4f15201d2385",
   "metadata": {},
   "outputs": [],
   "source": []
  }
 ],
 "metadata": {
  "kernelspec": {
   "display_name": "Python 3 (ipykernel)",
   "language": "python",
   "name": "python3"
  },
  "language_info": {
   "codemirror_mode": {
    "name": "ipython",
    "version": 3
   },
   "file_extension": ".py",
   "mimetype": "text/x-python",
   "name": "python",
   "nbconvert_exporter": "python",
   "pygments_lexer": "ipython3",
   "version": "3.8.5"
  }
 },
 "nbformat": 4,
 "nbformat_minor": 5
}
