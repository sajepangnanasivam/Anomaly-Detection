{
 "cells": [
  {
   "cell_type": "markdown",
   "id": "9a90389e-5b44-49d6-87fc-4434f370af57",
   "metadata": {},
   "source": [
    "# Random Forest - Method 4"
   ]
  },
  {
   "cell_type": "markdown",
   "id": "9c4c48eb-2a5e-40b4-b612-849433ff1e9f",
   "metadata": {},
   "source": [
    "## (1) Library Imports"
   ]
  },
  {
   "cell_type": "code",
   "execution_count": 1,
   "id": "a91ed8fd-07ba-42f5-86aa-515d757e9396",
   "metadata": {},
   "outputs": [],
   "source": [
    "# Importing Libraries: Data processing\n",
    "import pandas as pd\n",
    "import numpy as np\n",
    "from sklearn.model_selection import train_test_split\n",
    "from sklearn.preprocessing import StandardScaler\n",
    "\n",
    "# Importing Libraries: Model\n",
    "import sklearn\n",
    "from sklearn import preprocessing \n",
    "from sklearn import model_selection\n",
    "from sklearn.ensemble import RandomForestClassifier\n",
    "\n",
    "# metrics are used to find accuracy or error\n",
    "from sklearn import metrics"
   ]
  },
  {
   "cell_type": "markdown",
   "id": "07df0a6c-20ba-47b7-b24e-75f379de7e06",
   "metadata": {
    "tags": []
   },
   "source": [
    "## (2) Pre-Processing"
   ]
  },
  {
   "cell_type": "code",
   "execution_count": null,
   "id": "23d8d7df-60aa-4e1e-930d-fdc145b1b198",
   "metadata": {},
   "outputs": [
    {
     "data": {
      "text/plain": [
       "0"
      ]
     },
     "execution_count": 2,
     "metadata": {},
     "output_type": "execute_result"
    }
   ],
   "source": [
    "# Loading the training and testing datasets.\n",
    "train = pd.read_csv(\"UNSW_NB15_testing-set.csv\", sep=',', header=0)\n",
    "test = pd.read_csv(\"UNSW_NB15_training-set.csv\", sep=',', header=0)\n",
    "\n",
    "# Combining the testing and training dataset so we can split it more even.\n",
    "#combined_data = pd.concat([train, test]).drop([\"id\"], axis = 1)\n",
    "\n",
    "combined_data = pd.concat([train, test]).drop_duplicates().reset_index(drop=True)\n",
    "combined_data.duplicated().sum()"
   ]
  },
  {
   "cell_type": "markdown",
   "id": "ca4d9b2e-ce33-4e0f-90d3-6e1a5d3cda69",
   "metadata": {
    "tags": []
   },
   "source": [
    "### Dropping Columns"
   ]
  },
  {
   "cell_type": "code",
   "execution_count": null,
   "id": "cc4f1b2b-d8c2-4cd4-ab16-8f7a9f49accb",
   "metadata": {},
   "outputs": [],
   "source": [
    "# Feature Selection based on XGBoost Feature Selection method\n",
    "drop_XGBoost_cols = ['attack_cat','ct_ftp_cmd', 'swin', 'is_ftp_login', 'dttl', 'state', 'trans_depth', 'ct_flw_http_mthd', 'dpkts', 'spkts', 'dloss', 'ct_state_ttl', 'sloss', 'service']\n",
    "combined_data.drop(drop_XGBoost_cols, axis=1, inplace=True)"
   ]
  },
  {
   "cell_type": "markdown",
   "id": "355534fd-0981-466f-99c1-ad87035ae28d",
   "metadata": {},
   "source": [
    "### Splitting the dataset, label-encoding & Normalizing"
   ]
  },
  {
   "cell_type": "code",
   "execution_count": null,
   "id": "9dfc8349-19f1-45e6-a8f7-979bcc3b1468",
   "metadata": {},
   "outputs": [
    {
     "data": {
      "text/plain": [
       "0"
      ]
     },
     "execution_count": 4,
     "metadata": {},
     "output_type": "execute_result"
    }
   ],
   "source": [
    "combined_data.duplicated().sum()"
   ]
  },
  {
   "cell_type": "code",
   "execution_count": null,
   "id": "154c0f9c-8c05-4d2d-b2a8-f44982ac4fcf",
   "metadata": {},
   "outputs": [],
   "source": [
    "combined_data.drop_duplicates(keep='last', inplace=True)\n",
    "combined_data.duplicated().sum()"
   ]
  },
  {
   "cell_type": "code",
   "execution_count": null,
   "id": "6d0e5b5b-4157-4e99-b33e-3fbc3609d75a",
   "metadata": {},
   "outputs": [
    {
     "name": "stdout",
     "output_type": "stream",
     "text": [
      "X_train Shape:  (175341, 30)\n",
      "y_train Shape:  (175341, 1)\n",
      "X_test Shape:  (82332, 30)\n",
      "y_test Shape:  (82332, 1)\n"
     ]
    }
   ],
   "source": [
    "# Splitting the datset into X and y\n",
    "X = combined_data.drop(['label'], axis=1)\n",
    "y = combined_data.loc[:, ['label']]"
   ]
  },
  {
   "cell_type": "code",
   "execution_count": null,
   "id": "35a60404-0d5d-432b-a1a7-517ed2b58c97",
   "metadata": {},
   "outputs": [],
   "source": [
    "# Selecting all categorical columns (object)\n",
    "le_cols = X.select_dtypes(include=[object]).columns"
   ]
  },
  {
   "cell_type": "code",
   "execution_count": null,
   "id": "23c8cf6a-5546-4a23-bebc-3e2c153e35aa",
   "metadata": {},
   "outputs": [],
   "source": [
    "# Label Encoding X\n",
    "le = preprocessing.LabelEncoder()\n",
    "X[le_cols] = X[le_cols].apply(le.fit_transform)"
   ]
  },
  {
   "cell_type": "markdown",
   "id": "80db4ef0-0673-4e46-ab49-7f6fc6b98287",
   "metadata": {},
   "source": [
    "#### Finding and dropping duplicated rows in X"
   ]
  },
  {
   "cell_type": "code",
   "execution_count": null,
   "id": "88791925-b9cc-46e1-b084-53bd50bc8f7e",
   "metadata": {},
   "outputs": [],
   "source": [
    "print('X Duplicated: ', X.duplicated().sum())\n",
    "print('y Duplicated: ', y.duplicated().sum())"
   ]
  },
  {
   "cell_type": "code",
   "execution_count": null,
   "id": "559d84d4-75a6-419b-9c6b-105b8768088e",
   "metadata": {},
   "outputs": [],
   "source": [
    "# Use keep='last' to keep the last occurrence \n",
    "# y.drop_duplicates(keep='last', inplace=True)\n",
    "# y.duplicated().sum()"
   ]
  },
  {
   "cell_type": "code",
   "execution_count": null,
   "id": "5c7cbdca-6a8d-45ed-b3ce-8302f9de708b",
   "metadata": {},
   "outputs": [],
   "source": [
    "# Use keep='last' to keep the last occurrence \n",
    "# X.drop_duplicates(keep='last', inplace=True)\n",
    "# X.duplicated().sum()"
   ]
  },
  {
   "cell_type": "code",
   "execution_count": null,
   "id": "9b278167-6b19-46cf-b693-9cab6e5104c5",
   "metadata": {},
   "outputs": [],
   "source": [
    "print('X shape: ', X.shape)\n",
    "print('y shape: ', y.shape)"
   ]
  },
  {
   "cell_type": "code",
   "execution_count": null,
   "id": "8a360446-184d-4da5-8811-a5f4bb728ef7",
   "metadata": {},
   "outputs": [],
   "source": [
    "# Applying StandardScaler on X\n",
    "ss = StandardScaler()\n",
    "X = pd.DataFrame(ss.fit_transform(X),columns = X.columns)"
   ]
  },
  {
   "cell_type": "code",
   "execution_count": null,
   "id": "1c83e31d-eace-447b-9bb1-a985555d3597",
   "metadata": {},
   "outputs": [],
   "source": [
    "# Splitting the dataset into training and testing\n",
    "X_train, X_test, y_train, y_test = train_test_split(X, y, test_size=0.20, random_state=1)"
   ]
  },
  {
   "cell_type": "markdown",
   "id": "431e6af1-db92-4c0e-b41b-532434e21c01",
   "metadata": {},
   "source": [
    "## (3) Random Forest Classifier"
   ]
  },
  {
   "cell_type": "code",
   "execution_count": null,
   "id": "fe4907d4-8904-4051-a09c-41ffa6478c32",
   "metadata": {},
   "outputs": [],
   "source": [
    "# random forest model creation\n",
    "clf = RandomForestClassifier(n_estimators = 300, verbose = 1, n_jobs=-1)"
   ]
  },
  {
   "cell_type": "code",
   "execution_count": null,
   "id": "4e9a32a1-57e4-4353-87d2-be149a87b518",
   "metadata": {},
   "outputs": [],
   "source": [
    "# fit function is used to train the model using the training sets as parameters\n",
    "clf.fit(X_train, y_train.values.ravel())"
   ]
  },
  {
   "cell_type": "code",
   "execution_count": null,
   "id": "9b27e3da-ad93-47cf-afc7-fba3c5a2afd0",
   "metadata": {},
   "outputs": [],
   "source": [
    "# performing predictions on the test dataset\n",
    "y_pred = clf.predict(X_test)"
   ]
  },
  {
   "cell_type": "code",
   "execution_count": null,
   "id": "0779307a-88e8-47ec-896e-7ddc9b663db4",
   "metadata": {},
   "outputs": [],
   "source": [
    "# using metrics module for accuracy calculation\n",
    "print(\"ACCURACY OF THE MODEL: \", metrics.accuracy_score(y_test, y_pred))"
   ]
  },
  {
   "cell_type": "code",
   "execution_count": null,
   "id": "c0150924-2b46-4c0f-8835-36ea0e1395e5",
   "metadata": {},
   "outputs": [],
   "source": [
    "from sklearn.metrics import classification_report\n",
    "\n",
    "print(classification_report(y_test, y_pred))"
   ]
  },
  {
   "cell_type": "code",
   "execution_count": null,
   "id": "1484800c-13f9-4e69-8e67-c382045b759f",
   "metadata": {},
   "outputs": [],
   "source": [
    "from sklearn.metrics import r2_score\n",
    "sklearn.metrics.r2_score(y_test, y_pred)"
   ]
  },
  {
   "cell_type": "code",
   "execution_count": null,
   "id": "70ec4020-6f81-4fa0-848b-24287f1a9f61",
   "metadata": {},
   "outputs": [],
   "source": [
    "from sklearn.metrics import mean_absolute_error\n",
    "mean_absolute_error(y_test, y_pred)"
   ]
  },
  {
   "cell_type": "code",
   "execution_count": null,
   "id": "0b98c139-77ec-4fee-971f-c57b52dba45f",
   "metadata": {},
   "outputs": [],
   "source": [
    "from sklearn.metrics import mean_squared_error\n",
    "mean_squared_error(y_test, y_pred)"
   ]
  },
  {
   "cell_type": "code",
   "execution_count": null,
   "id": "d23f18d8-9d1a-4fe6-af22-728e9c78c9f0",
   "metadata": {},
   "outputs": [],
   "source": [
    "from sklearn import model_selection\n",
    "from sklearn.linear_model import LogisticRegression\n",
    "kfold = model_selection.KFold(n_splits=10, random_state=7, shuffle=True)\n",
    "model = LogisticRegression(solver='liblinear')\n",
    "scoring = 'neg_log_loss'\n",
    "results = model_selection.cross_val_score(model, X, y, cv=kfold, scoring=scoring)"
   ]
  },
  {
   "cell_type": "code",
   "execution_count": null,
   "id": "c27c1739-e2c6-4351-afd5-6085f9f1bcc0",
   "metadata": {},
   "outputs": [],
   "source": [
    "print(\"Logloss: %.3f (%.3f)\" % (results.mean(), results.std()))"
   ]
  },
  {
   "cell_type": "markdown",
   "id": "f1939d79-b51b-48bd-b676-6b14dd8cf5a6",
   "metadata": {},
   "source": [
    "## Evaluation of the model"
   ]
  },
  {
   "cell_type": "code",
   "execution_count": null,
   "id": "a838045c-20fe-4d2f-bc69-21c09d91a57f",
   "metadata": {},
   "outputs": [],
   "source": [
    "from sklearn import model_selection\n",
    "from sklearn.linear_model import LogisticRegression\n",
    "from sklearn.metrics import confusion_matrix"
   ]
  },
  {
   "cell_type": "code",
   "execution_count": null,
   "id": "73bce7a0-a05d-41cd-89fc-e5f6413b9ae8",
   "metadata": {},
   "outputs": [],
   "source": [
    "model = LogisticRegression(solver='liblinear')\n",
    "model.fit(X_train, y_train)"
   ]
  },
  {
   "cell_type": "code",
   "execution_count": null,
   "id": "532904c9-d13d-4ec8-9461-b98104bbf44a",
   "metadata": {},
   "outputs": [],
   "source": [
    "predicted = model.predict(X_test)\n",
    "matrix = confusion_matrix(y_test, predicted)"
   ]
  },
  {
   "cell_type": "code",
   "execution_count": null,
   "id": "d45786dc-4798-49e2-921b-1b8e6bfd20cf",
   "metadata": {},
   "outputs": [],
   "source": [
    "print(matrix)"
   ]
  },
  {
   "cell_type": "code",
   "execution_count": null,
   "id": "02e25269-025d-4191-aba0-cfdfc001b7ed",
   "metadata": {},
   "outputs": [],
   "source": []
  }
 ],
 "metadata": {
  "kernelspec": {
   "display_name": "Python 3 (ipykernel)",
   "language": "python",
   "name": "python3"
  },
  "language_info": {
   "codemirror_mode": {
    "name": "ipython",
    "version": 3
   },
   "file_extension": ".py",
   "mimetype": "text/x-python",
   "name": "python",
   "nbconvert_exporter": "python",
   "pygments_lexer": "ipython3",
   "version": "3.8.5"
  }
 },
 "nbformat": 4,
 "nbformat_minor": 5
}
