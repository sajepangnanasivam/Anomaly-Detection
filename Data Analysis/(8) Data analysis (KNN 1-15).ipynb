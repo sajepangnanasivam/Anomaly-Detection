{
 "cells": [
  {
   "cell_type": "code",
   "execution_count": null,
   "metadata": {},
   "outputs": [],
   "source": [
    "import pandas as pd\n",
    "df = pd.read_csv(\"../KNN/KNN_Scores(1-15).csv\")\n",
    "from matplotlib import pyplot as plt\n",
    "from matplotlib.ticker import PercentFormatter\n",
    "import seaborn as sns\n",
    "\n",
    "import sys\n",
    "sys.path.append(\"..\")\n",
    "from Functions.UNSW_DF import *"
   ]
  },
  {
   "cell_type": "code",
   "execution_count": null,
   "metadata": {},
   "outputs": [],
   "source": [
    "X = df.K\n",
    "y1 = df.Accuracy\n",
    "y2 = df.F1\n",
    "y3 = df.Recall\n",
    "y4 = df.Precision"
   ]
  },
  {
   "cell_type": "code",
   "execution_count": null,
   "metadata": {},
   "outputs": [],
   "source": [
    "X = df.columns[0]\n",
    "y1 = df.columns[1]\n",
    "y2 = df.columns[2]\n",
    "y3 = df.columns[3]\n",
    "y4 = df.columns[4]"
   ]
  },
  {
   "cell_type": "code",
   "execution_count": null,
   "metadata": {},
   "outputs": [],
   "source": [
    "data1 = df[[X, y1]]\n",
    "data2 = df[[X, y2]]\n",
    "data3 = df[[X, y3]]\n",
    "data4 = df[[X, y4]]"
   ]
  },
  {
   "cell_type": "code",
   "execution_count": null,
   "metadata": {},
   "outputs": [],
   "source": [
    "plt.figure(figsize=(15, 8))\n",
    "\n",
    "ax = sns.barplot(x=X, y=y1, data=data1)\n",
    "width_scale=0.45\n",
    "\n",
    "for bar in ax.containers[0]:\n",
    "    bar.set_width(bar.get_width()*width_scale)\n",
    "ax.yaxis.set_major_formatter(PercentFormatter(1))\n",
    "\n",
    "ax2 = ax.twinx()\n",
    "sns.barplot(x=X, y=y2, data=data2, alpha=0.7, hatch=\"xx\", ax=ax2)\n",
    "\n",
    "for bar in ax2.containers[0]:\n",
    "    x = bar.get_x()\n",
    "    w = bar.get_width()\n",
    "    bar.set_x(x + w * (1- width_scale))\n",
    "    bar.set_width(w * width_scale)\n",
    "\n",
    "plt.show()\n"
   ]
  },
  {
   "cell_type": "code",
   "execution_count": null,
   "metadata": {},
   "outputs": [],
   "source": []
  }
 ],
 "metadata": {
  "interpreter": {
   "hash": "e806ced9ecfb40b02ab47568795ac9dcbe40749bdb5814bad29b2f2147c6506f"
  },
  "kernelspec": {
   "display_name": "Python 3.8.5 64-bit ('MasterThesisGPU': conda)",
   "language": "python",
   "name": "python3"
  },
  "language_info": {
   "codemirror_mode": {
    "name": "ipython",
    "version": 3
   },
   "file_extension": ".py",
   "mimetype": "text/x-python",
   "name": "python",
   "nbconvert_exporter": "python",
   "pygments_lexer": "ipython3",
   "version": "3.8.5"
  },
  "orig_nbformat": 4
 },
 "nbformat": 4,
 "nbformat_minor": 2
}
