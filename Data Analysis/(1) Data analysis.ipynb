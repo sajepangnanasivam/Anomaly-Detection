{
 "cells": [
  {
   "cell_type": "markdown",
   "metadata": {},
   "source": [
    "# (1) Data Analysis - Distritbution Plots"
   ]
  },
  {
   "cell_type": "code",
   "execution_count": null,
   "metadata": {},
   "outputs": [],
   "source": [
    "import pandas as pd\n",
    "import numpy as np\n",
    "import seaborn as sns\n",
    "import matplotlib.pyplot as plt \n",
    "from mpl_toolkits.mplot3d import Axes3D\n",
    "\n",
    "# Importing preprocessed dataset\n",
    "#import sys\n",
    "#sys.path.append(\"..\")\n",
    "#from Functions.UNSW_train import *\n",
    "#train_pp, test_pp = train_test_import()\n",
    "\n",
    "# importing original dataset\n",
    "train = pd.read_csv(\"../Dataset/UNSW_NB15_training-set.csv\", delimiter=\",\")\n",
    "test = pd.read_csv(\"../Dataset/UNSW_NB15_testing-set.csv\", delimiter=\",\")"
   ]
  },
  {
   "cell_type": "code",
   "execution_count": null,
   "metadata": {},
   "outputs": [],
   "source": [
    "def get_cat_columns(train):\n",
    "    # Defining an empty list\n",
    "    categorical = []\n",
    "    # Iterating through the columns and checking for columns with datatyp \"Object\"\n",
    "    for col in train.columns:\n",
    "        if train[col].dtype == 'object':\n",
    "            categorical.append(col) # appending \"object\" columns to categorical\n",
    "    return categorical"
   ]
  },
  {
   "cell_type": "code",
   "execution_count": null,
   "metadata": {},
   "outputs": [],
   "source": [
    "non_categorical_columns = [x for x in train.columns if x not in categorical_columns]"
   ]
  },
  {
   "cell_type": "code",
   "execution_count": null,
   "metadata": {},
   "outputs": [],
   "source": [
    "# Label encoding the categorical columns\n",
    "from sklearn.preprocessing import LabelEncoder\n",
    "le = LabelEncoder()\n",
    "categorical_columns = get_cat_columns(train)\n",
    "test[cols] = test[cols].apply(le.fit_transform)\n",
    "train[cols] = train[cols].apply(le.fit_transform)"
   ]
  },
  {
   "cell_type": "code",
   "execution_count": null,
   "metadata": {},
   "outputs": [],
   "source": [
    "# Normalizing the values to a standard scale\n",
    "from sklearn.preprocessing import StandardScaler\n",
    "scaler = StandardScaler()\n",
    "train[non_categorical_columns] = scaler.fit_transform(train[non_categorical_columns])\n",
    "test[non_categorical_columns] = scaler.transform(test[non_categorical_columns])"
   ]
  },
  {
   "cell_type": "code",
   "execution_count": null,
   "metadata": {},
   "outputs": [],
   "source": [
    "#num_features = train.columns[train.dtypes != 'object']\n",
    "#for i in num_features:\n",
    "#    plt.figure()\n",
    "#    sns.distplot(train[i])"
   ]
  },
  {
   "cell_type": "code",
   "execution_count": null,
   "metadata": {},
   "outputs": [],
   "source": [
    "Attack= train[train['label'] == 1]\n",
    "NonAttack = train[train['label'] == 0]\n",
    "classes = pd.value_counts(train['label'], sort = True)\n",
    "output=train['label']\n",
    "train=train.iloc[:,:-1]\n",
    "\n",
    "labels = ['NonAttacks','Attack']\n",
    "classes.plot(kind = 'pie', rot=0)\n",
    "plt.title(\"Transaction class distribution\")\n",
    "plt.xticks(range(2), labels)\n",
    "plt.xlabel(\"Class\")\n",
    "plt.ylabel(\"Frequency\")"
   ]
  },
  {
   "cell_type": "code",
   "execution_count": null,
   "metadata": {},
   "outputs": [],
   "source": []
  }
 ],
 "metadata": {
  "interpreter": {
   "hash": "557f7a76709d809d5a6b0728b55d2b66cdd1850049e35147309670e9cf1c5b51"
  },
  "kernelspec": {
   "display_name": "Python 3.8.12 64-bit ('MastersThesis': conda)",
   "name": "python3"
  },
  "language_info": {
   "codemirror_mode": {
    "name": "ipython",
    "version": 3
   },
   "file_extension": ".py",
   "mimetype": "text/x-python",
   "name": "python",
   "nbconvert_exporter": "python",
   "pygments_lexer": "ipython3",
   "version": "3.8.5"
  },
  "orig_nbformat": 4
 },
 "nbformat": 4,
 "nbformat_minor": 2
}
