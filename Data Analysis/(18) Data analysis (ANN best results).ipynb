{
 "cells": [
  {
   "cell_type": "code",
   "execution_count": 1,
   "metadata": {},
   "outputs": [],
   "source": [
    "import pandas as pd\n",
    "import numpy as np\n",
    "import matplotlib.pyplot as plt\n",
    "import seaborn as sns\n",
    "import sys\n",
    "sys.path.append(\"..\")\n",
    "\n",
    "from Functions.UNSW_DF import * "
   ]
  },
  {
   "cell_type": "code",
   "execution_count": 5,
   "metadata": {},
   "outputs": [
    {
     "name": "stdout",
     "output_type": "stream",
     "text": [
      "Multiplying train_acc..\n",
      "Multiplying test_acc..\n",
      "Multiplying F1..\n",
      "Multiplying PRC..\n",
      "Multiplying RCL..\n"
     ]
    },
    {
     "data": {
      "text/html": [
       "<div>\n",
       "<style scoped>\n",
       "    .dataframe tbody tr th:only-of-type {\n",
       "        vertical-align: middle;\n",
       "    }\n",
       "\n",
       "    .dataframe tbody tr th {\n",
       "        vertical-align: top;\n",
       "    }\n",
       "\n",
       "    .dataframe thead th {\n",
       "        text-align: right;\n",
       "    }\n",
       "</style>\n",
       "<table border=\"1\" class=\"dataframe\">\n",
       "  <thead>\n",
       "    <tr style=\"text-align: right;\">\n",
       "      <th></th>\n",
       "      <th>layers</th>\n",
       "      <th>epoch</th>\n",
       "      <th>train_acc</th>\n",
       "      <th>test_acc</th>\n",
       "      <th>F1</th>\n",
       "      <th>PRC</th>\n",
       "      <th>RCL</th>\n",
       "      <th>time(s)</th>\n",
       "    </tr>\n",
       "  </thead>\n",
       "  <tbody>\n",
       "    <tr>\n",
       "      <th>0</th>\n",
       "      <td>3</td>\n",
       "      <td>170</td>\n",
       "      <td>95.5</td>\n",
       "      <td>87.2</td>\n",
       "      <td>97.5</td>\n",
       "      <td>95.9</td>\n",
       "      <td>97.5</td>\n",
       "      <td>941.0</td>\n",
       "    </tr>\n",
       "    <tr>\n",
       "      <th>1</th>\n",
       "      <td>4</td>\n",
       "      <td>200</td>\n",
       "      <td>95.9</td>\n",
       "      <td>86.4</td>\n",
       "      <td>97.8</td>\n",
       "      <td>96.3</td>\n",
       "      <td>97.8</td>\n",
       "      <td>1232.6</td>\n",
       "    </tr>\n",
       "    <tr>\n",
       "      <th>2</th>\n",
       "      <td>4</td>\n",
       "      <td>190</td>\n",
       "      <td>98.6</td>\n",
       "      <td>84.9</td>\n",
       "      <td>99.3</td>\n",
       "      <td>98.6</td>\n",
       "      <td>99.3</td>\n",
       "      <td>2603.3</td>\n",
       "    </tr>\n",
       "    <tr>\n",
       "      <th>3</th>\n",
       "      <td>5</td>\n",
       "      <td>200</td>\n",
       "      <td>97.2</td>\n",
       "      <td>86.2</td>\n",
       "      <td>98.1</td>\n",
       "      <td>97.8</td>\n",
       "      <td>98.1</td>\n",
       "      <td>1905.8</td>\n",
       "    </tr>\n",
       "    <tr>\n",
       "      <th>4</th>\n",
       "      <td>7</td>\n",
       "      <td>200</td>\n",
       "      <td>98.4</td>\n",
       "      <td>85.7</td>\n",
       "      <td>99.1</td>\n",
       "      <td>98.5</td>\n",
       "      <td>99.1</td>\n",
       "      <td>2462.5</td>\n",
       "    </tr>\n",
       "    <tr>\n",
       "      <th>5</th>\n",
       "      <td>9</td>\n",
       "      <td>200</td>\n",
       "      <td>98.5</td>\n",
       "      <td>86.1</td>\n",
       "      <td>99.0</td>\n",
       "      <td>98.9</td>\n",
       "      <td>99.0</td>\n",
       "      <td>3041.1</td>\n",
       "    </tr>\n",
       "    <tr>\n",
       "      <th>6</th>\n",
       "      <td>11</td>\n",
       "      <td>140</td>\n",
       "      <td>97.8</td>\n",
       "      <td>85.6</td>\n",
       "      <td>98.9</td>\n",
       "      <td>98.0</td>\n",
       "      <td>98.9</td>\n",
       "      <td>3294.7</td>\n",
       "    </tr>\n",
       "  </tbody>\n",
       "</table>\n",
       "</div>"
      ],
      "text/plain": [
       "   layers  epoch  train_acc  test_acc    F1   PRC   RCL  time(s)\n",
       "0       3    170       95.5      87.2  97.5  95.9  97.5    941.0\n",
       "1       4    200       95.9      86.4  97.8  96.3  97.8   1232.6\n",
       "2       4    190       98.6      84.9  99.3  98.6  99.3   2603.3\n",
       "3       5    200       97.2      86.2  98.1  97.8  98.1   1905.8\n",
       "4       7    200       98.4      85.7  99.1  98.5  99.1   2462.5\n",
       "5       9    200       98.5      86.1  99.0  98.9  99.0   3041.1\n",
       "6      11    140       97.8      85.6  98.9  98.0  98.9   3294.7"
      ]
     },
     "execution_count": 5,
     "metadata": {},
     "output_type": "execute_result"
    }
   ],
   "source": [
    "df = pd.read_csv(\"../ANN/ANN_best_results.csv\")\n",
    "\n",
    "# Loading the dataset\n",
    "col_names = [\"train_acc\", \"test_acc\", \"F1\", \"PRC\", \"RCL\"]\n",
    "algorith_names = [\"ANN\", \"DT\", \"SVM\", \"LR\"]\n",
    "\n",
    "# Multiplying the values in the columns for plotting purposes\n",
    "for col in col_names:\n",
    "    print(f\"Multiplying {col}..\")\n",
    "    df[col] = 100 * df[col]\n",
    "df"
   ]
  },
  {
   "cell_type": "code",
   "execution_count": 15,
   "metadata": {},
   "outputs": [],
   "source": [
    "sns.set(rc={\"figure.figsize\":(15, 4)})"
   ]
  },
  {
   "cell_type": "code",
   "execution_count": 16,
   "metadata": {},
   "outputs": [
    {
     "data": {
      "text/plain": [
       "<AxesSubplot:xlabel='layers', ylabel='F1'>"
      ]
     },
     "execution_count": 16,
     "metadata": {},
     "output_type": "execute_result"
    },
    {
     "data": {
      "image/png": "[encoded data removed]",
      "text/plain": [
       "<Figure size 1080x288 with 3 Axes>"
      ]
     },
     "metadata": {},
     "output_type": "display_data"
    }
   ],
   "source": [
    "fig, axs = plt.subplots(ncols=3)\n",
    "sns.regplot(x='layers', y='train_acc', data=df, ax=axs[0])\n",
    "sns.regplot(x='layers', y='test_acc', data=df, ax=axs[1])\n",
    "sns.regplot(x='layers',y='F1', data=df, ax=axs[2])"
   ]
  },
  {
   "cell_type": "code",
   "execution_count": null,
   "metadata": {},
   "outputs": [],
   "source": []
  },
  {
   "cell_type": "code",
   "execution_count": null,
   "metadata": {},
   "outputs": [],
   "source": []
  }
 ],
 "metadata": {
  "interpreter": {
   "hash": "e806ced9ecfb40b02ab47568795ac9dcbe40749bdb5814bad29b2f2147c6506f"
  },
  "kernelspec": {
   "display_name": "Python 3.8.5 ('MasterThesisGPU')",
   "language": "python",
   "name": "python3"
  },
  "language_info": {
   "codemirror_mode": {
    "name": "ipython",
    "version": 3
   },
   "file_extension": ".py",
   "mimetype": "text/x-python",
   "name": "python",
   "nbconvert_exporter": "python",
   "pygments_lexer": "ipython3",
   "version": "3.8.5"
  },
  "orig_nbformat": 4
 },
 "nbformat": 4,
 "nbformat_minor": 2
}
