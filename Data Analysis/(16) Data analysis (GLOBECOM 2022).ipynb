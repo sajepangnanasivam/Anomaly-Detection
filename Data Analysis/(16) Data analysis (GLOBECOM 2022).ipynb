{
 "cells": [
  {
   "cell_type": "code",
   "execution_count": 1,
   "metadata": {},
   "outputs": [],
   "source": [
    "import pandas \n",
    "import numpy as np\n",
    "import sys\n",
    "sys.path.append(\"..\")\n",
    "from Functions.UNSW_DF import *"
   ]
  },
  {
   "cell_type": "code",
   "execution_count": 27,
   "metadata": {},
   "outputs": [
    {
     "name": "stdout",
     "output_type": "stream",
     "text": [
      "Multiplying train_acc..\n",
      "Multiplying test_acc..\n",
      "Multiplying F1..\n",
      "Multiplying PRC..\n",
      "Multiplying RCL..\n"
     ]
    },
    {
     "data": {
      "text/html": [
       "<div>\n",
       "<style scoped>\n",
       "    .dataframe tbody tr th:only-of-type {\n",
       "        vertical-align: middle;\n",
       "    }\n",
       "\n",
       "    .dataframe tbody tr th {\n",
       "        vertical-align: top;\n",
       "    }\n",
       "\n",
       "    .dataframe thead th {\n",
       "        text-align: right;\n",
       "    }\n",
       "</style>\n",
       "<table border=\"1\" class=\"dataframe\">\n",
       "  <thead>\n",
       "    <tr style=\"text-align: right;\">\n",
       "      <th></th>\n",
       "      <th>algorithm</th>\n",
       "      <th>train_acc</th>\n",
       "      <th>test_acc</th>\n",
       "      <th>F1</th>\n",
       "      <th>PRC</th>\n",
       "      <th>RCL</th>\n",
       "    </tr>\n",
       "  </thead>\n",
       "  <tbody>\n",
       "    <tr>\n",
       "      <th>0</th>\n",
       "      <td>ANN</td>\n",
       "      <td>98.5</td>\n",
       "      <td>86.1</td>\n",
       "      <td>99.0</td>\n",
       "      <td>98.9</td>\n",
       "      <td>99.0</td>\n",
       "    </tr>\n",
       "    <tr>\n",
       "      <th>1</th>\n",
       "      <td>DT</td>\n",
       "      <td>96.0</td>\n",
       "      <td>86.7</td>\n",
       "      <td>89.0</td>\n",
       "      <td>81.8</td>\n",
       "      <td>97.6</td>\n",
       "    </tr>\n",
       "    <tr>\n",
       "      <th>2</th>\n",
       "      <td>SVM</td>\n",
       "      <td>95.1</td>\n",
       "      <td>84.0</td>\n",
       "      <td>86.9</td>\n",
       "      <td>79.0</td>\n",
       "      <td>96.6</td>\n",
       "    </tr>\n",
       "    <tr>\n",
       "      <th>3</th>\n",
       "      <td>LR</td>\n",
       "      <td>93.7</td>\n",
       "      <td>81.8</td>\n",
       "      <td>85.6</td>\n",
       "      <td>75.8</td>\n",
       "      <td>98.3</td>\n",
       "    </tr>\n",
       "  </tbody>\n",
       "</table>\n",
       "</div>"
      ],
      "text/plain": [
       "  algorithm  train_acc  test_acc    F1   PRC   RCL\n",
       "0       ANN       98.5      86.1  99.0  98.9  99.0\n",
       "1        DT       96.0      86.7  89.0  81.8  97.6\n",
       "2       SVM       95.1      84.0  86.9  79.0  96.6\n",
       "3        LR       93.7      81.8  85.6  75.8  98.3"
      ]
     },
     "execution_count": 27,
     "metadata": {},
     "output_type": "execute_result"
    }
   ],
   "source": [
    "# Loading the dataset\n",
    "df = pd.read_csv(\"GLOBECOM (Performance Evaluation.csv\")\n",
    "col_names = [\"train_acc\", \"test_acc\", \"F1\", \"PRC\", \"RCL\"]\n",
    "algorith_names = [\"ANN\", \"DT\", \"SVM\", \"LR\"]\n",
    "\n",
    "# Multiplying the values in the columns for plotting purposes\n",
    "for col in col_names:\n",
    "    print(f\"Multiplying {col}..\")\n",
    "    df[col] = 100 * df[col]\n",
    "df"
   ]
  },
  {
   "cell_type": "code",
   "execution_count": 43,
   "metadata": {},
   "outputs": [],
   "source": [
    "def barplot(data, to_range, x_label, y_label, title, x_size, y_size):\n",
    "    \"\"\"Plots barplot based on x and y labels\n",
    "    Args:\n",
    "        x_label (dataframe): input variables\n",
    "        y_label (dataframe): output variables\n",
    "        title (string): The title of the plot\n",
    "        x_size (int): figure x size\n",
    "        y_size (int): figure y size\n",
    "    \"\"\"\n",
    "    from matplotlib.ticker import PercentFormatter\n",
    "    from matplotlib.ticker import MultipleLocator\n",
    "    from matplotlib.ticker import AutoMinorLocator\n",
    "    # plot bars or kind='barh' for horizontal bars; adjust figsize accordingly\n",
    "    ax = data.plot(kind='bar', \n",
    "                rot=0, \n",
    "                xlabel = x_label, \n",
    "                ylabel = y_label, \n",
    "                title= title, \n",
    "                figsize=(x_size, y_size))\n",
    "\n",
    "    # add some labels\n",
    "    for c in ax.containers:\n",
    "        # set the bar label\n",
    "        ax.bar_label(c, \n",
    "                    fmt='%.2f%%', \n",
    "                    label_type='edge',\n",
    "                    rotation=90, \n",
    "                    padding=7)\n",
    "\n",
    "    # add a little space at the top of the plot for the annotation\n",
    "    ax.margins(y=0.15)\n",
    "    #ax.xaxis.set_major_locator(matplotlib.ticker.MultipleLocater(1))\n",
    "\n",
    "    #yRange = np.linspace(0,1,11)\n",
    "    #ax.set_yticks(yRange, minor=True)\n",
    "\n",
    "    # Adding lines inbetween the bars\n",
    "    minor_locator = AutoMinorLocator(2)\n",
    "    ax.xaxis.set_minor_locator(minor_locator)\n",
    "    plt.grid(which='minor')\n",
    "\n",
    "    # Renaming the X ticks labels\n",
    "    NewRange = range(0, 4)\n",
    "    OldRange = range(0, 4)\n",
    "    #ax.set_xticks(OldRange)\n",
    "    #ax.set_xticklabels(NewRange)\n",
    "    \n",
    "    # Set number of ticks for x-axis\n",
    "    ax.set_xticks(OldRange)\n",
    "    # Set ticks labels for x-axis\n",
    "    ax.set_xticklabels(algorith_names, rotation='horizontal', fontsize=12)\n",
    "    \n",
    "\n",
    "    # move the legend out of the plot\n",
    "    ax.legend(title='Metrics', bbox_to_anchor=(1, 1.02), loc='upper left')"
   ]
  },
  {
   "cell_type": "code",
   "execution_count": 45,
   "metadata": {},
   "outputs": [
    {
     "data": {
      "image/png": "[encoded data removed]",
      "text/plain": [
       "<Figure size 1080x576 with 1 Axes>"
      ]
     },
     "metadata": {
      "needs_background": "light"
     },
     "output_type": "display_data"
    }
   ],
   "source": [
    "barplot(data=df, to_range=4, x_label=\"Algorithm\", y_label=\"Metric\", title=\"Performance Comparison\", x_size=15, y_size=8)"
   ]
  },
  {
   "cell_type": "code",
   "execution_count": null,
   "metadata": {},
   "outputs": [],
   "source": []
  }
 ],
 "metadata": {
  "interpreter": {
   "hash": "557f7a76709d809d5a6b0728b55d2b66cdd1850049e35147309670e9cf1c5b51"
  },
  "kernelspec": {
   "display_name": "Python 3.8.12 64-bit ('MastersThesis': conda)",
   "name": "python3"
  },
  "language_info": {
   "codemirror_mode": {
    "name": "ipython",
    "version": 3
   },
   "file_extension": ".py",
   "mimetype": "text/x-python",
   "name": "python",
   "nbconvert_exporter": "python",
   "pygments_lexer": "ipython3",
   "version": "3.8.12"
  },
  "orig_nbformat": 4
 },
 "nbformat": 4,
 "nbformat_minor": 2
}
