{
 "cells": [
  {
   "cell_type": "code",
   "execution_count": 2,
   "metadata": {},
   "outputs": [],
   "source": [
    "import swat\n",
    "from time import time\n",
    "from matplotlib import pyplot as plt\n",
    "\n",
    "# Importing preprocessed train\n",
    "import sys\n",
    "sys.path.append(\"..\")\n",
    "from Functions.UNSW_DF import *"
   ]
  },
  {
   "cell_type": "code",
   "execution_count": 7,
   "metadata": {},
   "outputs": [
    {
     "data": {
      "text/html": [
       "<div>\n",
       "<style scoped>\n",
       "    .dataframe tbody tr th:only-of-type {\n",
       "        vertical-align: middle;\n",
       "    }\n",
       "\n",
       "    .dataframe tbody tr th {\n",
       "        vertical-align: top;\n",
       "    }\n",
       "\n",
       "    .dataframe thead th {\n",
       "        text-align: right;\n",
       "    }\n",
       "</style>\n",
       "<table border=\"1\" class=\"dataframe\">\n",
       "  <thead>\n",
       "    <tr style=\"text-align: right;\">\n",
       "      <th></th>\n",
       "      <th>Algorithm</th>\n",
       "      <th>Results</th>\n",
       "    </tr>\n",
       "  </thead>\n",
       "  <tbody>\n",
       "    <tr>\n",
       "      <th>0</th>\n",
       "      <td>RF</td>\n",
       "      <td>87.53</td>\n",
       "    </tr>\n",
       "    <tr>\n",
       "      <th>1</th>\n",
       "      <td>KNN</td>\n",
       "      <td>81.90</td>\n",
       "    </tr>\n",
       "    <tr>\n",
       "      <th>2</th>\n",
       "      <td>DNN</td>\n",
       "      <td>95.73</td>\n",
       "    </tr>\n",
       "  </tbody>\n",
       "</table>\n",
       "</div>"
      ],
      "text/plain": [
       "  Algorithm  Results\n",
       "0        RF    87.53\n",
       "1       KNN    81.90\n",
       "2       DNN    95.73"
      ]
     },
     "execution_count": 7,
     "metadata": {},
     "output_type": "execute_result"
    }
   ],
   "source": [
    "Dataframe ={\"Algorithm\": [\"RF\", \"KNN\", \"DNN\"], \"Results\": [87.53, 81.9, 95.73]}\n",
    "Dataframe = pd.DataFrame(Dataframe)\n",
    "Dataframe"
   ]
  },
  {
   "cell_type": "code",
   "execution_count": 16,
   "metadata": {},
   "outputs": [
    {
     "data": {
      "image/png": "[encoded data removed]",
      "text/plain": [
       "<Figure size 1080x720 with 1 Axes>"
      ]
     },
     "metadata": {
      "needs_background": "light"
     },
     "output_type": "display_data"
    }
   ],
   "source": [
    "# Sets the figure size temporarily but has to be set again the next plot\n",
    "plt.figure(figsize=(15,10))\n",
    "# Construct plot\n",
    "plots = sns.barplot(x = \"Algorithm\", y = \"Results\", palette = 'magma', data = Dataframe)\n",
    "\n",
    "for bar in plots.patches:  \n",
    "  # Using Matplotlib's annotate function and\n",
    "  # passing the coordinates where the annotation shall be done\n",
    "  # x-coordinate: bar.get_x() + bar.get_width() / 2\n",
    "  # y-coordinate: bar.get_height()\n",
    "  # free space to be left to make graph pleasing: (0, 8)\n",
    "  # ha and va stand for the horizontal and vertical alignment\n",
    "  plots.annotate(format(bar.get_height(), '.2f'),\n",
    "                   (bar.get_x() + bar.get_width() / 2,\n",
    "                    bar.get_height()), ha='center', va='center',\n",
    "                   size=15, xytext=(0, 8),\n",
    "                   textcoords='offset points')\n",
    "plt.show()"
   ]
  },
  {
   "cell_type": "code",
   "execution_count": null,
   "metadata": {},
   "outputs": [],
   "source": []
  },
  {
   "cell_type": "code",
   "execution_count": null,
   "metadata": {},
   "outputs": [],
   "source": []
  },
  {
   "cell_type": "code",
   "execution_count": null,
   "metadata": {},
   "outputs": [],
   "source": []
  }
 ],
 "metadata": {
  "interpreter": {
   "hash": "e806ced9ecfb40b02ab47568795ac9dcbe40749bdb5814bad29b2f2147c6506f"
  },
  "kernelspec": {
   "display_name": "Python 3.8.5 64-bit ('MasterThesisGPU': conda)",
   "language": "python",
   "name": "python3"
  },
  "language_info": {
   "codemirror_mode": {
    "name": "ipython",
    "version": 3
   },
   "file_extension": ".py",
   "mimetype": "text/x-python",
   "name": "python",
   "nbconvert_exporter": "python",
   "pygments_lexer": "ipython3",
   "version": "3.8.5"
  },
  "orig_nbformat": 4
 },
 "nbformat": 4,
 "nbformat_minor": 2
}
