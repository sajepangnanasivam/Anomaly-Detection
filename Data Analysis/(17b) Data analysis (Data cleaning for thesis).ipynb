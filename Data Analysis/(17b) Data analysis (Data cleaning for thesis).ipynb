{
 "cells": [
  {
   "cell_type": "code",
   "execution_count": 1,
   "metadata": {},
   "outputs": [
    {
     "name": "stderr",
     "output_type": "stream",
     "text": [
      "C:\\Users\\Sajepan\\.conda\\envs\\MasterThesisGPU\\lib\\site-packages\\numpy\\_distributor_init.py:30: UserWarning: loaded more than 1 DLL from .libs:\n",
      "C:\\Users\\Sajepan\\.conda\\envs\\MasterThesisGPU\\lib\\site-packages\\numpy\\.libs\\libopenblas.GK7GX5KEQ4F6UYO3P26ULGBQYHGQO7J4.gfortran-win_amd64.dll\n",
      "C:\\Users\\Sajepan\\.conda\\envs\\MasterThesisGPU\\lib\\site-packages\\numpy\\.libs\\libopenblas.WCDJNK7YVMPZQ2ME2ZZHJJRJ3JIKNDB7.gfortran-win_amd64.dll\n",
      "  warnings.warn(\"loaded more than 1 DLL from .libs:\"\n"
     ]
    }
   ],
   "source": [
    "import pandas as pd\n",
    "import sys\n",
    "sys.path.append(\"..\")\n",
    "from Functions.UNSW_DF import *"
   ]
  },
  {
   "cell_type": "code",
   "execution_count": 2,
   "metadata": {},
   "outputs": [],
   "source": [
    "df1 = pd.read_csv(\"../ANN/ANN_200E_3L(50-25-1)_AF(Relu-Sigmoid).csv\")\n",
    "df2 = pd.read_csv(\"../ANN/ANN_200E_4L(53-36-21-1)_AF(Relu-Sigmoid).csv\")\n",
    "df3 = pd.read_csv(\"../ANN/ANN_200E_4L(500-250-100-1)_AF(Relu-Sigmoid).csv\")\n",
    "df4 = pd.read_csv(\"../ANN/ANN_200E_5L(100-75-50-25-1)_AF(Relu-Sigmoid).csv\")\n",
    "df5 = pd.read_csv(\"../ANN/ANN_200E_7L(200-150-125-100-50-25-1)_AF(Relu-Sigmoid).csv\")\n",
    "df6 = pd.read_csv(\"../ANN/ANN_200E_9L(200-175-150-125-100-75-50-25-1)_AF(Relu-Sigmoid).csv\")\n",
    "df7 = pd.read_csv(\"../ANN/ANN_200E_11L(300-250-200-175-150-125-100-75-50-25-1)_AF(Relu-Sigmoid).csv\")"
   ]
  },
  {
   "cell_type": "code",
   "execution_count": null,
   "metadata": {},
   "outputs": [],
   "source": []
  },
  {
   "cell_type": "code",
   "execution_count": 3,
   "metadata": {},
   "outputs": [],
   "source": [
    "df1 = df1.round(5)\n",
    "df1.to_csv(\"df1.csv\", index=False)"
   ]
  },
  {
   "cell_type": "code",
   "execution_count": 4,
   "metadata": {},
   "outputs": [],
   "source": [
    "dfs = [df1, df2, df3, df4, df5, df6, df7]"
   ]
  },
  {
   "cell_type": "code",
   "execution_count": 5,
   "metadata": {},
   "outputs": [],
   "source": [
    "count = 1\n",
    "for dataframe in dfs:\n",
    "    new_df = dataframe.round(5)\n",
    "    new_df.to_csv(f\"df{count}.csv\", index=False)\n",
    "    count += 1"
   ]
  },
  {
   "cell_type": "code",
   "execution_count": null,
   "metadata": {},
   "outputs": [],
   "source": []
  }
 ],
 "metadata": {
  "interpreter": {
   "hash": "e806ced9ecfb40b02ab47568795ac9dcbe40749bdb5814bad29b2f2147c6506f"
  },
  "kernelspec": {
   "display_name": "Python 3.8.5 ('MasterThesisGPU')",
   "language": "python",
   "name": "python3"
  },
  "language_info": {
   "codemirror_mode": {
    "name": "ipython",
    "version": 3
   },
   "file_extension": ".py",
   "mimetype": "text/x-python",
   "name": "python",
   "nbconvert_exporter": "python",
   "pygments_lexer": "ipython3",
   "version": "3.8.5"
  },
  "orig_nbformat": 4
 },
 "nbformat": 4,
 "nbformat_minor": 2
}
