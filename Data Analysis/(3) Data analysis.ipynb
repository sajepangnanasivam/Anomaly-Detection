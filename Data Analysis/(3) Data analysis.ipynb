{
 "cells": [
  {
   "cell_type": "code",
   "execution_count": null,
   "metadata": {},
   "outputs": [],
   "source": [
    "import pandas as pd\n",
    "import numpy as np\n",
    "import seaborn as sns\n",
    "import matplotlib.pyplot as plt \n",
    "import swat\n",
    "from time import time\n",
    "from sklearn import preprocessing \n",
    "from sklearn.preprocessing import StandardScaler\n",
    "\n",
    "# Importing preprocessed dataset\n",
    "import sys\n",
    "sys.path.append(\"..\")\n",
    "from Functions.UNSW_DF import *\n",
    "\n",
    "train, test = DF_original_traintest()"
   ]
  },
  {
   "cell_type": "code",
   "execution_count": null,
   "metadata": {},
   "outputs": [],
   "source": [
    "# Defining an empty list\n",
    "categorical = []\n",
    "# Iterating through the columns and checking for columns with datatyp \"Object\"\n",
    "for col in train.columns:\n",
    "    if train[col].dtype == 'object':\n",
    "        categorical.append(col) # appending \"object\" columns to categorical\n",
    "        \n",
    "non_categorical_columns = [x for x in train.columns if x not in categorical]"
   ]
  },
  {
   "cell_type": "code",
   "execution_count": null,
   "metadata": {},
   "outputs": [],
   "source": [
    "# Label encoding the categorical columns\n",
    "le = preprocessing.LabelEncoder()\n",
    "# Label encoding the columns for the test and training set\n",
    "test[categorical] = test[categorical].apply(le.fit_transform)\n",
    "train[categorical] = train[categorical].apply(le.fit_transform)\n",
    "\n",
    "# Applying StandardScaler on train to normalize the values.\n",
    "ss = StandardScaler()\n",
    "train = pd.DataFrame(ss.fit_transform(train),columns = train.columns)"
   ]
  },
  {
   "cell_type": "code",
   "execution_count": null,
   "metadata": {},
   "outputs": [],
   "source": [
    "cols = train.columns\n",
    "result = train.pivot(index=\"label\", columns=\"dur\", values=\"label\")\n",
    "print(result)"
   ]
  },
  {
   "cell_type": "markdown",
   "metadata": {},
   "source": [
    "## Building the heatmap"
   ]
  },
  {
   "cell_type": "code",
   "execution_count": null,
   "metadata": {},
   "outputs": [],
   "source": [
    "# Defining the plot\n",
    "fig, ax = plt.subplots(figsize=(20,15))\n",
    "title = \"UNSW-NB15 Heatmap\"\n",
    "\n",
    "plt.title(title, fontsize=18)\n",
    "ttl = ax.title\n",
    "ttl.set_position([0.5, 1.05])\n",
    "\n",
    "ax.set_xticks([])\n",
    "ax.set_yticks([])\n",
    "ax.axis(\"off\")"
   ]
  },
  {
   "cell_type": "code",
   "execution_count": null,
   "metadata": {},
   "outputs": [],
   "source": [
    "sns.heatmap(result, annot=labels, fmt=\"\", cmap=\"RdY1Gn\", linewidths=0.30, ax=ax)"
   ]
  },
  {
   "cell_type": "code",
   "execution_count": null,
   "metadata": {},
   "outputs": [],
   "source": []
  }
 ],
 "metadata": {
  "interpreter": {
   "hash": "e806ced9ecfb40b02ab47568795ac9dcbe40749bdb5814bad29b2f2147c6506f"
  },
  "kernelspec": {
   "display_name": "Python 3.8.5 64-bit ('MasterThesisGPU': conda)",
   "language": "python",
   "name": "python3"
  },
  "language_info": {
   "codemirror_mode": {
    "name": "ipython",
    "version": 3
   },
   "file_extension": ".py",
   "mimetype": "text/x-python",
   "name": "python",
   "nbconvert_exporter": "python",
   "pygments_lexer": "ipython3",
   "version": "3.8.5"
  },
  "orig_nbformat": 4
 },
 "nbformat": 4,
 "nbformat_minor": 2
}
