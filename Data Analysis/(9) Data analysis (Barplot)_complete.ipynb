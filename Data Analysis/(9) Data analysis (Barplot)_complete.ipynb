{
 "cells": [
  {
   "cell_type": "code",
   "execution_count": 16,
   "metadata": {},
   "outputs": [],
   "source": [
    "import pandas as pd\n",
    "import matplotlib\n",
    "from matplotlib import pyplot as plt\n",
    "from matplotlib.ticker import PercentFormatter\n",
    "from matplotlib.ticker import MultipleLocator\n",
    "from matplotlib.ticker import AutoMinorLocator\n",
    "# import seaborn as sns\n",
    "\n",
    "import sys\n",
    "sys.path.append(\"..\")\n",
    "from Functions.UNSW_DF import *\n",
    "\n",
    "data = pd.read_csv(\"../KNN/KNN_Scores(1-15).csv\")\n",
    "#data = pd.read_csv(\"../KNN/K_SCORES(1-200).csv\")"
   ]
  },
  {
   "cell_type": "code",
   "execution_count": 17,
   "metadata": {},
   "outputs": [],
   "source": [
    "data.drop([\"Runtime\"], axis=1, inplace=True)\n",
    "data.drop([\"K\"], axis=1, inplace=True)"
   ]
  },
  {
   "cell_type": "code",
   "execution_count": 38,
   "metadata": {},
   "outputs": [
    {
     "data": {
      "image/png": "[encoded data removed]",
      "text/plain": [
       "<Figure size 864x432 with 1 Axes>"
      ]
     },
     "metadata": {
      "needs_background": "light"
     },
     "output_type": "display_data"
    }
   ],
   "source": [
    "# plot bars or kind='barh' for horizontal bars; adjust figsize accordingly\n",
    "ax = data.plot(kind='bar', \n",
    "               rot=0, \n",
    "               xlabel='K', \n",
    "               ylabel='Score', \n",
    "               #title='KNN 1-15', \n",
    "               figsize=(12, 6))\n",
    "\n",
    "# add some labels\n",
    "#for c in ax.containers:\n",
    "#    # set the bar label\n",
    "#    ax.bar_label(c, \n",
    "#                 fmt='%.2f%%', \n",
    "#                 label_type='edge',\n",
    "#                 rotation=90, \n",
    "#                 padding=7)\n",
    "\n",
    "# add a little space at the top of the plot for the annotation\n",
    "ax.margins(y=0.15)\n",
    "#ax.xaxis.set_major_locator(matplotlib.ticker.MultipleLocater(1))\n",
    "\n",
    "#yRange = np.linspace(0,1,11)\n",
    "#ax.set_yticks(yRange, minor=True)\n",
    "\n",
    "# Adding lines inbetween the bars\n",
    "minor_locator = AutoMinorLocator(2)\n",
    "ax.xaxis.set_minor_locator(minor_locator)\n",
    "plt.grid(which='minor')\n",
    "\n",
    "# Renaming the X ticks labels\n",
    "NewRange = range(1,16)\n",
    "OldRange = range(0,15)\n",
    "ax.set_xticks(OldRange)\n",
    "ax.set_xticklabels(NewRange)\n",
    "\n",
    "# move the legend out of the plot\n",
    "ax.legend(title='Metrics', bbox_to_anchor=(1, 1.02), loc='upper left')\n",
    "\n",
    "plt.savefig(\"KNN_Barplot(1-15)_v2.png\", dpi=600)"
   ]
  },
  {
   "cell_type": "code",
   "execution_count": null,
   "metadata": {},
   "outputs": [],
   "source": []
  }
 ],
 "metadata": {
  "interpreter": {
   "hash": "557f7a76709d809d5a6b0728b55d2b66cdd1850049e35147309670e9cf1c5b51"
  },
  "kernelspec": {
   "display_name": "Python 3.8.12 64-bit ('MastersThesis': conda)",
   "name": "python3"
  },
  "language_info": {
   "codemirror_mode": {
    "name": "ipython",
    "version": 3
   },
   "file_extension": ".py",
   "mimetype": "text/x-python",
   "name": "python",
   "nbconvert_exporter": "python",
   "pygments_lexer": "ipython3",
   "version": "3.8.5"
  },
  "orig_nbformat": 4
 },
 "nbformat": 4,
 "nbformat_minor": 2
}
