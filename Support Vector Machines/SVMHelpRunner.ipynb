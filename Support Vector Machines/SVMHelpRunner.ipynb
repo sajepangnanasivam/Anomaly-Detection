{
 "cells": [
  {
   "cell_type": "code",
   "execution_count": 1,
   "metadata": {},
   "outputs": [],
   "source": [
    "import pandas as pd\n",
    "import numpy as np\n",
    "from sklearn.svm import SVC\n",
    "from sklearn.metrics import classification_report, confusion_matrix\n",
    "from sklearn.metrics import accuracy_score, confusion_matrix\n",
    "from sklearn import metrics\n",
    "from sklearn.model_selection import GridSearchCV"
   ]
  },
  {
   "cell_type": "code",
   "execution_count": 2,
   "metadata": {},
   "outputs": [
    {
     "data": {
      "text/plain": [
       "(82332, 54)"
      ]
     },
     "execution_count": 2,
     "metadata": {},
     "output_type": "execute_result"
    }
   ],
   "source": [
    "#importing the datasets\n",
    "test = pd.read_csv(\"test_preprocessed.csv\", sep=',', header=0)\n",
    "train = pd.read_csv(\"train_preprocessed.csv\", sep=',', header=0)\n",
    "\n",
    "test.shape\n",
    "\n"
   ]
  },
  {
   "cell_type": "code",
   "execution_count": 3,
   "metadata": {},
   "outputs": [],
   "source": [
    "#splitting the datasets into input and output\n",
    "X_train = train.drop(['label'], axis=1)\n",
    "X_test = test.drop(['label'], axis=1)\n",
    "y_train = train.loc[:, ['label']]\n",
    "y_test = test.loc[:, ['label']]\n"
   ]
  },
  {
   "cell_type": "code",
   "execution_count": 5,
   "metadata": {},
   "outputs": [
    {
     "name": "stderr",
     "output_type": "stream",
     "text": [
      "D:\\anaconda\\lib\\site-packages\\sklearn\\utils\\validation.py:63: DataConversionWarning: A column-vector y was passed when a 1d array was expected. Please change the shape of y to (n_samples, ), for example using ravel().\n",
      "  return f(*args, **kwargs)\n"
     ]
    },
    {
     "name": "stdout",
     "output_type": "stream",
     "text": [
      "Accuracy Score: \t 0.8132560851187873\n",
      "Accuracy Score: \t 0.9356910249171614\n",
      "F1 Score: \t\t 0.8545920538695064\n",
      "Precision Score: \t 0.7479678834533565\n",
      "Recall Score: \t\t 0.9966690196770494\n",
      "------------------------------------------------\n",
      "              precision    recall  f1-score   support\n",
      "\n",
      "           0       0.99      0.59      0.74     37000\n",
      "           1       0.75      1.00      0.85     45332\n",
      "\n",
      "    accuracy                           0.81     82332\n",
      "   macro avg       0.87      0.79      0.80     82332\n",
      "weighted avg       0.86      0.81      0.80     82332\n",
      "\n",
      "Classification report: \n",
      "              precision    recall  f1-score   support\n",
      "\n",
      "           0       0.99      0.59      0.74     37000\n",
      "           1       0.75      1.00      0.85     45332\n",
      "\n",
      "    accuracy                           0.81     82332\n",
      "   macro avg       0.87      0.79      0.80     82332\n",
      "weighted avg       0.86      0.81      0.80     82332\n",
      "\n"
     ]
    }
   ],
   "source": [
    "model = SVC(kernel = \"rbf\", C=500, gamma = 0.0001)\n",
    "model.fit(X_train, y_train)\n",
    "y_pred = model.predict(X_test)\n",
    "y_pred_train = model.predict(X_train)\n",
    "print(\"Accuracy Score: \\t\", metrics.accuracy_score(y_test, y_pred))\n",
    "print(\"Accuracy Score: \\t\", metrics.accuracy_score(y_train, y_pred_train))\n",
    "print(\"F1 Score: \\t\\t\", metrics.f1_score(y_test, y_pred))\n",
    "print(\"Precision Score: \\t\", metrics.precision_score(y_test, y_pred))\n",
    "print(\"Recall Score: \\t\\t\", metrics.recall_score(y_test, y_pred))\n",
    "print(\"------------------------------------------------\")\n",
    "print(metrics.classification_report(y_test, y_pred))\n",
    "print(\"Classification report: \")\n",
    "print(metrics.classification_report(y_test, y_pred))"
   ]
  }
 ],
 "metadata": {
  "interpreter": {
   "hash": "cc5f70855ac006f3de45a3cc3b9e7d8d53845e50458809cb162b0174266dec97"
  },
  "kernelspec": {
   "display_name": "Python 3.8.8 ('base')",
   "language": "python",
   "name": "python3"
  },
  "language_info": {
   "codemirror_mode": {
    "name": "ipython",
    "version": 3
   },
   "file_extension": ".py",
   "mimetype": "text/x-python",
   "name": "python",
   "nbconvert_exporter": "python",
   "pygments_lexer": "ipython3",
   "version": "3.8.8"
  },
  "orig_nbformat": 4
 },
 "nbformat": 4,
 "nbformat_minor": 2
}
