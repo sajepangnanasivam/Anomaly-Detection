{
 "cells": [
  {
   "cell_type": "code",
   "execution_count": 2,
   "metadata": {},
   "outputs": [],
   "source": [
    "import pandas as pd\n",
    "import numpy as np\n",
    "\n",
    "import sys\n",
    "sys.path.append(\"..\")\n",
    "from Functions.UNSW_DF import *\n",
    "\n",
    "\n",
    "# missing_values = [\"n/a\", \"na\", \"--\", \"-\"]\n",
    "train = pd.read_csv(\"../Dataset/UNSW_NB15_training-set.csv\")\n",
    "test = pd.read_csv(\"../Dataset/UNSW_NB15_testing-set.csv\")"
   ]
  },
  {
   "cell_type": "code",
   "execution_count": 3,
   "metadata": {},
   "outputs": [
    {
     "name": "stdout",
     "output_type": "stream",
     "text": [
      "Train and Test sets are reversed, Corrected Shape:\n",
      "Train shape:  (175341, 45)\n",
      "Test shape:  (82332, 45)\n"
     ]
    }
   ],
   "source": [
    "if train.shape < test.shape:\n",
    "    # Reversing the dataset\n",
    "    train, test = test, train\n",
    "    print(\"Train and Test sets are reversed, Corrected Shape:\")\n",
    "    print(\"Train shape: \", train.shape)\n",
    "    print(\"Test shape: \", test.shape)\n",
    "else:\n",
    "    print(\"The dataset, is already reversed\")\n",
    "    print(\"Train shape: \", train.shape)\n",
    "    print(\"Test shape: \", test.shape)"
   ]
  },
  {
   "cell_type": "code",
   "execution_count": null,
   "metadata": {},
   "outputs": [],
   "source": []
  }
 ],
 "metadata": {
  "interpreter": {
   "hash": "e806ced9ecfb40b02ab47568795ac9dcbe40749bdb5814bad29b2f2147c6506f"
  },
  "kernelspec": {
   "display_name": "Python 3.8.5 64-bit ('MasterThesisGPU': conda)",
   "name": "python3"
  },
  "language_info": {
   "codemirror_mode": {
    "name": "ipython",
    "version": 3
   },
   "file_extension": ".py",
   "mimetype": "text/x-python",
   "name": "python",
   "nbconvert_exporter": "python",
   "pygments_lexer": "ipython3",
   "version": "3.8.5"
  },
  "orig_nbformat": 4
 },
 "nbformat": 4,
 "nbformat_minor": 2
}
