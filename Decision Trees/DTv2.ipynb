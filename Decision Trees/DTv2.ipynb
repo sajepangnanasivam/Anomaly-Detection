{
 "cells": [
  {
   "cell_type": "code",
   "execution_count": 1,
   "metadata": {},
   "outputs": [],
   "source": [
    "import pandas as pd\n",
    "import numpy as np\n",
    "from sklearn.tree import DecisionTreeClassifier\n",
    "from sklearn.model_selection import RandomizedSearchCV, GridSearchCV\n",
    "from sklearn import tree\n",
    "from sklearn.metrics import accuracy_score, confusion_matrix\n",
    "from sklearn import metrics"
   ]
  },
  {
   "cell_type": "code",
   "execution_count": 2,
   "metadata": {},
   "outputs": [],
   "source": [
    "test = pd.read_csv(\"test_preprocessed.csv\", sep=',', header=0)\n",
    "train = pd.read_csv(\"train_preprocessed.csv\", sep=',', header=0)"
   ]
  },
  {
   "cell_type": "code",
   "execution_count": 3,
   "metadata": {},
   "outputs": [],
   "source": [
    "X_train = train.drop(['label'], axis=1)\n",
    "X_test = test.drop(['label'], axis=1)\n",
    "y_train = train.loc[:, ['label']]\n",
    "y_test = test.loc[:, ['label']]"
   ]
  },
  {
   "cell_type": "code",
   "execution_count": 6,
   "metadata": {},
   "outputs": [],
   "source": [
    "clg = DecisionTreeClassifier()\n",
    "clg = clg.fit(X_train, y_train)\n",
    "y_prede = clg.predict(X_test)"
   ]
  },
  {
   "cell_type": "code",
   "execution_count": 8,
   "metadata": {},
   "outputs": [
    {
     "name": "stdout",
     "output_type": "stream",
     "text": [
      "Accuracy Score: \t 0.8636981975416606\n",
      "F1 Score: \t\t 0.885389219110648\n",
      "Precision Score: \t 0.824350538206991\n",
      "Recall Score: \t\t 0.9561898879378805\n",
      "------------------------------------------------\n",
      "              precision    recall  f1-score   support\n",
      "\n",
      "           0       0.93      0.75      0.83     37000\n",
      "           1       0.82      0.96      0.89     45332\n",
      "\n",
      "    accuracy                           0.86     82332\n",
      "   macro avg       0.88      0.85      0.86     82332\n",
      "weighted avg       0.87      0.86      0.86     82332\n",
      "\n",
      "Classification report: \n",
      "              precision    recall  f1-score   support\n",
      "\n",
      "           0       0.93      0.75      0.83     37000\n",
      "           1       0.82      0.96      0.89     45332\n",
      "\n",
      "    accuracy                           0.86     82332\n",
      "   macro avg       0.88      0.85      0.86     82332\n",
      "weighted avg       0.87      0.86      0.86     82332\n",
      "\n"
     ]
    }
   ],
   "source": [
    "print(\"Accuracy Score: \\t\", metrics.accuracy_score(y_test, y_prede))\n",
    "print(\"F1 Score: \\t\\t\", metrics.f1_score(y_test, y_prede))\n",
    "print(\"Precision Score: \\t\", metrics.precision_score(y_test, y_prede))\n",
    "print(\"Recall Score: \\t\\t\", metrics.recall_score(y_test, y_prede))\n",
    "print(\"------------------------------------------------\")\n",
    "print(metrics.classification_report(y_test, y_prede))\n",
    "print(\"Classification report: \")\n",
    "print(metrics.classification_report(y_test, y_prede))"
   ]
  },
  {
   "cell_type": "code",
   "execution_count": 9,
   "metadata": {},
   "outputs": [],
   "source": [
    "clf = DecisionTreeClassifier(criterion=\"gini\", min_samples_leaf=20, min_samples_split=14, max_features=16, ccp_alpha=0.00000000000000002)\n",
    "clf = clf.fit(X_train, y_train)\n",
    "y_pred = clf.predict(X_test)"
   ]
  },
  {
   "cell_type": "code",
   "execution_count": 10,
   "metadata": {},
   "outputs": [
    {
     "name": "stdout",
     "output_type": "stream",
     "text": [
      "Accuracy Score: \t 0.8729534081523588\n",
      "F1 Score: \t\t 0.8948172877742695\n",
      "Precision Score: \t 0.822208670584322\n",
      "Recall Score: \t\t 0.9814921027089032\n",
      "------------------------------------------------\n",
      "              precision    recall  f1-score   support\n",
      "\n",
      "           0       0.97      0.74      0.84     37000\n",
      "           1       0.82      0.98      0.89     45332\n",
      "\n",
      "    accuracy                           0.87     82332\n",
      "   macro avg       0.90      0.86      0.87     82332\n",
      "weighted avg       0.89      0.87      0.87     82332\n",
      "\n",
      "Classification report: \n",
      "              precision    recall  f1-score   support\n",
      "\n",
      "           0       0.97      0.74      0.84     37000\n",
      "           1       0.82      0.98      0.89     45332\n",
      "\n",
      "    accuracy                           0.87     82332\n",
      "   macro avg       0.90      0.86      0.87     82332\n",
      "weighted avg       0.89      0.87      0.87     82332\n",
      "\n"
     ]
    }
   ],
   "source": [
    "print(\"Accuracy Score: \\t\", metrics.accuracy_score(y_test, y_pred))\n",
    "print(\"F1 Score: \\t\\t\", metrics.f1_score(y_test, y_pred))\n",
    "print(\"Precision Score: \\t\", metrics.precision_score(y_test, y_pred))\n",
    "print(\"Recall Score: \\t\\t\", metrics.recall_score(y_test, y_pred))\n",
    "print(\"------------------------------------------------\")\n",
    "print(metrics.classification_report(y_test, y_pred))\n",
    "print(\"Classification report: \")\n",
    "print(metrics.classification_report(y_test, y_pred))\n"
   ]
  },
  {
   "cell_type": "code",
   "execution_count": 34,
   "metadata": {},
   "outputs": [
    {
     "name": "stderr",
     "output_type": "stream",
     "text": [
      "D:\\anaconda\\lib\\site-packages\\sklearn\\model_selection\\_search.py:918: UserWarning: One or more of the test scores are non-finite: [       nan        nan 0.90953052 ... 0.90783664 0.91035175 0.90667888]\n",
      "  warnings.warn(\n"
     ]
    }
   ],
   "source": [
    "params = {\"criterion\":[\"gini\",\"entropy\"],\n",
    "          \"min_samples_split\": range(1,15), \n",
    "          \"min_samples_leaf\": range(1,20),\n",
    "          \"splitter\":[\"best\", \"random\"],\n",
    "          }\n",
    "\n",
    "clf = DecisionTreeClassifier()\n",
    "gs = GridSearchCV(estimator=clf, param_grid=params, \n",
    "                n_jobs=-1, cv=5,)\n",
    "gs.fit(X_train, y_train)\n",
    "\n",
    "gs.best_estimator_.fit(X_train, y_train)\n",
    "y_pred = gs.best_estimator_.predict(X_test)\n",
    "y_true = y_test"
   ]
  },
  {
   "cell_type": "code",
   "execution_count": 35,
   "metadata": {},
   "outputs": [
    {
     "name": "stdout",
     "output_type": "stream",
     "text": [
      "{'criterion': 'entropy', 'min_samples_leaf': 17, 'min_samples_split': 7, 'splitter': 'random'}\n",
      "DecisionTreeClassifier(criterion='entropy', min_samples_leaf=17,\n",
      "                       min_samples_split=7, splitter='random')\n",
      "0.914326854295553\n",
      "Accuracy test 0.8639532624010106\n"
     ]
    }
   ],
   "source": [
    "print(gs.best_params_)\n",
    "print(gs.best_estimator_)\n",
    "print(gs.best_score_)\n",
    "print(\"Accuracy test\", metrics.accuracy_score(y_test, y_pred))"
   ]
  },
  {
   "cell_type": "code",
   "execution_count": 11,
   "metadata": {},
   "outputs": [
    {
     "name": "stdout",
     "output_type": "stream",
     "text": [
      "Accuracy Score: \t 0.8729534081523588\n",
      "F1 Score: \t\t 0.8948172877742695\n",
      "Precision Score: \t 0.822208670584322\n",
      "Recall Score: \t\t 0.9814921027089032\n",
      "------------------------------------------------\n",
      "              precision    recall  f1-score   support\n",
      "\n",
      "           0       0.97      0.74      0.84     37000\n",
      "           1       0.82      0.98      0.89     45332\n",
      "\n",
      "    accuracy                           0.87     82332\n",
      "   macro avg       0.90      0.86      0.87     82332\n",
      "weighted avg       0.89      0.87      0.87     82332\n",
      "\n",
      "Classification report: \n",
      "              precision    recall  f1-score   support\n",
      "\n",
      "           0       0.97      0.74      0.84     37000\n",
      "           1       0.82      0.98      0.89     45332\n",
      "\n",
      "    accuracy                           0.87     82332\n",
      "   macro avg       0.90      0.86      0.87     82332\n",
      "weighted avg       0.89      0.87      0.87     82332\n",
      "\n"
     ]
    }
   ],
   "source": [
    "clf_ = tree.DecisionTreeClassifier(random_state=0,ccp_alpha=0.00002)\n",
    "clf_.fit(X_train,y_train)\n",
    "y_train_pred = clf_.predict(X_train)\n",
    "y_test_pred = clf_.predict(X_test)\n",
    "\n",
    "print(\"Accuracy Score: \\t\", metrics.accuracy_score(y_test, y_pred))\n",
    "print(\"F1 Score: \\t\\t\", metrics.f1_score(y_test, y_pred))\n",
    "print(\"Precision Score: \\t\", metrics.precision_score(y_test, y_pred))\n",
    "print(\"Recall Score: \\t\\t\", metrics.recall_score(y_test, y_pred))\n",
    "print(\"------------------------------------------------\")\n",
    "print(metrics.classification_report(y_test, y_pred))\n",
    "print(\"Classification report: \")\n",
    "print(metrics.classification_report(y_test, y_pred))"
   ]
  }
 ],
 "metadata": {
  "interpreter": {
   "hash": "cc5f70855ac006f3de45a3cc3b9e7d8d53845e50458809cb162b0174266dec97"
  },
  "kernelspec": {
   "display_name": "Python 3.8.8 64-bit ('base': conda)",
   "name": "python3"
  },
  "language_info": {
   "codemirror_mode": {
    "name": "ipython",
    "version": 3
   },
   "file_extension": ".py",
   "mimetype": "text/x-python",
   "name": "python",
   "nbconvert_exporter": "python",
   "pygments_lexer": "ipython3",
   "version": "3.8.8"
  }
 },
 "nbformat": 4,
 "nbformat_minor": 5
}
