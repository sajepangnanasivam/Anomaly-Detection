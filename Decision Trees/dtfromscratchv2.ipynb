{
 "cells": [
  {
   "cell_type": "code",
   "execution_count": 54,
   "metadata": {},
   "outputs": [],
   "source": [
    "import pandas as pd\n",
    "import numpy as np"
   ]
  },
  {
   "cell_type": "code",
   "execution_count": 55,
   "metadata": {},
   "outputs": [],
   "source": [
    "train = pd.read_csv(\"UNSW_NB15_training-set.csv\", sep=',', header=0)\n",
    "test = pd.read_csv(\"UNSW_NB15_testing-set.csv\", sep=',', header=0)\n",
    "\n"
   ]
  },
  {
   "cell_type": "code",
   "execution_count": 56,
   "metadata": {},
   "outputs": [],
   "source": [
    "#calculating the entropy. Taking the label from the dataset as input.\n",
    "\n",
    "def calculate_entropy(label):\n",
    "    classes, class_counts= np.unique(label, return_counts = True)\n",
    "    entropy_value = np.sum([(-class_counts[i]/np.sum(class_counts))*np.log2(class_counts[i]/np.sum(class_counts))for i in range(len(classes))])\n",
    "    return entropy_value\n",
    "       "
   ]
  },
  {
   "cell_type": "code",
   "execution_count": 57,
   "metadata": {},
   "outputs": [],
   "source": [
    "#calculate the information gain\n",
    "def calculate_information_gain(dataset, feature, label):\n",
    "    dataset_entropy = calculate_entropy(dataset[label])\n",
    "    values,feat_counts= np.unique(dataset[feature],return_counts=True)\n",
    "\n",
    "    #calculate the weighted feature entropy\n",
    "    weighted_feature_entropy = np.sum([(feat_counts[i]/np.sum(feat_counts))*calculate_entropy(dataset.where(dataset[feature]==values[i]).dropna()[label])for i in range(len(values))])\n",
    "    feature_info_gain = dataset_entropy = weighted_feature_entropy\n",
    "    return feature_info_gain"
   ]
  },
  {
   "cell_type": "code",
   "execution_count": 58,
   "metadata": {},
   "outputs": [],
   "source": [
    "#creating the decision tree\n",
    "def create_decision_tree(dataset,df,features,label,parent):\n",
    "    datam = np.unique(df[label],return_counts=True)\n",
    "    unique_data = np.unique(dataset[label])\n",
    "\n",
    "    if len(unique_data) <= 1:\n",
    "        return unique_data[0]\n",
    "    elif len(dataset) == 0:\n",
    "        return unique_data[np.argmax(datam[1])]\n",
    "    elif len(features) == 0:\n",
    "        return parent\n",
    "    else:\n",
    "        parent = unique_data[np.argmax(datam[1])]\n",
    "\n",
    "        item_values = [calculate_information_gain(dataset, feature, label) for feature in features]\n",
    "\n",
    "        for value in np.unique(dataset[optimum_feature]):\n",
    "            min_data = dataset.where(dataset[optimum_feature]==value).dropna()\n",
    "\n",
    "            min_tree = create_decision_tree(min_data,df,features,label,parent)\n",
    "\n",
    "            decision_tree[optimum_feature][value] = min_tree\n",
    "        return(decision_tree)"
   ]
  },
  {
   "cell_type": "code",
   "execution_count": 59,
   "metadata": {},
   "outputs": [],
   "source": [
    "features = train.columns[:-1]\n",
    "label = 'label'\n",
    "parent=None\n"
   ]
  },
  {
   "cell_type": "code",
   "execution_count": 60,
   "metadata": {},
   "outputs": [],
   "source": [
    "dt = create_decision_tree(train,train, features,label,parent)"
   ]
  },
  {
   "cell_type": "code",
   "execution_count": null,
   "metadata": {},
   "outputs": [],
   "source": [
    "test_data = pd.series(test)\n",
    "pred = predict_attack(test_data, dt)\n",
    "pred"
   ]
  }
 ],
 "metadata": {
  "interpreter": {
   "hash": "cc5f70855ac006f3de45a3cc3b9e7d8d53845e50458809cb162b0174266dec97"
  },
  "kernelspec": {
   "display_name": "Python 3.8.8 64-bit ('base': conda)",
   "name": "python3"
  },
  "language_info": {
   "codemirror_mode": {
    "name": "ipython",
    "version": 3
   },
   "file_extension": ".py",
   "mimetype": "text/x-python",
   "name": "python",
   "nbconvert_exporter": "python",
   "pygments_lexer": "ipython3",
   "version": "3.8.8"
  }
 },
 "nbformat": 4,
 "nbformat_minor": 5
}
