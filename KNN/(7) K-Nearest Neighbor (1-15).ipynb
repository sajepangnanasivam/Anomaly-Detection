{
 "cells": [
  {
   "cell_type": "code",
   "execution_count": 1,
   "metadata": {},
   "outputs": [
    {
     "name": "stderr",
     "output_type": "stream",
     "text": [
      "C:\\Users\\Sajepan\\.conda\\envs\\MasterThesisGPU\\lib\\site-packages\\numpy\\_distributor_init.py:30: UserWarning: loaded more than 1 DLL from .libs:\n",
      "C:\\Users\\Sajepan\\.conda\\envs\\MasterThesisGPU\\lib\\site-packages\\numpy\\.libs\\libopenblas.GK7GX5KEQ4F6UYO3P26ULGBQYHGQO7J4.gfortran-win_amd64.dll\n",
      "C:\\Users\\Sajepan\\.conda\\envs\\MasterThesisGPU\\lib\\site-packages\\numpy\\.libs\\libopenblas.WCDJNK7YVMPZQ2ME2ZZHJJRJ3JIKNDB7.gfortran-win_amd64.dll\n",
      "  warnings.warn(\"loaded more than 1 DLL from .libs:\"\n"
     ]
    },
    {
     "name": "stdout",
     "output_type": "stream",
     "text": [
      "( 1 ) Reading Preprocessed CSV files..\n",
      "\t Training dataset loaded..\n",
      "\t Testing dataset loaded..\n",
      "\n",
      "( 2 ) Loading done, splitting into X and Y..\n",
      "\t ( 2.1 ) x_train Shape:  \t (175341, 53)\n",
      "\t ( 2.2 ) y_train Shape:  \t (175341,)\n",
      "\t ( 2.3 ) x_test Shape:  \t (82332, 53)\n",
      "\t ( 2.4 ) y_test Shape:  \t (82332,)\n",
      "( 3 ) Done!\n",
      "PS! Import with: x_train, x_test, y_train, y_test = XY_import()\n"
     ]
    }
   ],
   "source": [
    "import pandas as pd\n",
    "import numpy as np\n",
    "from sklearn.neighbors import KNeighborsClassifier\n",
    "from sklearn import metrics\n",
    "# Dataset loading\n",
    "import sys\n",
    "sys.path.append(\"..\")\n",
    "from Functions.UNSW_DF import *\n",
    "\n",
    "x_train, x_test, y_train, y_test = DF_XY()"
   ]
  },
  {
   "cell_type": "code",
   "execution_count": 2,
   "metadata": {},
   "outputs": [
    {
     "name": "stdout",
     "output_type": "stream",
     "text": [
      "\t Testing dataset loaded..\n",
      "\n",
      "( 2 ) Loading done, splitting into X and Y..\n",
      "\t ( 2.1 ) x_train Shape:  \t (175341, 53)\n",
      "\t ( 2.2 ) y_train Shape:  \t (175341,)\n",
      "\t ( 2.3 ) x_test Shape:  \t (82332, 53)\n",
      "\t ( 2.4 ) y_test Shape:  \t (82332,)\n"
     ]
    }
   ],
   "source": [
    "train = pd.read_csv(\"../Dataset/train_pp3.csv\")\n",
    "test = pd.read_csv(\"../Dataset/test_pp3.csv\")\n",
    "print(\"\\t Testing dataset loaded..\\n\")\n",
    "\n",
    "print(\"( 2 ) Loading done, splitting into X and Y..\")\n",
    "x_train, y_train = train.drop([\"label\"], axis=1), train[\"label\"]\n",
    "x_test, y_test = test.drop([\"label\"], axis=1), test[\"label\"]\n",
    "print('\\t ( 2.1 ) x_train Shape: ', '\\t', x_train.shape)\n",
    "print('\\t ( 2.2 ) y_train Shape: ', '\\t', y_train.shape)\n",
    "print('\\t ( 2.3 ) x_test Shape: ', '\\t', x_test.shape)\n",
    "print('\\t ( 2.4 ) y_test Shape: ', '\\t', y_test.shape)\n"
   ]
  },
  {
   "cell_type": "code",
   "execution_count": 3,
   "metadata": {},
   "outputs": [
    {
     "data": {
      "text/html": [
       "<div>\n",
       "<style scoped>\n",
       "    .dataframe tbody tr th:only-of-type {\n",
       "        vertical-align: middle;\n",
       "    }\n",
       "\n",
       "    .dataframe tbody tr th {\n",
       "        vertical-align: top;\n",
       "    }\n",
       "\n",
       "    .dataframe thead th {\n",
       "        text-align: right;\n",
       "    }\n",
       "</style>\n",
       "<table border=\"1\" class=\"dataframe\">\n",
       "  <thead>\n",
       "    <tr style=\"text-align: right;\">\n",
       "      <th></th>\n",
       "      <th>service_http</th>\n",
       "      <th>service_others</th>\n",
       "      <th>dtcpb</th>\n",
       "      <th>state_others</th>\n",
       "      <th>sload</th>\n",
       "      <th>proto_ospf</th>\n",
       "      <th>ct_dst_sport_ltm</th>\n",
       "      <th>synack</th>\n",
       "      <th>sbytes</th>\n",
       "      <th>service_ftp-data</th>\n",
       "      <th>...</th>\n",
       "      <th>dloss</th>\n",
       "      <th>rate</th>\n",
       "      <th>proto_arp</th>\n",
       "      <th>service_ftp</th>\n",
       "      <th>state_REQ</th>\n",
       "      <th>tcprtt</th>\n",
       "      <th>state_INT</th>\n",
       "      <th>ct_dst_src_ltm</th>\n",
       "      <th>djit</th>\n",
       "      <th>dmean</th>\n",
       "    </tr>\n",
       "  </thead>\n",
       "  <tbody>\n",
       "    <tr>\n",
       "      <th>0</th>\n",
       "      <td>0</td>\n",
       "      <td>0</td>\n",
       "      <td>0.911123</td>\n",
       "      <td>0</td>\n",
       "      <td>-0.389897</td>\n",
       "      <td>0</td>\n",
       "      <td>-0.554373</td>\n",
       "      <td>-0.484346</td>\n",
       "      <td>-0.049134</td>\n",
       "      <td>0</td>\n",
       "      <td>...</td>\n",
       "      <td>-0.131759</td>\n",
       "      <td>-0.576371</td>\n",
       "      <td>0</td>\n",
       "      <td>0</td>\n",
       "      <td>0</td>\n",
       "      <td>-0.521660</td>\n",
       "      <td>0</td>\n",
       "      <td>-0.705529</td>\n",
       "      <td>-0.145905</td>\n",
       "      <td>-0.314240</td>\n",
       "    </tr>\n",
       "    <tr>\n",
       "      <th>1</th>\n",
       "      <td>0</td>\n",
       "      <td>0</td>\n",
       "      <td>1.557251</td>\n",
       "      <td>0</td>\n",
       "      <td>-0.389928</td>\n",
       "      <td>0</td>\n",
       "      <td>-0.554373</td>\n",
       "      <td>-0.484346</td>\n",
       "      <td>-0.046410</td>\n",
       "      <td>0</td>\n",
       "      <td>...</td>\n",
       "      <td>0.190621</td>\n",
       "      <td>-0.576345</td>\n",
       "      <td>0</td>\n",
       "      <td>0</td>\n",
       "      <td>0</td>\n",
       "      <td>-0.521660</td>\n",
       "      <td>0</td>\n",
       "      <td>-0.614256</td>\n",
       "      <td>0.192913</td>\n",
       "      <td>3.800869</td>\n",
       "    </tr>\n",
       "    <tr>\n",
       "      <th>2</th>\n",
       "      <td>0</td>\n",
       "      <td>0</td>\n",
       "      <td>1.472854</td>\n",
       "      <td>0</td>\n",
       "      <td>-0.389964</td>\n",
       "      <td>0</td>\n",
       "      <td>-0.554373</td>\n",
       "      <td>0.931748</td>\n",
       "      <td>-0.048527</td>\n",
       "      <td>0</td>\n",
       "      <td>...</td>\n",
       "      <td>-0.017978</td>\n",
       "      <td>-0.576734</td>\n",
       "      <td>0</td>\n",
       "      <td>0</td>\n",
       "      <td>0</td>\n",
       "      <td>0.888444</td>\n",
       "      <td>0</td>\n",
       "      <td>-0.522983</td>\n",
       "      <td>2.663504</td>\n",
       "      <td>2.709185</td>\n",
       "    </tr>\n",
       "    <tr>\n",
       "      <th>3</th>\n",
       "      <td>0</td>\n",
       "      <td>0</td>\n",
       "      <td>0.058025</td>\n",
       "      <td>0</td>\n",
       "      <td>-0.389958</td>\n",
       "      <td>0</td>\n",
       "      <td>-0.554373</td>\n",
       "      <td>-0.484346</td>\n",
       "      <td>-0.047016</td>\n",
       "      <td>0</td>\n",
       "      <td>...</td>\n",
       "      <td>-0.074868</td>\n",
       "      <td>-0.576737</td>\n",
       "      <td>0</td>\n",
       "      <td>1</td>\n",
       "      <td>0</td>\n",
       "      <td>-0.521660</td>\n",
       "      <td>0</td>\n",
       "      <td>-0.522983</td>\n",
       "      <td>1.080373</td>\n",
       "      <td>-0.232945</td>\n",
       "    </tr>\n",
       "    <tr>\n",
       "      <th>4</th>\n",
       "      <td>0</td>\n",
       "      <td>0</td>\n",
       "      <td>0.744668</td>\n",
       "      <td>0</td>\n",
       "      <td>-0.389927</td>\n",
       "      <td>0</td>\n",
       "      <td>-0.554373</td>\n",
       "      <td>1.154999</td>\n",
       "      <td>-0.047554</td>\n",
       "      <td>0</td>\n",
       "      <td>...</td>\n",
       "      <td>-0.112795</td>\n",
       "      <td>-0.576617</td>\n",
       "      <td>0</td>\n",
       "      <td>0</td>\n",
       "      <td>0</td>\n",
       "      <td>1.096172</td>\n",
       "      <td>0</td>\n",
       "      <td>2.854115</td>\n",
       "      <td>-0.120301</td>\n",
       "      <td>-0.306498</td>\n",
       "    </tr>\n",
       "    <tr>\n",
       "      <th>...</th>\n",
       "      <td>...</td>\n",
       "      <td>...</td>\n",
       "      <td>...</td>\n",
       "      <td>...</td>\n",
       "      <td>...</td>\n",
       "      <td>...</td>\n",
       "      <td>...</td>\n",
       "      <td>...</td>\n",
       "      <td>...</td>\n",
       "      <td>...</td>\n",
       "      <td>...</td>\n",
       "      <td>...</td>\n",
       "      <td>...</td>\n",
       "      <td>...</td>\n",
       "      <td>...</td>\n",
       "      <td>...</td>\n",
       "      <td>...</td>\n",
       "      <td>...</td>\n",
       "      <td>...</td>\n",
       "      <td>...</td>\n",
       "      <td>...</td>\n",
       "    </tr>\n",
       "    <tr>\n",
       "      <th>175336</th>\n",
       "      <td>0</td>\n",
       "      <td>0</td>\n",
       "      <td>-0.715569</td>\n",
       "      <td>0</td>\n",
       "      <td>-0.120980</td>\n",
       "      <td>0</td>\n",
       "      <td>1.520470</td>\n",
       "      <td>-0.484346</td>\n",
       "      <td>-0.049958</td>\n",
       "      <td>0</td>\n",
       "      <td>...</td>\n",
       "      <td>-0.131759</td>\n",
       "      <td>0.094951</td>\n",
       "      <td>0</td>\n",
       "      <td>0</td>\n",
       "      <td>0</td>\n",
       "      <td>-0.521660</td>\n",
       "      <td>1</td>\n",
       "      <td>1.393748</td>\n",
       "      <td>-0.148818</td>\n",
       "      <td>-0.480703</td>\n",
       "    </tr>\n",
       "    <tr>\n",
       "      <th>175337</th>\n",
       "      <td>0</td>\n",
       "      <td>0</td>\n",
       "      <td>1.834729</td>\n",
       "      <td>0</td>\n",
       "      <td>-0.389926</td>\n",
       "      <td>0</td>\n",
       "      <td>-0.554373</td>\n",
       "      <td>0.365776</td>\n",
       "      <td>-0.047062</td>\n",
       "      <td>0</td>\n",
       "      <td>...</td>\n",
       "      <td>-0.112795</td>\n",
       "      <td>-0.576616</td>\n",
       "      <td>0</td>\n",
       "      <td>0</td>\n",
       "      <td>0</td>\n",
       "      <td>0.731463</td>\n",
       "      <td>0</td>\n",
       "      <td>-0.614256</td>\n",
       "      <td>-0.119225</td>\n",
       "      <td>-0.310369</td>\n",
       "    </tr>\n",
       "    <tr>\n",
       "      <th>175338</th>\n",
       "      <td>0</td>\n",
       "      <td>0</td>\n",
       "      <td>-0.715569</td>\n",
       "      <td>0</td>\n",
       "      <td>-0.120980</td>\n",
       "      <td>0</td>\n",
       "      <td>-0.208566</td>\n",
       "      <td>-0.484346</td>\n",
       "      <td>-0.049958</td>\n",
       "      <td>0</td>\n",
       "      <td>...</td>\n",
       "      <td>-0.131759</td>\n",
       "      <td>0.094951</td>\n",
       "      <td>0</td>\n",
       "      <td>0</td>\n",
       "      <td>0</td>\n",
       "      <td>-0.521660</td>\n",
       "      <td>1</td>\n",
       "      <td>0.389746</td>\n",
       "      <td>-0.148818</td>\n",
       "      <td>-0.480703</td>\n",
       "    </tr>\n",
       "    <tr>\n",
       "      <th>175339</th>\n",
       "      <td>0</td>\n",
       "      <td>0</td>\n",
       "      <td>-0.715569</td>\n",
       "      <td>0</td>\n",
       "      <td>-0.120980</td>\n",
       "      <td>0</td>\n",
       "      <td>1.693374</td>\n",
       "      <td>-0.484346</td>\n",
       "      <td>-0.049958</td>\n",
       "      <td>0</td>\n",
       "      <td>...</td>\n",
       "      <td>-0.131759</td>\n",
       "      <td>0.094951</td>\n",
       "      <td>0</td>\n",
       "      <td>0</td>\n",
       "      <td>0</td>\n",
       "      <td>-0.521660</td>\n",
       "      <td>1</td>\n",
       "      <td>1.941386</td>\n",
       "      <td>-0.148818</td>\n",
       "      <td>-0.480703</td>\n",
       "    </tr>\n",
       "    <tr>\n",
       "      <th>175340</th>\n",
       "      <td>0</td>\n",
       "      <td>0</td>\n",
       "      <td>-0.715569</td>\n",
       "      <td>0</td>\n",
       "      <td>-0.120980</td>\n",
       "      <td>0</td>\n",
       "      <td>2.039181</td>\n",
       "      <td>-0.484346</td>\n",
       "      <td>-0.049958</td>\n",
       "      <td>0</td>\n",
       "      <td>...</td>\n",
       "      <td>-0.131759</td>\n",
       "      <td>0.094951</td>\n",
       "      <td>0</td>\n",
       "      <td>0</td>\n",
       "      <td>0</td>\n",
       "      <td>-0.521660</td>\n",
       "      <td>1</td>\n",
       "      <td>1.941386</td>\n",
       "      <td>-0.148818</td>\n",
       "      <td>-0.480703</td>\n",
       "    </tr>\n",
       "  </tbody>\n",
       "</table>\n",
       "<p>175341 rows × 53 columns</p>\n",
       "</div>"
      ],
      "text/plain": [
       "        service_http  service_others     dtcpb  state_others     sload  \\\n",
       "0                  0               0  0.911123             0 -0.389897   \n",
       "1                  0               0  1.557251             0 -0.389928   \n",
       "2                  0               0  1.472854             0 -0.389964   \n",
       "3                  0               0  0.058025             0 -0.389958   \n",
       "4                  0               0  0.744668             0 -0.389927   \n",
       "...              ...             ...       ...           ...       ...   \n",
       "175336             0               0 -0.715569             0 -0.120980   \n",
       "175337             0               0  1.834729             0 -0.389926   \n",
       "175338             0               0 -0.715569             0 -0.120980   \n",
       "175339             0               0 -0.715569             0 -0.120980   \n",
       "175340             0               0 -0.715569             0 -0.120980   \n",
       "\n",
       "        proto_ospf  ct_dst_sport_ltm    synack    sbytes  service_ftp-data  \\\n",
       "0                0         -0.554373 -0.484346 -0.049134                 0   \n",
       "1                0         -0.554373 -0.484346 -0.046410                 0   \n",
       "2                0         -0.554373  0.931748 -0.048527                 0   \n",
       "3                0         -0.554373 -0.484346 -0.047016                 0   \n",
       "4                0         -0.554373  1.154999 -0.047554                 0   \n",
       "...            ...               ...       ...       ...               ...   \n",
       "175336           0          1.520470 -0.484346 -0.049958                 0   \n",
       "175337           0         -0.554373  0.365776 -0.047062                 0   \n",
       "175338           0         -0.208566 -0.484346 -0.049958                 0   \n",
       "175339           0          1.693374 -0.484346 -0.049958                 0   \n",
       "175340           0          2.039181 -0.484346 -0.049958                 0   \n",
       "\n",
       "        ...     dloss      rate  proto_arp  service_ftp  state_REQ    tcprtt  \\\n",
       "0       ... -0.131759 -0.576371          0            0          0 -0.521660   \n",
       "1       ...  0.190621 -0.576345          0            0          0 -0.521660   \n",
       "2       ... -0.017978 -0.576734          0            0          0  0.888444   \n",
       "3       ... -0.074868 -0.576737          0            1          0 -0.521660   \n",
       "4       ... -0.112795 -0.576617          0            0          0  1.096172   \n",
       "...     ...       ...       ...        ...          ...        ...       ...   \n",
       "175336  ... -0.131759  0.094951          0            0          0 -0.521660   \n",
       "175337  ... -0.112795 -0.576616          0            0          0  0.731463   \n",
       "175338  ... -0.131759  0.094951          0            0          0 -0.521660   \n",
       "175339  ... -0.131759  0.094951          0            0          0 -0.521660   \n",
       "175340  ... -0.131759  0.094951          0            0          0 -0.521660   \n",
       "\n",
       "        state_INT  ct_dst_src_ltm      djit     dmean  \n",
       "0               0       -0.705529 -0.145905 -0.314240  \n",
       "1               0       -0.614256  0.192913  3.800869  \n",
       "2               0       -0.522983  2.663504  2.709185  \n",
       "3               0       -0.522983  1.080373 -0.232945  \n",
       "4               0        2.854115 -0.120301 -0.306498  \n",
       "...           ...             ...       ...       ...  \n",
       "175336          1        1.393748 -0.148818 -0.480703  \n",
       "175337          0       -0.614256 -0.119225 -0.310369  \n",
       "175338          1        0.389746 -0.148818 -0.480703  \n",
       "175339          1        1.941386 -0.148818 -0.480703  \n",
       "175340          1        1.941386 -0.148818 -0.480703  \n",
       "\n",
       "[175341 rows x 53 columns]"
      ]
     },
     "execution_count": 3,
     "metadata": {},
     "output_type": "execute_result"
    }
   ],
   "source": [
    "x_train"
   ]
  },
  {
   "cell_type": "code",
   "execution_count": 3,
   "metadata": {},
   "outputs": [
    {
     "name": "stdout",
     "output_type": "stream",
     "text": [
      "Predicting KNN model with K = 1\n",
      "Done: Train the model using the training set..\n",
      "Done: Predict the response for test dataset..\n",
      "------------------------------------------------\n",
      "Accuracy Score: \t 0.8528032842637128\n",
      "F1 Score: \t\t 0.8764212222256211\n",
      "Precision Score: \t 0.8149047122404475\n",
      "Recall Score: \t\t 0.9479837642283596\n",
      "------------------------------------------------\n",
      "Classification report for K = 1\n",
      "              precision    recall  f1-score   support\n",
      "\n",
      "           0       0.92      0.74      0.82     37000\n",
      "           1       0.81      0.95      0.88     45332\n",
      "\n",
      "    accuracy                           0.85     82332\n",
      "   macro avg       0.87      0.84      0.85     82332\n",
      "weighted avg       0.86      0.85      0.85     82332\n",
      "\n"
     ]
    }
   ],
   "source": [
    "UNSW_predict_KNN_model(1, x_train, y_train, x_test, y_test)"
   ]
  },
  {
   "cell_type": "code",
   "execution_count": 4,
   "metadata": {},
   "outputs": [
    {
     "name": "stdout",
     "output_type": "stream",
     "text": [
      "Predicting KNN model with K = 2\n",
      "Done: Train the model using the training set..\n",
      "Done: Predict the response for test dataset..\n",
      "------------------------------------------------\n",
      "Accuracy Score: \t 0.8710707865714424\n",
      "F1 Score: \t\t 0.8870203820978128\n",
      "Precision Score: \t 0.857001830409477\n",
      "Recall Score: \t\t 0.9192182123003618\n",
      "------------------------------------------------\n",
      "Classification report for K = 2\n",
      "              precision    recall  f1-score   support\n",
      "\n",
      "           0       0.89      0.81      0.85     37000\n",
      "           1       0.86      0.92      0.89     45332\n",
      "\n",
      "    accuracy                           0.87     82332\n",
      "   macro avg       0.87      0.87      0.87     82332\n",
      "weighted avg       0.87      0.87      0.87     82332\n",
      "\n"
     ]
    }
   ],
   "source": [
    "UNSW_predict_KNN_model(2, x_train, y_train, x_test, y_test)"
   ]
  },
  {
   "cell_type": "code",
   "execution_count": 5,
   "metadata": {},
   "outputs": [
    {
     "name": "stdout",
     "output_type": "stream",
     "text": [
      "Predicting KNN model with K = 3\n",
      "Done: Train the model using the training set..\n",
      "Done: Predict the response for test dataset..\n",
      "------------------------------------------------\n",
      "Accuracy Score: \t 0.8508599329543798\n",
      "F1 Score: \t\t 0.8764427092242829\n",
      "Precision Score: \t 0.8057801543101375\n",
      "Recall Score: \t\t 0.9606900202947145\n",
      "------------------------------------------------\n",
      "Classification report for K = 3\n",
      "              precision    recall  f1-score   support\n",
      "\n",
      "           0       0.94      0.72      0.81     37000\n",
      "           1       0.81      0.96      0.88     45332\n",
      "\n",
      "    accuracy                           0.85     82332\n",
      "   macro avg       0.87      0.84      0.84     82332\n",
      "weighted avg       0.86      0.85      0.85     82332\n",
      "\n"
     ]
    }
   ],
   "source": [
    "UNSW_predict_KNN_model(3, x_train, y_train, x_test, y_test)"
   ]
  },
  {
   "cell_type": "code",
   "execution_count": 6,
   "metadata": {},
   "outputs": [
    {
     "name": "stdout",
     "output_type": "stream",
     "text": [
      "Predicting KNN model with K = 4\n",
      "Done: Train the model using the training set..\n",
      "Done: Predict the response for test dataset..\n",
      "------------------------------------------------\n",
      "Accuracy Score: \t 0.863309527279794\n",
      "F1 Score: \t\t 0.883542365164121\n",
      "Precision Score: \t 0.8321183533447685\n",
      "Recall Score: \t\t 0.9417409335568693\n",
      "------------------------------------------------\n",
      "Classification report for K = 4\n",
      "              precision    recall  f1-score   support\n",
      "\n",
      "           0       0.91      0.77      0.83     37000\n",
      "           1       0.83      0.94      0.88     45332\n",
      "\n",
      "    accuracy                           0.86     82332\n",
      "   macro avg       0.87      0.85      0.86     82332\n",
      "weighted avg       0.87      0.86      0.86     82332\n",
      "\n"
     ]
    }
   ],
   "source": [
    "UNSW_predict_KNN_model(4, x_train, y_train, x_test, y_test)"
   ]
  },
  {
   "cell_type": "code",
   "execution_count": 7,
   "metadata": {},
   "outputs": [
    {
     "name": "stdout",
     "output_type": "stream",
     "text": [
      "Predicting KNN model with K = 5\n",
      "Done: Train the model using the training set..\n",
      "Done: Predict the response for test dataset..\n",
      "------------------------------------------------\n",
      "Accuracy Score: \t 0.8462566195403974\n",
      "F1 Score: \t\t 0.8736726546906188\n",
      "Precision Score: \t 0.7977509659546548\n",
      "Recall Score: \t\t 0.9655651636812848\n",
      "------------------------------------------------\n",
      "Classification report for K = 5\n",
      "              precision    recall  f1-score   support\n",
      "\n",
      "           0       0.94      0.70      0.80     37000\n",
      "           1       0.80      0.97      0.87     45332\n",
      "\n",
      "    accuracy                           0.85     82332\n",
      "   macro avg       0.87      0.83      0.84     82332\n",
      "weighted avg       0.86      0.85      0.84     82332\n",
      "\n"
     ]
    }
   ],
   "source": [
    "UNSW_predict_KNN_model(5, x_train, y_train, x_test, y_test)"
   ]
  },
  {
   "cell_type": "code",
   "execution_count": 8,
   "metadata": {},
   "outputs": [
    {
     "name": "stdout",
     "output_type": "stream",
     "text": [
      "Predicting KNN model with K = 6\n",
      "Done: Train the model using the training set..\n",
      "Done: Predict the response for test dataset..\n",
      "------------------------------------------------\n",
      "Accuracy Score: \t 0.856192003109362\n",
      "F1 Score: \t\t 0.8794272795779955\n",
      "Precision Score: \t 0.8167631369878561\n",
      "Recall Score: \t\t 0.9525059560575311\n",
      "------------------------------------------------\n",
      "Classification report for K = 6\n",
      "              precision    recall  f1-score   support\n",
      "\n",
      "           0       0.93      0.74      0.82     37000\n",
      "           1       0.82      0.95      0.88     45332\n",
      "\n",
      "    accuracy                           0.86     82332\n",
      "   macro avg       0.87      0.85      0.85     82332\n",
      "weighted avg       0.87      0.86      0.85     82332\n",
      "\n"
     ]
    }
   ],
   "source": [
    "UNSW_predict_KNN_model(6, x_train, y_train, x_test, y_test)"
   ]
  },
  {
   "cell_type": "code",
   "execution_count": 9,
   "metadata": {},
   "outputs": [
    {
     "name": "stdout",
     "output_type": "stream",
     "text": [
      "Predicting KNN model with K = 7\n",
      "Done: Train the model using the training set..\n",
      "Done: Predict the response for test dataset..\n",
      "------------------------------------------------\n",
      "Accuracy Score: \t 0.8436938250012146\n",
      "F1 Score: \t\t 0.8723047460284385\n",
      "Precision Score: \t 0.7927390120295057\n",
      "Recall Score: \t\t 0.9696241065913703\n",
      "------------------------------------------------\n",
      "Classification report for K = 7\n",
      "              precision    recall  f1-score   support\n",
      "\n",
      "           0       0.95      0.69      0.80     37000\n",
      "           1       0.79      0.97      0.87     45332\n",
      "\n",
      "    accuracy                           0.84     82332\n",
      "   macro avg       0.87      0.83      0.84     82332\n",
      "weighted avg       0.86      0.84      0.84     82332\n",
      "\n"
     ]
    }
   ],
   "source": [
    "UNSW_predict_KNN_model(7, x_train, y_train, x_test, y_test)"
   ]
  },
  {
   "cell_type": "code",
   "execution_count": 10,
   "metadata": {},
   "outputs": [
    {
     "name": "stdout",
     "output_type": "stream",
     "text": [
      "Predicting KNN model with K = 8\n",
      "Done: Train the model using the training set..\n",
      "Done: Predict the response for test dataset..\n",
      "------------------------------------------------\n",
      "Accuracy Score: \t 0.8525117815673128\n",
      "F1 Score: \t\t 0.8775327019858198\n",
      "Precision Score: \t 0.808327604466658\n",
      "Recall Score: \t\t 0.9596973440395306\n",
      "------------------------------------------------\n",
      "Classification report for K = 8\n",
      "              precision    recall  f1-score   support\n",
      "\n",
      "           0       0.94      0.72      0.81     37000\n",
      "           1       0.81      0.96      0.88     45332\n",
      "\n",
      "    accuracy                           0.85     82332\n",
      "   macro avg       0.87      0.84      0.85     82332\n",
      "weighted avg       0.87      0.85      0.85     82332\n",
      "\n"
     ]
    }
   ],
   "source": [
    "UNSW_predict_KNN_model(8, x_train, y_train, x_test, y_test)"
   ]
  },
  {
   "cell_type": "code",
   "execution_count": 11,
   "metadata": {},
   "outputs": [
    {
     "name": "stdout",
     "output_type": "stream",
     "text": [
      "Predicting KNN model with K = 9\n",
      "Done: Train the model using the training set..\n",
      "Done: Predict the response for test dataset..\n",
      "------------------------------------------------\n",
      "Accuracy Score: \t 0.8414346791041151\n",
      "F1 Score: \t\t 0.8710196903682187\n",
      "Precision Score: \t 0.7887805314485103\n",
      "Recall Score: \t\t 0.9724036001058854\n",
      "------------------------------------------------\n",
      "Classification report for K = 9\n",
      "              precision    recall  f1-score   support\n",
      "\n",
      "           0       0.95      0.68      0.79     37000\n",
      "           1       0.79      0.97      0.87     45332\n",
      "\n",
      "    accuracy                           0.84     82332\n",
      "   macro avg       0.87      0.83      0.83     82332\n",
      "weighted avg       0.86      0.84      0.84     82332\n",
      "\n"
     ]
    }
   ],
   "source": [
    "UNSW_predict_KNN_model(9, x_train, y_train, x_test, y_test)"
   ]
  },
  {
   "cell_type": "code",
   "execution_count": 12,
   "metadata": {},
   "outputs": [
    {
     "name": "stdout",
     "output_type": "stream",
     "text": [
      "Predicting KNN model with K = 10\n",
      "Done: Train the model using the training set..\n",
      "Done: Predict the response for test dataset..\n",
      "------------------------------------------------\n",
      "Accuracy Score: \t 0.848770830296847\n",
      "F1 Score: \t\t 0.8753765926993564\n",
      "Precision Score: \t 0.8012349524524983\n",
      "Recall Score: \t\t 0.9646386658431131\n",
      "------------------------------------------------\n",
      "Classification report for K = 10\n",
      "              precision    recall  f1-score   support\n",
      "\n",
      "           0       0.94      0.71      0.81     37000\n",
      "           1       0.80      0.96      0.88     45332\n",
      "\n",
      "    accuracy                           0.85     82332\n",
      "   macro avg       0.87      0.84      0.84     82332\n",
      "weighted avg       0.86      0.85      0.84     82332\n",
      "\n"
     ]
    }
   ],
   "source": [
    "UNSW_predict_KNN_model(10, x_train, y_train, x_test, y_test)"
   ]
  },
  {
   "cell_type": "code",
   "execution_count": 13,
   "metadata": {},
   "outputs": [
    {
     "name": "stdout",
     "output_type": "stream",
     "text": [
      "Predicting KNN model with K = 11\n",
      "Done: Train the model using the training set..\n",
      "Done: Predict the response for test dataset..\n",
      "------------------------------------------------\n",
      "Accuracy Score: \t 0.8404022737210319\n",
      "F1 Score: \t\t 0.8705163579030352\n",
      "Precision Score: \t 0.7866709410842773\n",
      "Recall Score: \t\t 0.974366893143916\n",
      "------------------------------------------------\n",
      "Classification report for K = 11\n",
      "              precision    recall  f1-score   support\n",
      "\n",
      "           0       0.96      0.68      0.79     37000\n",
      "           1       0.79      0.97      0.87     45332\n",
      "\n",
      "    accuracy                           0.84     82332\n",
      "   macro avg       0.87      0.83      0.83     82332\n",
      "weighted avg       0.86      0.84      0.84     82332\n",
      "\n"
     ]
    }
   ],
   "source": [
    "UNSW_predict_KNN_model(11, x_train, y_train, x_test, y_test)"
   ]
  },
  {
   "cell_type": "code",
   "execution_count": 14,
   "metadata": {},
   "outputs": [
    {
     "name": "stdout",
     "output_type": "stream",
     "text": [
      "Predicting KNN model with K = 12\n",
      "Done: Train the model using the training set..\n",
      "Done: Predict the response for test dataset..\n",
      "------------------------------------------------\n",
      "Accuracy Score: \t 0.8467424573677307\n",
      "F1 Score: \t\t 0.874230010166856\n",
      "Precision Score: \t 0.7974324471760555\n",
      "Recall Score: \t\t 0.9673960998852907\n",
      "------------------------------------------------\n",
      "Classification report for K = 12\n",
      "              precision    recall  f1-score   support\n",
      "\n",
      "           0       0.95      0.70      0.80     37000\n",
      "           1       0.80      0.97      0.87     45332\n",
      "\n",
      "    accuracy                           0.85     82332\n",
      "   macro avg       0.87      0.83      0.84     82332\n",
      "weighted avg       0.86      0.85      0.84     82332\n",
      "\n"
     ]
    }
   ],
   "source": [
    "UNSW_predict_KNN_model(12, x_train, y_train, x_test, y_test)"
   ]
  },
  {
   "cell_type": "code",
   "execution_count": 15,
   "metadata": {},
   "outputs": [
    {
     "name": "stdout",
     "output_type": "stream",
     "text": [
      "Predicting KNN model with K = 13\n",
      "Done: Train the model using the training set..\n",
      "Done: Predict the response for test dataset..\n",
      "------------------------------------------------\n",
      "Accuracy Score: \t 0.8392119710440655\n",
      "F1 Score: \t\t 0.8698686693928908\n",
      "Precision Score: \t 0.7845414568409107\n",
      "Recall Score: \t\t 0.9760213535692226\n",
      "------------------------------------------------\n",
      "Classification report for K = 13\n",
      "              precision    recall  f1-score   support\n",
      "\n",
      "           0       0.96      0.67      0.79     37000\n",
      "           1       0.78      0.98      0.87     45332\n",
      "\n",
      "    accuracy                           0.84     82332\n",
      "   macro avg       0.87      0.82      0.83     82332\n",
      "weighted avg       0.86      0.84      0.83     82332\n",
      "\n"
     ]
    }
   ],
   "source": [
    "UNSW_predict_KNN_model(13, x_train, y_train, x_test, y_test)"
   ]
  },
  {
   "cell_type": "code",
   "execution_count": 16,
   "metadata": {},
   "outputs": [
    {
     "name": "stdout",
     "output_type": "stream",
     "text": [
      "Predicting KNN model with K = 14\n",
      "Done: Train the model using the training set..\n",
      "Done: Predict the response for test dataset..\n",
      "------------------------------------------------\n",
      "Accuracy Score: \t 0.8440460574260312\n",
      "F1 Score: \t\t 0.8726215749687506\n",
      "Precision Score: \t 0.7928790337119164\n",
      "Recall Score: \t\t 0.9701976528721433\n",
      "------------------------------------------------\n",
      "Classification report for K = 14\n",
      "              precision    recall  f1-score   support\n",
      "\n",
      "           0       0.95      0.69      0.80     37000\n",
      "           1       0.79      0.97      0.87     45332\n",
      "\n",
      "    accuracy                           0.84     82332\n",
      "   macro avg       0.87      0.83      0.84     82332\n",
      "weighted avg       0.86      0.84      0.84     82332\n",
      "\n"
     ]
    }
   ],
   "source": [
    "UNSW_predict_KNN_model(14, x_train, y_train, x_test, y_test)"
   ]
  },
  {
   "cell_type": "code",
   "execution_count": 17,
   "metadata": {},
   "outputs": [
    {
     "name": "stdout",
     "output_type": "stream",
     "text": [
      "Predicting KNN model with K = 15\n",
      "Done: Train the model using the training set..\n",
      "Done: Predict the response for test dataset..\n",
      "------------------------------------------------\n",
      "Accuracy Score: \t 0.8375479764854492\n",
      "F1 Score: \t\t 0.8688352570828961\n",
      "Precision Score: \t 0.7821112660887375\n",
      "Recall Score: \t\t 0.9771905056031059\n",
      "------------------------------------------------\n",
      "Classification report for K = 15\n",
      "              precision    recall  f1-score   support\n",
      "\n",
      "           0       0.96      0.67      0.79     37000\n",
      "           1       0.78      0.98      0.87     45332\n",
      "\n",
      "    accuracy                           0.84     82332\n",
      "   macro avg       0.87      0.82      0.83     82332\n",
      "weighted avg       0.86      0.84      0.83     82332\n",
      "\n"
     ]
    }
   ],
   "source": [
    "UNSW_predict_KNN_model(15, x_train, y_train, x_test, y_test)"
   ]
  },
  {
   "cell_type": "code",
   "execution_count": null,
   "metadata": {},
   "outputs": [],
   "source": []
  }
 ],
 "metadata": {
  "interpreter": {
   "hash": "e806ced9ecfb40b02ab47568795ac9dcbe40749bdb5814bad29b2f2147c6506f"
  },
  "kernelspec": {
   "display_name": "Python 3.8.5 64-bit ('MasterThesisGPU': conda)",
   "language": "python",
   "name": "python3"
  },
  "language_info": {
   "codemirror_mode": {
    "name": "ipython",
    "version": 3
   },
   "file_extension": ".py",
   "mimetype": "text/x-python",
   "name": "python",
   "nbconvert_exporter": "python",
   "pygments_lexer": "ipython3",
   "version": "3.8.5"
  },
  "orig_nbformat": 4
 },
 "nbformat": 4,
 "nbformat_minor": 2
}
