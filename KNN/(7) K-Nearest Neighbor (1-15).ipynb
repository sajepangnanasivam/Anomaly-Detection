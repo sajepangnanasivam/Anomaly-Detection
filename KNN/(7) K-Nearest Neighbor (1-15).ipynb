{
 "cells": [
  {
   "cell_type": "code",
   "execution_count": 2,
   "metadata": {},
   "outputs": [
    {
     "name": "stdout",
     "output_type": "stream",
     "text": [
      "( 1 ) Reading Preprocessed CSV files..\n",
      "\t Training dataset loaded..\n",
      "\t Testing dataset loaded..\n",
      "\n",
      "( 2 ) Loading done, splitting into X and Y..\n",
      "\t ( 2.1 ) x_train Shape:  \t (175341, 53)\n",
      "\t ( 2.2 ) y_train Shape:  \t (175341,)\n",
      "\t ( 2.3 ) x_test Shape:  \t (82332, 53)\n",
      "\t ( 2.4 ) y_test Shape:  \t (82332,)\n",
      "( 3 ) Done!\n",
      "PS! Import with: x_train, x_test, y_train, y_test = XY_import()\n"
     ]
    }
   ],
   "source": [
    "import pandas as pd\n",
    "import numpy as np\n",
    "from sklearn.neighbors import KNeighborsClassifier\n",
    "from sklearn import metrics\n",
    "# Dataset loading\n",
    "import sys\n",
    "sys.path.append(\"..\")\n",
    "from Functions.UNSW_DF import *\n",
    "\n",
    "x_train, x_test, y_train, y_test = DF_XY()"
   ]
  },
  {
   "cell_type": "code",
   "execution_count": 3,
   "metadata": {},
   "outputs": [
    {
     "name": "stdout",
     "output_type": "stream",
     "text": [
      "Predicting KNN model with K = 1\n",
      "Done: Train the model using the training set..\n",
      "Done: Predict the response for test dataset..\n",
      "------------------------------------------------\n",
      "Accuracy Score: \t 0.8528032842637128\n",
      "F1 Score: \t\t 0.8764212222256211\n",
      "Precision Score: \t 0.8149047122404475\n",
      "Recall Score: \t\t 0.9479837642283596\n",
      "------------------------------------------------\n",
      "Classification report for K = 1\n",
      "              precision    recall  f1-score   support\n",
      "\n",
      "           0       0.92      0.74      0.82     37000\n",
      "           1       0.81      0.95      0.88     45332\n",
      "\n",
      "    accuracy                           0.85     82332\n",
      "   macro avg       0.87      0.84      0.85     82332\n",
      "weighted avg       0.86      0.85      0.85     82332\n",
      "\n"
     ]
    }
   ],
   "source": [
    "UNSW_predict_KNN_model(1, x_train, y_train, x_test, y_test)"
   ]
  },
  {
   "cell_type": "code",
   "execution_count": 4,
   "metadata": {},
   "outputs": [
    {
     "name": "stdout",
     "output_type": "stream",
     "text": [
      "Predicting KNN model with K = 2\n",
      "Done: Train the model using the training set..\n",
      "Done: Predict the response for test dataset..\n",
      "------------------------------------------------\n",
      "Accuracy Score: \t 0.8710707865714424\n",
      "F1 Score: \t\t 0.8870203820978128\n",
      "Precision Score: \t 0.857001830409477\n",
      "Recall Score: \t\t 0.9192182123003618\n",
      "------------------------------------------------\n",
      "Classification report for K = 2\n",
      "              precision    recall  f1-score   support\n",
      "\n",
      "           0       0.89      0.81      0.85     37000\n",
      "           1       0.86      0.92      0.89     45332\n",
      "\n",
      "    accuracy                           0.87     82332\n",
      "   macro avg       0.87      0.87      0.87     82332\n",
      "weighted avg       0.87      0.87      0.87     82332\n",
      "\n"
     ]
    }
   ],
   "source": [
    "UNSW_predict_KNN_model(2, x_train, y_train, x_test, y_test)"
   ]
  },
  {
   "cell_type": "code",
   "execution_count": 5,
   "metadata": {},
   "outputs": [
    {
     "name": "stdout",
     "output_type": "stream",
     "text": [
      "Predicting KNN model with K = 3\n",
      "Done: Train the model using the training set..\n",
      "Done: Predict the response for test dataset..\n",
      "------------------------------------------------\n",
      "Accuracy Score: \t 0.8508599329543798\n",
      "F1 Score: \t\t 0.8764427092242829\n",
      "Precision Score: \t 0.8057801543101375\n",
      "Recall Score: \t\t 0.9606900202947145\n",
      "------------------------------------------------\n",
      "Classification report for K = 3\n",
      "              precision    recall  f1-score   support\n",
      "\n",
      "           0       0.94      0.72      0.81     37000\n",
      "           1       0.81      0.96      0.88     45332\n",
      "\n",
      "    accuracy                           0.85     82332\n",
      "   macro avg       0.87      0.84      0.84     82332\n",
      "weighted avg       0.86      0.85      0.85     82332\n",
      "\n"
     ]
    }
   ],
   "source": [
    "UNSW_predict_KNN_model(3, x_train, y_train, x_test, y_test)"
   ]
  },
  {
   "cell_type": "code",
   "execution_count": 6,
   "metadata": {},
   "outputs": [
    {
     "name": "stdout",
     "output_type": "stream",
     "text": [
      "Predicting KNN model with K = 4\n",
      "Done: Train the model using the training set..\n",
      "Done: Predict the response for test dataset..\n",
      "------------------------------------------------\n",
      "Accuracy Score: \t 0.863309527279794\n",
      "F1 Score: \t\t 0.883542365164121\n",
      "Precision Score: \t 0.8321183533447685\n",
      "Recall Score: \t\t 0.9417409335568693\n",
      "------------------------------------------------\n",
      "Classification report for K = 4\n",
      "              precision    recall  f1-score   support\n",
      "\n",
      "           0       0.91      0.77      0.83     37000\n",
      "           1       0.83      0.94      0.88     45332\n",
      "\n",
      "    accuracy                           0.86     82332\n",
      "   macro avg       0.87      0.85      0.86     82332\n",
      "weighted avg       0.87      0.86      0.86     82332\n",
      "\n"
     ]
    }
   ],
   "source": [
    "UNSW_predict_KNN_model(4, x_train, y_train, x_test, y_test)"
   ]
  },
  {
   "cell_type": "code",
   "execution_count": 7,
   "metadata": {},
   "outputs": [
    {
     "name": "stdout",
     "output_type": "stream",
     "text": [
      "Predicting KNN model with K = 5\n",
      "Done: Train the model using the training set..\n",
      "Done: Predict the response for test dataset..\n",
      "------------------------------------------------\n",
      "Accuracy Score: \t 0.8462566195403974\n",
      "F1 Score: \t\t 0.8736726546906188\n",
      "Precision Score: \t 0.7977509659546548\n",
      "Recall Score: \t\t 0.9655651636812848\n",
      "------------------------------------------------\n",
      "Classification report for K = 5\n",
      "              precision    recall  f1-score   support\n",
      "\n",
      "           0       0.94      0.70      0.80     37000\n",
      "           1       0.80      0.97      0.87     45332\n",
      "\n",
      "    accuracy                           0.85     82332\n",
      "   macro avg       0.87      0.83      0.84     82332\n",
      "weighted avg       0.86      0.85      0.84     82332\n",
      "\n"
     ]
    }
   ],
   "source": [
    "UNSW_predict_KNN_model(5, x_train, y_train, x_test, y_test)"
   ]
  },
  {
   "cell_type": "code",
   "execution_count": 8,
   "metadata": {},
   "outputs": [
    {
     "name": "stdout",
     "output_type": "stream",
     "text": [
      "Predicting KNN model with K = 6\n",
      "Done: Train the model using the training set..\n",
      "Done: Predict the response for test dataset..\n",
      "------------------------------------------------\n",
      "Accuracy Score: \t 0.856192003109362\n",
      "F1 Score: \t\t 0.8794272795779955\n",
      "Precision Score: \t 0.8167631369878561\n",
      "Recall Score: \t\t 0.9525059560575311\n",
      "------------------------------------------------\n",
      "Classification report for K = 6\n",
      "              precision    recall  f1-score   support\n",
      "\n",
      "           0       0.93      0.74      0.82     37000\n",
      "           1       0.82      0.95      0.88     45332\n",
      "\n",
      "    accuracy                           0.86     82332\n",
      "   macro avg       0.87      0.85      0.85     82332\n",
      "weighted avg       0.87      0.86      0.85     82332\n",
      "\n"
     ]
    }
   ],
   "source": [
    "UNSW_predict_KNN_model(6, x_train, y_train, x_test, y_test)"
   ]
  },
  {
   "cell_type": "code",
   "execution_count": 9,
   "metadata": {},
   "outputs": [
    {
     "name": "stdout",
     "output_type": "stream",
     "text": [
      "Predicting KNN model with K = 7\n",
      "Done: Train the model using the training set..\n",
      "Done: Predict the response for test dataset..\n",
      "------------------------------------------------\n",
      "Accuracy Score: \t 0.8436938250012146\n",
      "F1 Score: \t\t 0.8723047460284385\n",
      "Precision Score: \t 0.7927390120295057\n",
      "Recall Score: \t\t 0.9696241065913703\n",
      "------------------------------------------------\n",
      "Classification report for K = 7\n",
      "              precision    recall  f1-score   support\n",
      "\n",
      "           0       0.95      0.69      0.80     37000\n",
      "           1       0.79      0.97      0.87     45332\n",
      "\n",
      "    accuracy                           0.84     82332\n",
      "   macro avg       0.87      0.83      0.84     82332\n",
      "weighted avg       0.86      0.84      0.84     82332\n",
      "\n"
     ]
    }
   ],
   "source": [
    "UNSW_predict_KNN_model(7, x_train, y_train, x_test, y_test)"
   ]
  },
  {
   "cell_type": "code",
   "execution_count": 10,
   "metadata": {},
   "outputs": [
    {
     "name": "stdout",
     "output_type": "stream",
     "text": [
      "Predicting KNN model with K = 8\n",
      "Done: Train the model using the training set..\n",
      "Done: Predict the response for test dataset..\n",
      "------------------------------------------------\n",
      "Accuracy Score: \t 0.8525117815673128\n",
      "F1 Score: \t\t 0.8775327019858198\n",
      "Precision Score: \t 0.808327604466658\n",
      "Recall Score: \t\t 0.9596973440395306\n",
      "------------------------------------------------\n",
      "Classification report for K = 8\n",
      "              precision    recall  f1-score   support\n",
      "\n",
      "           0       0.94      0.72      0.81     37000\n",
      "           1       0.81      0.96      0.88     45332\n",
      "\n",
      "    accuracy                           0.85     82332\n",
      "   macro avg       0.87      0.84      0.85     82332\n",
      "weighted avg       0.87      0.85      0.85     82332\n",
      "\n"
     ]
    }
   ],
   "source": [
    "UNSW_predict_KNN_model(8, x_train, y_train, x_test, y_test)"
   ]
  },
  {
   "cell_type": "code",
   "execution_count": 11,
   "metadata": {},
   "outputs": [
    {
     "name": "stdout",
     "output_type": "stream",
     "text": [
      "Predicting KNN model with K = 9\n",
      "Done: Train the model using the training set..\n",
      "Done: Predict the response for test dataset..\n",
      "------------------------------------------------\n",
      "Accuracy Score: \t 0.8414346791041151\n",
      "F1 Score: \t\t 0.8710196903682187\n",
      "Precision Score: \t 0.7887805314485103\n",
      "Recall Score: \t\t 0.9724036001058854\n",
      "------------------------------------------------\n",
      "Classification report for K = 9\n",
      "              precision    recall  f1-score   support\n",
      "\n",
      "           0       0.95      0.68      0.79     37000\n",
      "           1       0.79      0.97      0.87     45332\n",
      "\n",
      "    accuracy                           0.84     82332\n",
      "   macro avg       0.87      0.83      0.83     82332\n",
      "weighted avg       0.86      0.84      0.84     82332\n",
      "\n"
     ]
    }
   ],
   "source": [
    "UNSW_predict_KNN_model(9, x_train, y_train, x_test, y_test)"
   ]
  },
  {
   "cell_type": "code",
   "execution_count": 12,
   "metadata": {},
   "outputs": [
    {
     "name": "stdout",
     "output_type": "stream",
     "text": [
      "Predicting KNN model with K = 10\n",
      "Done: Train the model using the training set..\n",
      "Done: Predict the response for test dataset..\n",
      "------------------------------------------------\n",
      "Accuracy Score: \t 0.848770830296847\n",
      "F1 Score: \t\t 0.8753765926993564\n",
      "Precision Score: \t 0.8012349524524983\n",
      "Recall Score: \t\t 0.9646386658431131\n",
      "------------------------------------------------\n",
      "Classification report for K = 10\n",
      "              precision    recall  f1-score   support\n",
      "\n",
      "           0       0.94      0.71      0.81     37000\n",
      "           1       0.80      0.96      0.88     45332\n",
      "\n",
      "    accuracy                           0.85     82332\n",
      "   macro avg       0.87      0.84      0.84     82332\n",
      "weighted avg       0.86      0.85      0.84     82332\n",
      "\n"
     ]
    }
   ],
   "source": [
    "UNSW_predict_KNN_model(10, x_train, y_train, x_test, y_test)"
   ]
  },
  {
   "cell_type": "code",
   "execution_count": 13,
   "metadata": {},
   "outputs": [
    {
     "name": "stdout",
     "output_type": "stream",
     "text": [
      "Predicting KNN model with K = 11\n",
      "Done: Train the model using the training set..\n",
      "Done: Predict the response for test dataset..\n",
      "------------------------------------------------\n",
      "Accuracy Score: \t 0.8404022737210319\n",
      "F1 Score: \t\t 0.8705163579030352\n",
      "Precision Score: \t 0.7866709410842773\n",
      "Recall Score: \t\t 0.974366893143916\n",
      "------------------------------------------------\n",
      "Classification report for K = 11\n",
      "              precision    recall  f1-score   support\n",
      "\n",
      "           0       0.96      0.68      0.79     37000\n",
      "           1       0.79      0.97      0.87     45332\n",
      "\n",
      "    accuracy                           0.84     82332\n",
      "   macro avg       0.87      0.83      0.83     82332\n",
      "weighted avg       0.86      0.84      0.84     82332\n",
      "\n"
     ]
    }
   ],
   "source": [
    "UNSW_predict_KNN_model(11, x_train, y_train, x_test, y_test)"
   ]
  },
  {
   "cell_type": "code",
   "execution_count": 14,
   "metadata": {},
   "outputs": [
    {
     "name": "stdout",
     "output_type": "stream",
     "text": [
      "Predicting KNN model with K = 12\n",
      "Done: Train the model using the training set..\n",
      "Done: Predict the response for test dataset..\n",
      "------------------------------------------------\n",
      "Accuracy Score: \t 0.8467424573677307\n",
      "F1 Score: \t\t 0.874230010166856\n",
      "Precision Score: \t 0.7974324471760555\n",
      "Recall Score: \t\t 0.9673960998852907\n",
      "------------------------------------------------\n",
      "Classification report for K = 12\n",
      "              precision    recall  f1-score   support\n",
      "\n",
      "           0       0.95      0.70      0.80     37000\n",
      "           1       0.80      0.97      0.87     45332\n",
      "\n",
      "    accuracy                           0.85     82332\n",
      "   macro avg       0.87      0.83      0.84     82332\n",
      "weighted avg       0.86      0.85      0.84     82332\n",
      "\n"
     ]
    }
   ],
   "source": [
    "UNSW_predict_KNN_model(12, x_train, y_train, x_test, y_test)"
   ]
  },
  {
   "cell_type": "code",
   "execution_count": 15,
   "metadata": {},
   "outputs": [
    {
     "name": "stdout",
     "output_type": "stream",
     "text": [
      "Predicting KNN model with K = 13\n",
      "Done: Train the model using the training set..\n",
      "Done: Predict the response for test dataset..\n",
      "------------------------------------------------\n",
      "Accuracy Score: \t 0.8392119710440655\n",
      "F1 Score: \t\t 0.8698686693928908\n",
      "Precision Score: \t 0.7845414568409107\n",
      "Recall Score: \t\t 0.9760213535692226\n",
      "------------------------------------------------\n",
      "Classification report for K = 13\n",
      "              precision    recall  f1-score   support\n",
      "\n",
      "           0       0.96      0.67      0.79     37000\n",
      "           1       0.78      0.98      0.87     45332\n",
      "\n",
      "    accuracy                           0.84     82332\n",
      "   macro avg       0.87      0.82      0.83     82332\n",
      "weighted avg       0.86      0.84      0.83     82332\n",
      "\n"
     ]
    }
   ],
   "source": [
    "UNSW_predict_KNN_model(13, x_train, y_train, x_test, y_test)"
   ]
  },
  {
   "cell_type": "code",
   "execution_count": 16,
   "metadata": {},
   "outputs": [
    {
     "name": "stdout",
     "output_type": "stream",
     "text": [
      "Predicting KNN model with K = 14\n",
      "Done: Train the model using the training set..\n",
      "Done: Predict the response for test dataset..\n",
      "------------------------------------------------\n",
      "Accuracy Score: \t 0.8440460574260312\n",
      "F1 Score: \t\t 0.8726215749687506\n",
      "Precision Score: \t 0.7928790337119164\n",
      "Recall Score: \t\t 0.9701976528721433\n",
      "------------------------------------------------\n",
      "Classification report for K = 14\n",
      "              precision    recall  f1-score   support\n",
      "\n",
      "           0       0.95      0.69      0.80     37000\n",
      "           1       0.79      0.97      0.87     45332\n",
      "\n",
      "    accuracy                           0.84     82332\n",
      "   macro avg       0.87      0.83      0.84     82332\n",
      "weighted avg       0.86      0.84      0.84     82332\n",
      "\n"
     ]
    }
   ],
   "source": [
    "UNSW_predict_KNN_model(14, x_train, y_train, x_test, y_test)"
   ]
  },
  {
   "cell_type": "code",
   "execution_count": 17,
   "metadata": {},
   "outputs": [
    {
     "name": "stdout",
     "output_type": "stream",
     "text": [
      "Predicting KNN model with K = 15\n",
      "Done: Train the model using the training set..\n",
      "Done: Predict the response for test dataset..\n",
      "------------------------------------------------\n",
      "Accuracy Score: \t 0.8375479764854492\n",
      "F1 Score: \t\t 0.8688352570828961\n",
      "Precision Score: \t 0.7821112660887375\n",
      "Recall Score: \t\t 0.9771905056031059\n",
      "------------------------------------------------\n",
      "Classification report for K = 15\n",
      "              precision    recall  f1-score   support\n",
      "\n",
      "           0       0.96      0.67      0.79     37000\n",
      "           1       0.78      0.98      0.87     45332\n",
      "\n",
      "    accuracy                           0.84     82332\n",
      "   macro avg       0.87      0.82      0.83     82332\n",
      "weighted avg       0.86      0.84      0.83     82332\n",
      "\n"
     ]
    }
   ],
   "source": [
    "UNSW_predict_KNN_model(15, x_train, y_train, x_test, y_test)"
   ]
  },
  {
   "cell_type": "code",
   "execution_count": null,
   "metadata": {},
   "outputs": [],
   "source": []
  }
 ],
 "metadata": {
  "interpreter": {
   "hash": "e806ced9ecfb40b02ab47568795ac9dcbe40749bdb5814bad29b2f2147c6506f"
  },
  "kernelspec": {
   "display_name": "Python 3.8.5 64-bit ('MasterThesisGPU': conda)",
   "language": "python",
   "name": "python3"
  },
  "language_info": {
   "codemirror_mode": {
    "name": "ipython",
    "version": 3
   },
   "file_extension": ".py",
   "mimetype": "text/x-python",
   "name": "python",
   "nbconvert_exporter": "python",
   "pygments_lexer": "ipython3",
   "version": "3.8.5"
  },
  "orig_nbformat": 4
 },
 "nbformat": 4,
 "nbformat_minor": 2
}
