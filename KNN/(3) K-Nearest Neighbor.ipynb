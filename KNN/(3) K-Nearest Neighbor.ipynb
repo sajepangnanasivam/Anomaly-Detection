{
 "cells": [
  {
   "cell_type": "markdown",
   "metadata": {},
   "source": [
    "# K-Nearest Neighbor"
   ]
  },
  {
   "cell_type": "code",
   "execution_count": 1,
   "metadata": {},
   "outputs": [
    {
     "name": "stdout",
     "output_type": "stream",
     "text": [
      "( 1 ) Reading Preprocessed CSV files..\n",
      "\t Training dataset loaded..\n",
      "\t Testing dataset loaded..\n",
      "\n",
      "( 2 ) Loading done, splitting into X and Y..\n",
      "\t ( 2.1 ) x_train Shape:  \t (175341, 53)\n",
      "\t ( 2.2 ) y_train Shape:  \t (175341,)\n",
      "\t ( 2.3 ) x_test Shape:  \t (82332, 53)\n",
      "\t ( 2.4 ) y_test Shape:  \t (82332,)\n",
      "( 3 ) Done!\n",
      "Import with: x_train, x_test, y_train, y_test = XY_import()\n"
     ]
    }
   ],
   "source": [
    "import pandas as pd\n",
    "import numpy as np\n",
    "from sklearn.neighbors import KNeighborsClassifier\n",
    "from sklearn import metrics\n",
    "from sklearn.metrics import classification_report\n",
    "import matplotlib.pyplot as plt\n",
    "\n",
    "# Dataset loading\n",
    "from UNSW_DF import *\n",
    "x_train, x_test, y_train, y_test = XY_import()"
   ]
  },
  {
   "cell_type": "code",
   "execution_count": 2,
   "metadata": {},
   "outputs": [],
   "source": [
    "# Create KNN Classifier\n",
    "knn = KNeighborsClassifier(n_neighbors=7)"
   ]
  },
  {
   "cell_type": "code",
   "execution_count": 3,
   "metadata": {},
   "outputs": [
    {
     "data": {
      "text/plain": [
       "KNeighborsClassifier(n_neighbors=7)"
      ]
     },
     "execution_count": 3,
     "metadata": {},
     "output_type": "execute_result"
    }
   ],
   "source": [
    "# Train the model using the training sets\n",
    "knn.fit(x_train, y_train)"
   ]
  },
  {
   "cell_type": "code",
   "execution_count": 4,
   "metadata": {},
   "outputs": [],
   "source": [
    "# Predict the response for test dataset\n",
    "y_pred = knn.predict(x_test)"
   ]
  },
  {
   "cell_type": "code",
   "execution_count": 5,
   "metadata": {},
   "outputs": [
    {
     "name": "stdout",
     "output_type": "stream",
     "text": [
      "Accuracy of the model:  0.8436938250012146\n"
     ]
    }
   ],
   "source": [
    "print('Accuracy of the model: ', metrics.accuracy_score(y_test, y_pred))"
   ]
  },
  {
   "cell_type": "code",
   "execution_count": 6,
   "metadata": {},
   "outputs": [
    {
     "name": "stdout",
     "output_type": "stream",
     "text": [
      "              precision    recall  f1-score   support\n",
      "\n",
      "           0       0.95      0.69      0.80     37000\n",
      "           1       0.79      0.97      0.87     45332\n",
      "\n",
      "    accuracy                           0.84     82332\n",
      "   macro avg       0.87      0.83      0.84     82332\n",
      "weighted avg       0.86      0.84      0.84     82332\n",
      "\n"
     ]
    }
   ],
   "source": [
    "print(classification_report(y_test, y_pred))"
   ]
  },
  {
   "cell_type": "code",
   "execution_count": null,
   "metadata": {},
   "outputs": [],
   "source": [
    "# Prediction Score for training set\n",
    "knn_train = knn.predict(x_train)\n",
    "scores = knn.evaluate(x_train, y_train, verbose=0)\n",
    "print('Accuracy on training data: \\t{}% \\n Error on training data: \\t{}'.format(scores[1], 1 - scores[1]))\n",
    "\n",
    "# Prediction Score for testing set\n",
    "knn_test = knn.predict(x_test)\n",
    "scores2 = knn.evaluate(x_test, y_test, verbose=0)\n",
    "print('Accuracy on test data: \\t\\t{}% \\n Error on test data: \\t\\t{}'.format(scores2[1], 1 - scores2[1])) "
   ]
  },
  {
   "cell_type": "code",
   "execution_count": 7,
   "metadata": {},
   "outputs": [],
   "source": [
    "error = []\n",
    "\n",
    "# Calculating error for K values between 1 and 40\n",
    "for i in range(1, 3):\n",
    "    knn = KNeighborsClassifier(n_neighbors=i)\n",
    "    knn.fit(x_train, y_train)\n",
    "    pred_i = knn.predict(x_test)\n",
    "    error.append(np.mean(pred_i != y_test))"
   ]
  },
  {
   "cell_type": "code",
   "execution_count": 13,
   "metadata": {},
   "outputs": [
    {
     "ename": "SyntaxError",
     "evalue": "invalid syntax (2236692390.py, line 4)",
     "output_type": "error",
     "traceback": [
      "\u001b[0;36m  File \u001b[0;32m\"/var/folders/kn/x1tp4xkn1sz0h6xy3b_79_fh0000gn/T/ipykernel_43858/2236692390.py\"\u001b[0;36m, line \u001b[0;32m4\u001b[0m\n\u001b[0;31m    plt.title('Error Rate K Value')\u001b[0m\n\u001b[0m    ^\u001b[0m\n\u001b[0;31mSyntaxError\u001b[0m\u001b[0;31m:\u001b[0m invalid syntax\n"
     ]
    }
   ],
   "source": [
    "plt.figure(figsize=(12, 6))\n",
    "plt.plot(range(1, 3, error, color='red', linestyle='dashed', marker='o',\n",
    "         markerfacecolor='blue', markersize=10)\n",
    "plt.title('Error Rate K Value')\n",
    "plt.xlabel('K Value')\n",
    "plt.ylabel('Mean Error')"
   ]
  },
  {
   "cell_type": "code",
   "execution_count": null,
   "metadata": {},
   "outputs": [],
   "source": []
  }
 ],
 "metadata": {
  "interpreter": {
   "hash": "557f7a76709d809d5a6b0728b55d2b66cdd1850049e35147309670e9cf1c5b51"
  },
  "kernelspec": {
   "display_name": "Python 3.8.12 64-bit ('MastersThesis': conda)",
   "name": "python3"
  },
  "language_info": {
   "codemirror_mode": {
    "name": "ipython",
    "version": 3
   },
   "file_extension": ".py",
   "mimetype": "text/x-python",
   "name": "python",
   "nbconvert_exporter": "python",
   "pygments_lexer": "ipython3",
   "version": "3.8.12"
  },
  "orig_nbformat": 4
 },
 "nbformat": 4,
 "nbformat_minor": 2
}
