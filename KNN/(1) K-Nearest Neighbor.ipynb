{
 "cells": [
  {
   "cell_type": "markdown",
   "id": "b532b6c3-9f2b-41fc-b404-d7500e43657a",
   "metadata": {},
   "source": [
    "# K-Nearest Neighbor"
   ]
  },
  {
   "cell_type": "markdown",
   "id": "45d5087f-eb4b-449c-b843-a059e0489c92",
   "metadata": {},
   "source": [
    "https://www.datacamp.com/community/tutorials/k-nearest-neighbor-classification-scikit-learn"
   ]
  },
  {
   "cell_type": "code",
   "execution_count": 1,
   "id": "681d319a-0036-4079-9f2c-6bc92f13cd0c",
   "metadata": {},
   "outputs": [],
   "source": [
    "import numpy as np\n",
    "import pandas as pd\n",
    "from sklearn.neighbors import KNeighborsClassifier\n",
    "import matplotlib.pyplot as plt \n",
    "from sklearn import preprocessing \n",
    "import seaborn as sns\n",
    "from sklearn import metrics\n",
    "from sklearn.metrics import classification_report"
   ]
  },
  {
   "cell_type": "markdown",
   "id": "507abaea-b886-409c-8ae1-0a70b8173d58",
   "metadata": {},
   "source": [
    "## Preparing the dataset"
   ]
  },
  {
   "cell_type": "code",
   "execution_count": 2,
   "id": "41715f2c-622f-4f3b-9517-b927e25e46fe",
   "metadata": {},
   "outputs": [
    {
     "name": "stdout",
     "output_type": "stream",
     "text": [
      "Training Set Shape: \t\t (82332, 45)\n",
      "Testing Set Shape: \t\t (175341, 45)\n"
     ]
    }
   ],
   "source": [
    "# Loading the training and testing datasets.\n",
    "test = pd.read_csv(\"UNSW_NB15_testing-set.csv\", sep=',', header=0)\n",
    "train = pd.read_csv(\"UNSW_NB15_training-set.csv\", sep=',', header=0)\n",
    "\n",
    "# Printing the shape of the datasets\n",
    "print('Training Set Shape:', '\\t\\t', train.shape)\n",
    "print('Testing Set Shape:', '\\t\\t', test.shape)"
   ]
  },
  {
   "cell_type": "code",
   "execution_count": 3,
   "id": "47e25611-c433-4e89-a434-954ab6701f43",
   "metadata": {},
   "outputs": [],
   "source": [
    "# Defining the columns that need to be label encoded.\n",
    "cols = ['proto', 'service', 'state', 'attack_cat']\n",
    "le = preprocessing.LabelEncoder()"
   ]
  },
  {
   "cell_type": "code",
   "execution_count": 4,
   "id": "d56645b8-5b4d-42e3-a40e-14f3605970e1",
   "metadata": {},
   "outputs": [],
   "source": [
    "# Label encoding the columns for the test and training set\n",
    "test[cols] = test[cols].apply(le.fit_transform)\n",
    "train[cols] = train[cols].apply(le.fit_transform)"
   ]
  },
  {
   "cell_type": "code",
   "execution_count": 5,
   "id": "a8a631fc-afbe-4ac5-b49a-11b3600df422",
   "metadata": {},
   "outputs": [
    {
     "name": "stdout",
     "output_type": "stream",
     "text": [
      "X train shape:  (82332, 44)\n",
      "y train shape:  (82332,)\n"
     ]
    }
   ],
   "source": [
    "# Splitting the dataset into inputs and outputs\n",
    "X_train = train.iloc[:, 0:44]\n",
    "X_test = test.iloc[:, 0:44]\n",
    "y_train = train.iloc[:, 44]\n",
    "y_test = test.iloc[:, 44]\n",
    "print('X train shape: ', X_train.shape)\n",
    "print('y train shape: ' , y_train.shape)"
   ]
  },
  {
   "cell_type": "code",
   "execution_count": 6,
   "id": "2b7b4ffb-6172-444f-b8fd-38240d9eda4b",
   "metadata": {},
   "outputs": [],
   "source": [
    "# Applying Min Max Scaler on X\n",
    "mm_scaler = preprocessing.MinMaxScaler()\n",
    "X_train_minmax = mm_scaler.fit_transform(X_train)\n",
    "X_test_minmax = mm_scaler.fit_transform(X_test)"
   ]
  },
  {
   "cell_type": "markdown",
   "id": "eb13de5a-ad0c-436f-bf28-9dff357e0743",
   "metadata": {},
   "source": [
    "## Training the model"
   ]
  },
  {
   "cell_type": "markdown",
   "id": "c3d5c21d-1056-4957-be01-13c35c6b7490",
   "metadata": {},
   "source": [
    "https://towardsdatascience.com/scale-standardize-or-normalize-with-scikit-learn-6ccc7d176a02"
   ]
  },
  {
   "cell_type": "code",
   "execution_count": 7,
   "id": "af464e38-9d0d-4354-9507-c99c16dbc7b5",
   "metadata": {},
   "outputs": [],
   "source": [
    "# Create KNN Classifier\n",
    "knn = KNeighborsClassifier(n_neighbors=5)"
   ]
  },
  {
   "cell_type": "code",
   "execution_count": 8,
   "id": "07e1374e-b79b-4204-a585-a3d95836e924",
   "metadata": {},
   "outputs": [
    {
     "data": {
      "text/plain": [
       "KNeighborsClassifier()"
      ]
     },
     "execution_count": 8,
     "metadata": {},
     "output_type": "execute_result"
    }
   ],
   "source": [
    "# Train the model using the training sets\n",
    "knn.fit(X_train_minmax, y_train)"
   ]
  },
  {
   "cell_type": "code",
   "execution_count": 9,
   "id": "2b49f4e5-5585-4a63-979f-b8d829d8c65a",
   "metadata": {},
   "outputs": [],
   "source": [
    "# Predict the response for test dataset\n",
    "y_pred = knn.predict(X_test_minmax)"
   ]
  },
  {
   "cell_type": "code",
   "execution_count": 10,
   "id": "c18fc19f-772b-450d-a92f-3ed725435eae",
   "metadata": {},
   "outputs": [
    {
     "name": "stdout",
     "output_type": "stream",
     "text": [
      "Accuracy of the model:  0.8822180779167451\n"
     ]
    }
   ],
   "source": [
    "print('Accuracy of the model: ', metrics.accuracy_score(y_test, y_pred))"
   ]
  },
  {
   "cell_type": "code",
   "execution_count": 11,
   "id": "dc0ebf56-69e1-42c2-9517-6cc6cd9abcb6",
   "metadata": {},
   "outputs": [
    {
     "name": "stdout",
     "output_type": "stream",
     "text": [
      "              precision    recall  f1-score   support\n",
      "\n",
      "           0       0.77      0.90      0.83     56000\n",
      "           1       0.95      0.87      0.91    119341\n",
      "\n",
      "    accuracy                           0.88    175341\n",
      "   macro avg       0.86      0.89      0.87    175341\n",
      "weighted avg       0.89      0.88      0.88    175341\n",
      "\n"
     ]
    }
   ],
   "source": [
    "print(classification_report(y_test, y_pred))"
   ]
  },
  {
   "cell_type": "code",
   "execution_count": null,
   "id": "1fcaaf92-0511-4810-a728-1029c187b0b1",
   "metadata": {},
   "outputs": [],
   "source": []
  }
 ],
 "metadata": {
  "kernelspec": {
   "display_name": "Python 3 (ipykernel)",
   "language": "python",
   "name": "python3"
  },
  "language_info": {
   "codemirror_mode": {
    "name": "ipython",
    "version": 3
   },
   "file_extension": ".py",
   "mimetype": "text/x-python",
   "name": "python",
   "nbconvert_exporter": "python",
   "pygments_lexer": "ipython3",
   "version": "3.8.5"
  }
 },
 "nbformat": 4,
 "nbformat_minor": 5
}
