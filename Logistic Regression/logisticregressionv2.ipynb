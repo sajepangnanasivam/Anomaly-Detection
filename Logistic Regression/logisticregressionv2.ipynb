{
 "cells": [
  {
   "cell_type": "code",
   "execution_count": 1,
   "metadata": {},
   "outputs": [],
   "source": [
    "import pandas as pd\n",
    "import numpy as np\n",
    "from sklearn.metrics import classification_report, confusion_matrix, accuracy_score\n",
    "from sklearn import metrics\n",
    "import seaborn as sns\n",
    "from sklearn.linear_model import LogisticRegression\n",
    "from sklearn.model_selection import train_test_split\n",
    "from sklearn.feature_selection import RFE\n",
    "from sklearn import metrics\n",
    "from sklearn.model_selection import GridSearchCV\n",
    "from sklearn.model_selection import RepeatedStratifiedKFold\n",
    "\n",
    "\n",
    "import sys\n",
    "sys.path.append(\"..\")\n",
    "from UNSW_DFv2 import *"
   ]
  },
  {
   "cell_type": "code",
   "execution_count": 2,
   "metadata": {},
   "outputs": [
    {
     "name": "stdout",
     "output_type": "stream",
     "text": [
      "Reading Preprocessed CSV Files..\n",
      "\t Train Shape:  \t (175341, 54)\n",
      "\t Test Shape:  \t (82332, 54)\n",
      "Dataset Loaded!\n",
      "( 1 ) Reading Preprocessed CSV files..\n",
      "\t Training dataset loaded..\n",
      "\t Testing dataset loaded..\n",
      "\n",
      "( 2 ) Loading done, splitting into X and Y..\n",
      "\t ( 2.1 ) x_train Shape:  \t (175341, 53)\n",
      "\t ( 2.2 ) y_train Shape:  \t (175341,)\n",
      "\t ( 2.3 ) x_test Shape:  \t (82332, 53)\n",
      "\t ( 2.4 ) y_test Shape:  \t (82332,)\n",
      "( 3 ) Done!\n",
      "PS! Import with: x_train, x_test, y_train, y_test = XY_import()\n"
     ]
    }
   ],
   "source": [
    "train, test = DF_preprocessed_traintest()\n",
    "X_train, X_test, y_train, y_test = DF_XY()"
   ]
  },
  {
   "cell_type": "code",
   "execution_count": 3,
   "metadata": {},
   "outputs": [
    {
     "name": "stdout",
     "output_type": "stream",
     "text": [
      "(82332,)\n",
      "(82332,)\n"
     ]
    }
   ],
   "source": [
    "print(y_test.shape)\n",
    "print(y_test.shape)"
   ]
  },
  {
   "cell_type": "code",
   "execution_count": 4,
   "metadata": {},
   "outputs": [
    {
     "name": "stderr",
     "output_type": "stream",
     "text": [
      "D:\\anaconda\\lib\\site-packages\\sklearn\\linear_model\\_logistic.py:763: ConvergenceWarning: lbfgs failed to converge (status=1):\n",
      "STOP: TOTAL NO. of ITERATIONS REACHED LIMIT.\n",
      "\n",
      "Increase the number of iterations (max_iter) or scale the data as shown in:\n",
      "    https://scikit-learn.org/stable/modules/preprocessing.html\n",
      "Please also refer to the documentation for alternative solver options:\n",
      "    https://scikit-learn.org/stable/modules/linear_model.html#logistic-regression\n",
      "  n_iter_i = _check_optimize_result(\n"
     ]
    }
   ],
   "source": [
    "logreg = LogisticRegression()\n",
    "logreg.fit(X_train, y_train.values.ravel())\n",
    "y_pred_test = logreg.predict(X_test)\n",
    "y_pred_train = logreg.predict(X_train)"
   ]
  },
  {
   "cell_type": "code",
   "execution_count": 5,
   "metadata": {},
   "outputs": [
    {
     "name": "stdout",
     "output_type": "stream",
     "text": [
      "Accuracy Score test: \t 0.8133896905213039\n",
      "Accuracy Score train: \t 0.9354857107008628\n",
      "F1 Score: \t\t 0.852572591014643\n",
      "Precision Score: \t 0.7544750517985123\n",
      "Recall Score: \t\t 0.9799920585899585\n",
      "------------------------------------------------\n",
      "Classification report: \n",
      "              precision    recall  f1-score   support\n",
      "\n",
      "           0       0.96      0.61      0.75     37000\n",
      "           1       0.75      0.98      0.85     45332\n",
      "\n",
      "    accuracy                           0.81     82332\n",
      "   macro avg       0.86      0.79      0.80     82332\n",
      "weighted avg       0.85      0.81      0.80     82332\n",
      "\n"
     ]
    }
   ],
   "source": [
    "print(\"Accuracy Score test: \\t\", metrics.accuracy_score(y_test, y_pred_test))\n",
    "print(\"Accuracy Score train: \\t\", metrics.accuracy_score(y_train, y_pred_train))\n",
    "print(\"F1 Score: \\t\\t\", metrics.f1_score(y_test, y_pred_test))\n",
    "print(\"Precision Score: \\t\", metrics.precision_score(y_test, y_pred_test))\n",
    "print(\"Recall Score: \\t\\t\", metrics.recall_score(y_test, y_pred_test))\n",
    "print(\"------------------------------------------------\")\n",
    "print(\"Classification report: \")\n",
    "print(metrics.classification_report(y_test, y_pred_test))"
   ]
  },
  {
   "cell_type": "code",
   "execution_count": 12,
   "metadata": {},
   "outputs": [
    {
     "name": "stderr",
     "output_type": "stream",
     "text": [
      "D:\\anaconda\\lib\\site-packages\\sklearn\\linear_model\\_logistic.py:763: ConvergenceWarning: lbfgs failed to converge (status=1):\n",
      "STOP: TOTAL NO. of ITERATIONS REACHED LIMIT.\n",
      "\n",
      "Increase the number of iterations (max_iter) or scale the data as shown in:\n",
      "    https://scikit-learn.org/stable/modules/preprocessing.html\n",
      "Please also refer to the documentation for alternative solver options:\n",
      "    https://scikit-learn.org/stable/modules/linear_model.html#logistic-regression\n",
      "  n_iter_i = _check_optimize_result(\n"
     ]
    }
   ],
   "source": [
    "logreg = LogisticRegression(max_iter = 1000)\n",
    "logreg.fit(X_train, y_train.values.ravel())\n",
    "y_pred_test = logreg.predict(X_test)\n",
    "y_pred_train = logreg.predict(X_train)"
   ]
  },
  {
   "cell_type": "code",
   "execution_count": 13,
   "metadata": {},
   "outputs": [
    {
     "name": "stdout",
     "output_type": "stream",
     "text": [
      "Accuracy Score test: \t 0.8125030364864209\n",
      "Accuracy Score train: \t 0.9352233647578148\n",
      "F1 Score: \t\t 0.8519843134246786\n",
      "Precision Score: \t 0.7535150353623582\n",
      "Recall Score: \t\t 0.9800582370069708\n",
      "------------------------------------------------\n",
      "Classification report: \n",
      "              precision    recall  f1-score   support\n",
      "\n",
      "           0       0.96      0.61      0.74     37000\n",
      "           1       0.75      0.98      0.85     45332\n",
      "\n",
      "    accuracy                           0.81     82332\n",
      "   macro avg       0.86      0.79      0.80     82332\n",
      "weighted avg       0.85      0.81      0.80     82332\n",
      "\n"
     ]
    }
   ],
   "source": [
    "print(\"Accuracy Score test: \\t\", metrics.accuracy_score(y_test, y_pred_test))\n",
    "print(\"Accuracy Score train: \\t\", metrics.accuracy_score(y_train, y_pred_train))\n",
    "print(\"F1 Score: \\t\\t\", metrics.f1_score(y_test, y_pred_test))\n",
    "print(\"Precision Score: \\t\", metrics.precision_score(y_test, y_pred_test))\n",
    "print(\"Recall Score: \\t\\t\", metrics.recall_score(y_test, y_pred_test))\n",
    "print(\"------------------------------------------------\")\n",
    "print(\"Classification report: \")\n",
    "print(metrics.classification_report(y_test, y_pred_test))"
   ]
  },
  {
   "cell_type": "code",
   "execution_count": 36,
   "metadata": {},
   "outputs": [
    {
     "name": "stderr",
     "output_type": "stream",
     "text": [
      "D:\\anaconda\\lib\\site-packages\\sklearn\\linear_model\\_logistic.py:763: ConvergenceWarning: lbfgs failed to converge (status=1):\n",
      "STOP: TOTAL NO. of ITERATIONS REACHED LIMIT.\n",
      "\n",
      "Increase the number of iterations (max_iter) or scale the data as shown in:\n",
      "    https://scikit-learn.org/stable/modules/preprocessing.html\n",
      "Please also refer to the documentation for alternative solver options:\n",
      "    https://scikit-learn.org/stable/modules/linear_model.html#logistic-regression\n",
      "  n_iter_i = _check_optimize_result(\n"
     ]
    },
    {
     "name": "stdout",
     "output_type": "stream",
     "text": [
      "Accuracy Score test: \t 0.8170699120633532\n",
      "Accuracy Score train: \t 0.9370940053952014\n",
      "F1 Score: \t\t 0.8553870970839295\n",
      "Precision Score: \t 0.7573408144180906\n",
      "Recall Score: \t\t 0.9825950763257743\n",
      "------------------------------------------------\n",
      "Classification report: \n",
      "              precision    recall  f1-score   support\n",
      "\n",
      "           0       0.97      0.61      0.75     37000\n",
      "           1       0.76      0.98      0.86     45332\n",
      "\n",
      "    accuracy                           0.82     82332\n",
      "   macro avg       0.86      0.80      0.80     82332\n",
      "weighted avg       0.85      0.82      0.81     82332\n",
      "\n"
     ]
    }
   ],
   "source": [
    "logreg = LogisticRegression(max_iter = 300, C = 500, penalty = \"l2\", solver = \"lbfgs\")\n",
    "logreg.fit(X_train, y_train.values.ravel())\n",
    "y_pred_test = logreg.predict(X_test)\n",
    "y_pred_train = logreg.predict(X_train)\n",
    "print(\"Accuracy Score test: \\t\", metrics.accuracy_score(y_test, y_pred_test))\n",
    "print(\"Accuracy Score train: \\t\", metrics.accuracy_score(y_train, y_pred_train))\n",
    "print(\"F1 Score: \\t\\t\", metrics.f1_score(y_test, y_pred_test))\n",
    "print(\"Precision Score: \\t\", metrics.precision_score(y_test, y_pred_test))\n",
    "print(\"Recall Score: \\t\\t\", metrics.recall_score(y_test, y_pred_test))\n",
    "print(\"------------------------------------------------\")\n",
    "print(\"Classification report: \")\n",
    "print(metrics.classification_report(y_test, y_pred_test))"
   ]
  },
  {
   "cell_type": "code",
   "execution_count": 22,
   "metadata": {},
   "outputs": [
    {
     "name": "stdout",
     "output_type": "stream",
     "text": [
      "Accuracy Score test: \t 0.8150293931885536\n",
      "Accuracy Score train: \t 0.9359704803782344\n",
      "F1 Score: \t\t 0.853872208948636\n",
      "Precision Score: \t 0.7556083892332512\n",
      "Recall Score: \t\t 0.9815141621812407\n",
      "------------------------------------------------\n",
      "Classification report: \n",
      "              precision    recall  f1-score   support\n",
      "\n",
      "           0       0.96      0.61      0.75     37000\n",
      "           1       0.76      0.98      0.85     45332\n",
      "\n",
      "    accuracy                           0.82     82332\n",
      "   macro avg       0.86      0.80      0.80     82332\n",
      "weighted avg       0.85      0.82      0.81     82332\n",
      "\n"
     ]
    }
   ],
   "source": [
    "print(\"Accuracy Score test: \\t\", metrics.accuracy_score(y_test, y_pred_test))\n",
    "print(\"Accuracy Score train: \\t\", metrics.accuracy_score(y_train, y_pred_train))\n",
    "print(\"F1 Score: \\t\\t\", metrics.f1_score(y_test, y_pred_test))\n",
    "print(\"Precision Score: \\t\", metrics.precision_score(y_test, y_pred_test))\n",
    "print(\"Recall Score: \\t\\t\", metrics.recall_score(y_test, y_pred_test))\n",
    "print(\"------------------------------------------------\")\n",
    "print(\"Classification report: \")\n",
    "print(metrics.classification_report(y_test, y_pred_test))\n"
   ]
  },
  {
   "cell_type": "code",
   "execution_count": 4,
   "metadata": {},
   "outputs": [],
   "source": [
    "lr = LogisticRegression()\n",
    "solvers = ['newton-cg', 'lbfgs', 'liblinear']\n",
    "penalty = ['none', 'l1', 'l2', 'elasticnet']\n",
    "c_values = [100, 10, 1.0, 0.1, 0.01]\n",
    "max_iter = [10,100,1000]\n",
    "\n",
    "grid = dict(solver=solvers, penalty=penalty, C=c_values, max_iter=max_iter)\n",
    "cv = RepeatedStratifiedKFold(n_splits = 10, n_repeats=3, random_state=1)\n",
    "grid_search = GridSearchCV(estimator=lr, n_jobs=-1, param_grid=grid, cv=cv, scoring='accuracy', error_score=0)\n",
    "grid_result = grid_search.fit(X_train, y_train)\n",
    "y_pred = grid_search.predict(X_test)\n",
    "y_pred_train = grid_search.predict(X_train)"
   ]
  },
  {
   "cell_type": "code",
   "execution_count": null,
   "metadata": {},
   "outputs": [],
   "source": [
    "print(\"best: %f using %s\" % (grid_result.best_score_, grid_result.best_params_))\n",
    "print(\"Accuracy test\", metrics.accuracy_score(y_test, y_pred))\n",
    "print(\"......................................\")\n",
    "print(\"Accuracy train\", metrics.accuracy_score(y_train, y_pred_train))"
   ]
  },
  {
   "cell_type": "code",
   "execution_count": null,
   "metadata": {},
   "outputs": [],
   "source": [
    "lr = LogisticRegression()\n",
    "solvers = ['newton-cg', 'lbfgs', 'liblinear']\n",
    "penalty = ['none', 'l1', 'l2', 'elasticnet']\n",
    "c_values = [100, 10, 1.0, 0.1, 0.01]\n",
    "max_iter = [10,100,1000]\n",
    "\n",
    "grid = dict(solver=solvers, penalty=penalty, C=c_values, max_iter=max_iter)\n",
    "cv = RepeatedStratifiedKFold(n_splits = 10, n_repeats=3, random_state=1)\n",
    "grid_search = GridSearchCV(estimator=lr, param_grid=grid, scoring='accuracy', error_score=0)\n",
    "grid_result = grid_search.fit(X_train, y_train)\n",
    "y_pred = grid_search.predict(X_test)\n",
    "y_pred_train = grid_search.predict(X_train)\n",
    "\n",
    "print(\"best: %f using %s\" % (grid_result.best_score_, grid_result.best_params_))\n",
    "print(\"Accuracy test\", metrics.accuracy_score(y_test, y_pred))\n",
    "print(\"......................................\")\n",
    "print(\"Accuracy train\", metrics.accuracy_score(y_train, y_pred_train))"
   ]
  }
 ],
 "metadata": {
  "interpreter": {
   "hash": "cc5f70855ac006f3de45a3cc3b9e7d8d53845e50458809cb162b0174266dec97"
  },
  "kernelspec": {
   "display_name": "Python 3.8.8 ('base')",
   "language": "python",
   "name": "python3"
  },
  "language_info": {
   "codemirror_mode": {
    "name": "ipython",
    "version": 3
   },
   "file_extension": ".py",
   "mimetype": "text/x-python",
   "name": "python",
   "nbconvert_exporter": "python",
   "pygments_lexer": "ipython3",
   "version": "3.8.8"
  },
  "orig_nbformat": 4
 },
 "nbformat": 4,
 "nbformat_minor": 2
}
